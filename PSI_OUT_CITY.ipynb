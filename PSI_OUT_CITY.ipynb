{
 "cells": [
  {
   "cell_type": "code",
   "execution_count": 1,
   "metadata": {},
   "outputs": [],
   "source": [
    "import pandas as pd\n",
    "import numpy as np"
   ]
  },
  {
   "cell_type": "markdown",
   "metadata": {},
   "source": [
    "## This Part is Client dataset manipulation!"
   ]
  },
  {
   "cell_type": "code",
   "execution_count": 2,
   "metadata": {},
   "outputs": [
    {
     "data": {
      "text/html": [
       "<div>\n",
       "<style scoped>\n",
       "    .dataframe tbody tr th:only-of-type {\n",
       "        vertical-align: middle;\n",
       "    }\n",
       "\n",
       "    .dataframe tbody tr th {\n",
       "        vertical-align: top;\n",
       "    }\n",
       "\n",
       "    .dataframe thead th {\n",
       "        text-align: right;\n",
       "    }\n",
       "</style>\n",
       "<table border=\"1\" class=\"dataframe\">\n",
       "  <thead>\n",
       "    <tr style=\"text-align: right;\">\n",
       "      <th></th>\n",
       "      <th>PersonalID</th>\n",
       "      <th>DOB</th>\n",
       "      <th>DOBDataQuality</th>\n",
       "      <th>AmIndAKNative</th>\n",
       "      <th>Asian</th>\n",
       "      <th>BlackAfAmerican</th>\n",
       "      <th>NativeHIOtherPacific</th>\n",
       "      <th>White</th>\n",
       "      <th>RaceNone</th>\n",
       "      <th>Ethnicity</th>\n",
       "      <th>...</th>\n",
       "      <th>IraqOIF</th>\n",
       "      <th>IraqOND</th>\n",
       "      <th>OtherTheater</th>\n",
       "      <th>MilitaryBranch</th>\n",
       "      <th>DischargeStatus</th>\n",
       "      <th>DateCreated</th>\n",
       "      <th>DateUpdated</th>\n",
       "      <th>UserID</th>\n",
       "      <th>DateDeleted</th>\n",
       "      <th>ExportID</th>\n",
       "    </tr>\n",
       "  </thead>\n",
       "  <tbody>\n",
       "    <tr>\n",
       "      <th>0</th>\n",
       "      <td>322564</td>\n",
       "      <td>6/29/1974</td>\n",
       "      <td>1</td>\n",
       "      <td>0</td>\n",
       "      <td>0</td>\n",
       "      <td>1</td>\n",
       "      <td>0</td>\n",
       "      <td>0</td>\n",
       "      <td>NaN</td>\n",
       "      <td>0</td>\n",
       "      <td>...</td>\n",
       "      <td>NaN</td>\n",
       "      <td>NaN</td>\n",
       "      <td>NaN</td>\n",
       "      <td>NaN</td>\n",
       "      <td>NaN</td>\n",
       "      <td>3/12/2008 0:13</td>\n",
       "      <td>11/29/2016 15:24</td>\n",
       "      <td>2232</td>\n",
       "      <td>NaN</td>\n",
       "      <td>633198d622178ca80a9fc4ff141bb705</td>\n",
       "    </tr>\n",
       "    <tr>\n",
       "      <th>1</th>\n",
       "      <td>591045</td>\n",
       "      <td>11/10/1955</td>\n",
       "      <td>1</td>\n",
       "      <td>0</td>\n",
       "      <td>0</td>\n",
       "      <td>0</td>\n",
       "      <td>0</td>\n",
       "      <td>1</td>\n",
       "      <td>NaN</td>\n",
       "      <td>1</td>\n",
       "      <td>...</td>\n",
       "      <td>NaN</td>\n",
       "      <td>NaN</td>\n",
       "      <td>NaN</td>\n",
       "      <td>NaN</td>\n",
       "      <td>NaN</td>\n",
       "      <td>1/20/2013 21:45</td>\n",
       "      <td>4/30/2018 21:05</td>\n",
       "      <td>2405</td>\n",
       "      <td>NaN</td>\n",
       "      <td>633198d622178ca80a9fc4ff141bb705</td>\n",
       "    </tr>\n",
       "    <tr>\n",
       "      <th>2</th>\n",
       "      <td>322568</td>\n",
       "      <td>11/7/1945</td>\n",
       "      <td>1</td>\n",
       "      <td>0</td>\n",
       "      <td>0</td>\n",
       "      <td>1</td>\n",
       "      <td>0</td>\n",
       "      <td>0</td>\n",
       "      <td>NaN</td>\n",
       "      <td>0</td>\n",
       "      <td>...</td>\n",
       "      <td>NaN</td>\n",
       "      <td>NaN</td>\n",
       "      <td>NaN</td>\n",
       "      <td>NaN</td>\n",
       "      <td>NaN</td>\n",
       "      <td>3/12/2008 0:26</td>\n",
       "      <td>12/10/2013 18:43</td>\n",
       "      <td>1401</td>\n",
       "      <td>NaN</td>\n",
       "      <td>633198d622178ca80a9fc4ff141bb705</td>\n",
       "    </tr>\n",
       "    <tr>\n",
       "      <th>3</th>\n",
       "      <td>291582</td>\n",
       "      <td>9/21/1962</td>\n",
       "      <td>1</td>\n",
       "      <td>0</td>\n",
       "      <td>0</td>\n",
       "      <td>0</td>\n",
       "      <td>0</td>\n",
       "      <td>1</td>\n",
       "      <td>NaN</td>\n",
       "      <td>0</td>\n",
       "      <td>...</td>\n",
       "      <td>NaN</td>\n",
       "      <td>NaN</td>\n",
       "      <td>NaN</td>\n",
       "      <td>NaN</td>\n",
       "      <td>NaN</td>\n",
       "      <td>3/11/2008 23:43</td>\n",
       "      <td>6/2/2015 15:07</td>\n",
       "      <td>1183</td>\n",
       "      <td>NaN</td>\n",
       "      <td>633198d622178ca80a9fc4ff141bb705</td>\n",
       "    </tr>\n",
       "    <tr>\n",
       "      <th>4</th>\n",
       "      <td>322572</td>\n",
       "      <td>12/27/1961</td>\n",
       "      <td>1</td>\n",
       "      <td>0</td>\n",
       "      <td>0</td>\n",
       "      <td>1</td>\n",
       "      <td>0</td>\n",
       "      <td>0</td>\n",
       "      <td>NaN</td>\n",
       "      <td>0</td>\n",
       "      <td>...</td>\n",
       "      <td>NaN</td>\n",
       "      <td>NaN</td>\n",
       "      <td>NaN</td>\n",
       "      <td>NaN</td>\n",
       "      <td>NaN</td>\n",
       "      <td>3/12/2008 0:18</td>\n",
       "      <td>4/4/2018 20:26</td>\n",
       "      <td>2071</td>\n",
       "      <td>NaN</td>\n",
       "      <td>633198d622178ca80a9fc4ff141bb705</td>\n",
       "    </tr>\n",
       "  </tbody>\n",
       "</table>\n",
       "<p>5 rows × 30 columns</p>\n",
       "</div>"
      ],
      "text/plain": [
       "   PersonalID         DOB  DOBDataQuality  AmIndAKNative  Asian  \\\n",
       "0      322564   6/29/1974               1              0      0   \n",
       "1      591045  11/10/1955               1              0      0   \n",
       "2      322568   11/7/1945               1              0      0   \n",
       "3      291582   9/21/1962               1              0      0   \n",
       "4      322572  12/27/1961               1              0      0   \n",
       "\n",
       "   BlackAfAmerican  NativeHIOtherPacific  White  RaceNone  Ethnicity  \\\n",
       "0                1                     0      0       NaN          0   \n",
       "1                0                     0      1       NaN          1   \n",
       "2                1                     0      0       NaN          0   \n",
       "3                0                     0      1       NaN          0   \n",
       "4                1                     0      0       NaN          0   \n",
       "\n",
       "                 ...                 IraqOIF  IraqOND  OtherTheater  \\\n",
       "0                ...                     NaN      NaN           NaN   \n",
       "1                ...                     NaN      NaN           NaN   \n",
       "2                ...                     NaN      NaN           NaN   \n",
       "3                ...                     NaN      NaN           NaN   \n",
       "4                ...                     NaN      NaN           NaN   \n",
       "\n",
       "   MilitaryBranch  DischargeStatus      DateCreated       DateUpdated  UserID  \\\n",
       "0             NaN              NaN   3/12/2008 0:13  11/29/2016 15:24    2232   \n",
       "1             NaN              NaN  1/20/2013 21:45   4/30/2018 21:05    2405   \n",
       "2             NaN              NaN   3/12/2008 0:26  12/10/2013 18:43    1401   \n",
       "3             NaN              NaN  3/11/2008 23:43    6/2/2015 15:07    1183   \n",
       "4             NaN              NaN   3/12/2008 0:18    4/4/2018 20:26    2071   \n",
       "\n",
       "   DateDeleted                          ExportID  \n",
       "0          NaN  633198d622178ca80a9fc4ff141bb705  \n",
       "1          NaN  633198d622178ca80a9fc4ff141bb705  \n",
       "2          NaN  633198d622178ca80a9fc4ff141bb705  \n",
       "3          NaN  633198d622178ca80a9fc4ff141bb705  \n",
       "4          NaN  633198d622178ca80a9fc4ff141bb705  \n",
       "\n",
       "[5 rows x 30 columns]"
      ]
     },
     "execution_count": 2,
     "metadata": {},
     "output_type": "execute_result"
    }
   ],
   "source": [
    "client = pd.read_csv('C:\\\\Users\\\\inner\\\\Documents\\\\A_HOMELESS\\\\COC\\\\Client.csv')\n",
    "client.head()"
   ]
  },
  {
   "cell_type": "code",
   "execution_count": 3,
   "metadata": {},
   "outputs": [
    {
     "data": {
      "text/plain": [
       "(39457, 30)"
      ]
     },
     "execution_count": 3,
     "metadata": {},
     "output_type": "execute_result"
    }
   ],
   "source": [
    "client.shape"
   ]
  },
  {
   "cell_type": "code",
   "execution_count": 4,
   "metadata": {},
   "outputs": [
    {
     "data": {
      "text/plain": [
       "array(['PersonalID', 'DOB', 'DOBDataQuality', 'AmIndAKNative', 'Asian',\n",
       "       'BlackAfAmerican', 'NativeHIOtherPacific', 'White', 'RaceNone',\n",
       "       'Ethnicity', 'Gender', 'OtherGender', 'VeteranStatus',\n",
       "       'YearEnteredService', 'YearSeparated', 'WorldWarII', 'KoreanWar',\n",
       "       'VietnamWar', 'DesertStorm', 'AfghanistanOEF', 'IraqOIF',\n",
       "       'IraqOND', 'OtherTheater', 'MilitaryBranch', 'DischargeStatus',\n",
       "       'DateCreated', 'DateUpdated', 'UserID', 'DateDeleted', 'ExportID'],\n",
       "      dtype=object)"
      ]
     },
     "execution_count": 4,
     "metadata": {},
     "output_type": "execute_result"
    }
   ],
   "source": [
    "client.columns.values"
   ]
  },
  {
   "cell_type": "code",
   "execution_count": 5,
   "metadata": {},
   "outputs": [
    {
     "data": {
      "text/plain": [
       "0"
      ]
     },
     "execution_count": 5,
     "metadata": {},
     "output_type": "execute_result"
    }
   ],
   "source": [
    "client.PersonalID.isnull().sum() # no missing value for PersonalID"
   ]
  },
  {
   "cell_type": "code",
   "execution_count": 6,
   "metadata": {},
   "outputs": [
    {
     "data": {
      "text/plain": [
       "28680"
      ]
     },
     "execution_count": 6,
     "metadata": {},
     "output_type": "execute_result"
    }
   ],
   "source": [
    "client.PersonalID.nunique() # how many unique individual in the dataset"
   ]
  },
  {
   "cell_type": "code",
   "execution_count": 7,
   "metadata": {},
   "outputs": [
    {
     "name": "stderr",
     "output_type": "stream",
     "text": [
      "C:\\Users\\inner\\Anaconda3\\lib\\site-packages\\ipykernel_launcher.py:1: FutureWarning: 'PersonalID' is both an index level and a column label.\n",
      "Defaulting to column, but this will raise an ambiguity error in a future version\n",
      "  \"\"\"Entry point for launching an IPython kernel.\n"
     ]
    },
    {
     "data": {
      "text/html": [
       "<div>\n",
       "<style scoped>\n",
       "    .dataframe tbody tr th:only-of-type {\n",
       "        vertical-align: middle;\n",
       "    }\n",
       "\n",
       "    .dataframe tbody tr th {\n",
       "        vertical-align: top;\n",
       "    }\n",
       "\n",
       "    .dataframe thead th {\n",
       "        text-align: right;\n",
       "    }\n",
       "</style>\n",
       "<table border=\"1\" class=\"dataframe\">\n",
       "  <thead>\n",
       "    <tr style=\"text-align: right;\">\n",
       "      <th></th>\n",
       "      <th>PersonalID</th>\n",
       "    </tr>\n",
       "    <tr>\n",
       "      <th>PersonalID</th>\n",
       "      <th></th>\n",
       "    </tr>\n",
       "  </thead>\n",
       "  <tbody>\n",
       "    <tr>\n",
       "      <th>335408</th>\n",
       "      <td>5</td>\n",
       "    </tr>\n",
       "    <tr>\n",
       "      <th>324708</th>\n",
       "      <td>5</td>\n",
       "    </tr>\n",
       "    <tr>\n",
       "      <th>323335</th>\n",
       "      <td>5</td>\n",
       "    </tr>\n",
       "    <tr>\n",
       "      <th>696856</th>\n",
       "      <td>5</td>\n",
       "    </tr>\n",
       "    <tr>\n",
       "      <th>324082</th>\n",
       "      <td>5</td>\n",
       "    </tr>\n",
       "    <tr>\n",
       "      <th>334694</th>\n",
       "      <td>5</td>\n",
       "    </tr>\n",
       "    <tr>\n",
       "      <th>327062</th>\n",
       "      <td>5</td>\n",
       "    </tr>\n",
       "    <tr>\n",
       "      <th>323132</th>\n",
       "      <td>5</td>\n",
       "    </tr>\n",
       "    <tr>\n",
       "      <th>665207</th>\n",
       "      <td>5</td>\n",
       "    </tr>\n",
       "    <tr>\n",
       "      <th>328654</th>\n",
       "      <td>5</td>\n",
       "    </tr>\n",
       "    <tr>\n",
       "      <th>323220</th>\n",
       "      <td>5</td>\n",
       "    </tr>\n",
       "    <tr>\n",
       "      <th>334487</th>\n",
       "      <td>5</td>\n",
       "    </tr>\n",
       "    <tr>\n",
       "      <th>334008</th>\n",
       "      <td>5</td>\n",
       "    </tr>\n",
       "    <tr>\n",
       "      <th>335376</th>\n",
       "      <td>5</td>\n",
       "    </tr>\n",
       "    <tr>\n",
       "      <th>385404</th>\n",
       "      <td>5</td>\n",
       "    </tr>\n",
       "    <tr>\n",
       "      <th>334210</th>\n",
       "      <td>5</td>\n",
       "    </tr>\n",
       "    <tr>\n",
       "      <th>335382</th>\n",
       "      <td>4</td>\n",
       "    </tr>\n",
       "    <tr>\n",
       "      <th>307808</th>\n",
       "      <td>4</td>\n",
       "    </tr>\n",
       "    <tr>\n",
       "      <th>334151</th>\n",
       "      <td>4</td>\n",
       "    </tr>\n",
       "    <tr>\n",
       "      <th>331833</th>\n",
       "      <td>4</td>\n",
       "    </tr>\n",
       "    <tr>\n",
       "      <th>333082</th>\n",
       "      <td>4</td>\n",
       "    </tr>\n",
       "    <tr>\n",
       "      <th>328988</th>\n",
       "      <td>4</td>\n",
       "    </tr>\n",
       "    <tr>\n",
       "      <th>323311</th>\n",
       "      <td>4</td>\n",
       "    </tr>\n",
       "    <tr>\n",
       "      <th>303602</th>\n",
       "      <td>4</td>\n",
       "    </tr>\n",
       "    <tr>\n",
       "      <th>329526</th>\n",
       "      <td>4</td>\n",
       "    </tr>\n",
       "    <tr>\n",
       "      <th>586631</th>\n",
       "      <td>4</td>\n",
       "    </tr>\n",
       "    <tr>\n",
       "      <th>323113</th>\n",
       "      <td>4</td>\n",
       "    </tr>\n",
       "    <tr>\n",
       "      <th>323313</th>\n",
       "      <td>4</td>\n",
       "    </tr>\n",
       "    <tr>\n",
       "      <th>696462</th>\n",
       "      <td>4</td>\n",
       "    </tr>\n",
       "    <tr>\n",
       "      <th>323305</th>\n",
       "      <td>4</td>\n",
       "    </tr>\n",
       "    <tr>\n",
       "      <th>...</th>\n",
       "      <td>...</td>\n",
       "    </tr>\n",
       "    <tr>\n",
       "      <th>335015</th>\n",
       "      <td>1</td>\n",
       "    </tr>\n",
       "    <tr>\n",
       "      <th>335014</th>\n",
       "      <td>1</td>\n",
       "    </tr>\n",
       "    <tr>\n",
       "      <th>335011</th>\n",
       "      <td>1</td>\n",
       "    </tr>\n",
       "    <tr>\n",
       "      <th>335010</th>\n",
       "      <td>1</td>\n",
       "    </tr>\n",
       "    <tr>\n",
       "      <th>335009</th>\n",
       "      <td>1</td>\n",
       "    </tr>\n",
       "    <tr>\n",
       "      <th>335002</th>\n",
       "      <td>1</td>\n",
       "    </tr>\n",
       "    <tr>\n",
       "      <th>335001</th>\n",
       "      <td>1</td>\n",
       "    </tr>\n",
       "    <tr>\n",
       "      <th>335000</th>\n",
       "      <td>1</td>\n",
       "    </tr>\n",
       "    <tr>\n",
       "      <th>335030</th>\n",
       "      <td>1</td>\n",
       "    </tr>\n",
       "    <tr>\n",
       "      <th>335036</th>\n",
       "      <td>1</td>\n",
       "    </tr>\n",
       "    <tr>\n",
       "      <th>335073</th>\n",
       "      <td>1</td>\n",
       "    </tr>\n",
       "    <tr>\n",
       "      <th>335038</th>\n",
       "      <td>1</td>\n",
       "    </tr>\n",
       "    <tr>\n",
       "      <th>335071</th>\n",
       "      <td>1</td>\n",
       "    </tr>\n",
       "    <tr>\n",
       "      <th>335068</th>\n",
       "      <td>1</td>\n",
       "    </tr>\n",
       "    <tr>\n",
       "      <th>335061</th>\n",
       "      <td>1</td>\n",
       "    </tr>\n",
       "    <tr>\n",
       "      <th>335060</th>\n",
       "      <td>1</td>\n",
       "    </tr>\n",
       "    <tr>\n",
       "      <th>335058</th>\n",
       "      <td>1</td>\n",
       "    </tr>\n",
       "    <tr>\n",
       "      <th>335055</th>\n",
       "      <td>1</td>\n",
       "    </tr>\n",
       "    <tr>\n",
       "      <th>335052</th>\n",
       "      <td>1</td>\n",
       "    </tr>\n",
       "    <tr>\n",
       "      <th>335051</th>\n",
       "      <td>1</td>\n",
       "    </tr>\n",
       "    <tr>\n",
       "      <th>335049</th>\n",
       "      <td>1</td>\n",
       "    </tr>\n",
       "    <tr>\n",
       "      <th>335047</th>\n",
       "      <td>1</td>\n",
       "    </tr>\n",
       "    <tr>\n",
       "      <th>335046</th>\n",
       "      <td>1</td>\n",
       "    </tr>\n",
       "    <tr>\n",
       "      <th>335045</th>\n",
       "      <td>1</td>\n",
       "    </tr>\n",
       "    <tr>\n",
       "      <th>335044</th>\n",
       "      <td>1</td>\n",
       "    </tr>\n",
       "    <tr>\n",
       "      <th>335043</th>\n",
       "      <td>1</td>\n",
       "    </tr>\n",
       "    <tr>\n",
       "      <th>335042</th>\n",
       "      <td>1</td>\n",
       "    </tr>\n",
       "    <tr>\n",
       "      <th>335041</th>\n",
       "      <td>1</td>\n",
       "    </tr>\n",
       "    <tr>\n",
       "      <th>335039</th>\n",
       "      <td>1</td>\n",
       "    </tr>\n",
       "    <tr>\n",
       "      <th>706660</th>\n",
       "      <td>1</td>\n",
       "    </tr>\n",
       "  </tbody>\n",
       "</table>\n",
       "<p>28680 rows × 1 columns</p>\n",
       "</div>"
      ],
      "text/plain": [
       "            PersonalID\n",
       "PersonalID            \n",
       "335408               5\n",
       "324708               5\n",
       "323335               5\n",
       "696856               5\n",
       "324082               5\n",
       "334694               5\n",
       "327062               5\n",
       "323132               5\n",
       "665207               5\n",
       "328654               5\n",
       "323220               5\n",
       "334487               5\n",
       "334008               5\n",
       "335376               5\n",
       "385404               5\n",
       "334210               5\n",
       "335382               4\n",
       "307808               4\n",
       "334151               4\n",
       "331833               4\n",
       "333082               4\n",
       "328988               4\n",
       "323311               4\n",
       "303602               4\n",
       "329526               4\n",
       "586631               4\n",
       "323113               4\n",
       "323313               4\n",
       "696462               4\n",
       "323305               4\n",
       "...                ...\n",
       "335015               1\n",
       "335014               1\n",
       "335011               1\n",
       "335010               1\n",
       "335009               1\n",
       "335002               1\n",
       "335001               1\n",
       "335000               1\n",
       "335030               1\n",
       "335036               1\n",
       "335073               1\n",
       "335038               1\n",
       "335071               1\n",
       "335068               1\n",
       "335061               1\n",
       "335060               1\n",
       "335058               1\n",
       "335055               1\n",
       "335052               1\n",
       "335051               1\n",
       "335049               1\n",
       "335047               1\n",
       "335046               1\n",
       "335045               1\n",
       "335044               1\n",
       "335043               1\n",
       "335042               1\n",
       "335041               1\n",
       "335039               1\n",
       "706660               1\n",
       "\n",
       "[28680 rows x 1 columns]"
      ]
     },
     "execution_count": 7,
     "metadata": {},
     "output_type": "execute_result"
    }
   ],
   "source": [
    "client.groupby(['PersonalID'])[['PersonalID']].count().sort_values(['PersonalID'], ascending = False)"
   ]
  },
  {
   "cell_type": "code",
   "execution_count": 8,
   "metadata": {},
   "outputs": [],
   "source": [
    "client.DateCreated=pd.to_datetime(client.DateCreated)\n",
    "client.DateUpdated=pd.to_datetime(client.DateUpdated)"
   ]
  },
  {
   "cell_type": "code",
   "execution_count": 9,
   "metadata": {},
   "outputs": [
    {
     "data": {
      "text/plain": [
       "0   2016-11-29 15:24:00\n",
       "1   2018-04-30 21:05:00\n",
       "2   2013-12-10 18:43:00\n",
       "3   2015-06-02 15:07:00\n",
       "4   2018-04-04 20:26:00\n",
       "Name: DateUpdated, dtype: datetime64[ns]"
      ]
     },
     "execution_count": 9,
     "metadata": {},
     "output_type": "execute_result"
    }
   ],
   "source": [
    "client.DateCreated.head()\n",
    "client.DateUpdated.head()"
   ]
  },
  {
   "cell_type": "code",
   "execution_count": 10,
   "metadata": {},
   "outputs": [
    {
     "data": {
      "text/plain": [
       "Timestamp('2018-05-30 06:08:00')"
      ]
     },
     "execution_count": 10,
     "metadata": {},
     "output_type": "execute_result"
    }
   ],
   "source": [
    "client.DateCreated.min()\n",
    "client.DateCreated.max()"
   ]
  },
  {
   "cell_type": "code",
   "execution_count": 11,
   "metadata": {},
   "outputs": [
    {
     "data": {
      "text/plain": [
       "Timestamp('2018-05-30 08:04:00')"
      ]
     },
     "execution_count": 11,
     "metadata": {},
     "output_type": "execute_result"
    }
   ],
   "source": [
    "client.DateUpdated.min()\n",
    "client.DateUpdated.max()"
   ]
  },
  {
   "cell_type": "code",
   "execution_count": 12,
   "metadata": {},
   "outputs": [
    {
     "data": {
      "text/html": [
       "<div>\n",
       "<style scoped>\n",
       "    .dataframe tbody tr th:only-of-type {\n",
       "        vertical-align: middle;\n",
       "    }\n",
       "\n",
       "    .dataframe tbody tr th {\n",
       "        vertical-align: top;\n",
       "    }\n",
       "\n",
       "    .dataframe thead th {\n",
       "        text-align: right;\n",
       "    }\n",
       "</style>\n",
       "<table border=\"1\" class=\"dataframe\">\n",
       "  <thead>\n",
       "    <tr style=\"text-align: right;\">\n",
       "      <th></th>\n",
       "      <th>PersonalID</th>\n",
       "      <th>DOB</th>\n",
       "      <th>DOBDataQuality</th>\n",
       "      <th>AmIndAKNative</th>\n",
       "      <th>Asian</th>\n",
       "      <th>BlackAfAmerican</th>\n",
       "      <th>NativeHIOtherPacific</th>\n",
       "      <th>White</th>\n",
       "      <th>RaceNone</th>\n",
       "      <th>Ethnicity</th>\n",
       "      <th>...</th>\n",
       "      <th>IraqOIF</th>\n",
       "      <th>IraqOND</th>\n",
       "      <th>OtherTheater</th>\n",
       "      <th>MilitaryBranch</th>\n",
       "      <th>DischargeStatus</th>\n",
       "      <th>DateCreated</th>\n",
       "      <th>DateUpdated</th>\n",
       "      <th>UserID</th>\n",
       "      <th>DateDeleted</th>\n",
       "      <th>ExportID</th>\n",
       "    </tr>\n",
       "  </thead>\n",
       "  <tbody>\n",
       "    <tr>\n",
       "      <th>5321</th>\n",
       "      <td>335408</td>\n",
       "      <td>4/17/1992</td>\n",
       "      <td>1</td>\n",
       "      <td>0</td>\n",
       "      <td>0</td>\n",
       "      <td>1</td>\n",
       "      <td>0</td>\n",
       "      <td>0</td>\n",
       "      <td>NaN</td>\n",
       "      <td>99</td>\n",
       "      <td>...</td>\n",
       "      <td>NaN</td>\n",
       "      <td>NaN</td>\n",
       "      <td>NaN</td>\n",
       "      <td>NaN</td>\n",
       "      <td>NaN</td>\n",
       "      <td>2016-04-28 01:54:00</td>\n",
       "      <td>2016-04-28 01:53:00</td>\n",
       "      <td>252</td>\n",
       "      <td>NaN</td>\n",
       "      <td>633198d622178ca80a9fc4ff141bb705</td>\n",
       "    </tr>\n",
       "    <tr>\n",
       "      <th>6891</th>\n",
       "      <td>335408</td>\n",
       "      <td>4/17/1992</td>\n",
       "      <td>1</td>\n",
       "      <td>0</td>\n",
       "      <td>0</td>\n",
       "      <td>1</td>\n",
       "      <td>0</td>\n",
       "      <td>0</td>\n",
       "      <td>NaN</td>\n",
       "      <td>99</td>\n",
       "      <td>...</td>\n",
       "      <td>NaN</td>\n",
       "      <td>NaN</td>\n",
       "      <td>NaN</td>\n",
       "      <td>NaN</td>\n",
       "      <td>NaN</td>\n",
       "      <td>2016-04-28 01:58:00</td>\n",
       "      <td>2016-06-11 11:54:00</td>\n",
       "      <td>221</td>\n",
       "      <td>NaN</td>\n",
       "      <td>633198d622178ca80a9fc4ff141bb705</td>\n",
       "    </tr>\n",
       "    <tr>\n",
       "      <th>12996</th>\n",
       "      <td>335408</td>\n",
       "      <td>4/17/1992</td>\n",
       "      <td>1</td>\n",
       "      <td>0</td>\n",
       "      <td>0</td>\n",
       "      <td>1</td>\n",
       "      <td>0</td>\n",
       "      <td>0</td>\n",
       "      <td>NaN</td>\n",
       "      <td>99</td>\n",
       "      <td>...</td>\n",
       "      <td>NaN</td>\n",
       "      <td>NaN</td>\n",
       "      <td>NaN</td>\n",
       "      <td>NaN</td>\n",
       "      <td>NaN</td>\n",
       "      <td>2016-04-28 01:53:00</td>\n",
       "      <td>2016-04-28 01:53:00</td>\n",
       "      <td>252</td>\n",
       "      <td>NaN</td>\n",
       "      <td>633198d622178ca80a9fc4ff141bb705</td>\n",
       "    </tr>\n",
       "    <tr>\n",
       "      <th>13357</th>\n",
       "      <td>335408</td>\n",
       "      <td>4/17/1992</td>\n",
       "      <td>1</td>\n",
       "      <td>0</td>\n",
       "      <td>0</td>\n",
       "      <td>1</td>\n",
       "      <td>0</td>\n",
       "      <td>0</td>\n",
       "      <td>NaN</td>\n",
       "      <td>99</td>\n",
       "      <td>...</td>\n",
       "      <td>NaN</td>\n",
       "      <td>NaN</td>\n",
       "      <td>NaN</td>\n",
       "      <td>NaN</td>\n",
       "      <td>NaN</td>\n",
       "      <td>2016-04-28 01:58:00</td>\n",
       "      <td>2017-11-24 01:50:00</td>\n",
       "      <td>202</td>\n",
       "      <td>NaN</td>\n",
       "      <td>633198d622178ca80a9fc4ff141bb705</td>\n",
       "    </tr>\n",
       "    <tr>\n",
       "      <th>18924</th>\n",
       "      <td>335408</td>\n",
       "      <td>4/17/1992</td>\n",
       "      <td>1</td>\n",
       "      <td>0</td>\n",
       "      <td>0</td>\n",
       "      <td>1</td>\n",
       "      <td>0</td>\n",
       "      <td>0</td>\n",
       "      <td>NaN</td>\n",
       "      <td>0</td>\n",
       "      <td>...</td>\n",
       "      <td>NaN</td>\n",
       "      <td>NaN</td>\n",
       "      <td>NaN</td>\n",
       "      <td>NaN</td>\n",
       "      <td>NaN</td>\n",
       "      <td>2013-09-04 23:37:00</td>\n",
       "      <td>2016-09-28 18:59:00</td>\n",
       "      <td>1764</td>\n",
       "      <td>NaN</td>\n",
       "      <td>633198d622178ca80a9fc4ff141bb705</td>\n",
       "    </tr>\n",
       "  </tbody>\n",
       "</table>\n",
       "<p>5 rows × 30 columns</p>\n",
       "</div>"
      ],
      "text/plain": [
       "       PersonalID        DOB  DOBDataQuality  AmIndAKNative  Asian  \\\n",
       "5321       335408  4/17/1992               1              0      0   \n",
       "6891       335408  4/17/1992               1              0      0   \n",
       "12996      335408  4/17/1992               1              0      0   \n",
       "13357      335408  4/17/1992               1              0      0   \n",
       "18924      335408  4/17/1992               1              0      0   \n",
       "\n",
       "       BlackAfAmerican  NativeHIOtherPacific  White  RaceNone  Ethnicity  \\\n",
       "5321                 1                     0      0       NaN         99   \n",
       "6891                 1                     0      0       NaN         99   \n",
       "12996                1                     0      0       NaN         99   \n",
       "13357                1                     0      0       NaN         99   \n",
       "18924                1                     0      0       NaN          0   \n",
       "\n",
       "                     ...                 IraqOIF  IraqOND  OtherTheater  \\\n",
       "5321                 ...                     NaN      NaN           NaN   \n",
       "6891                 ...                     NaN      NaN           NaN   \n",
       "12996                ...                     NaN      NaN           NaN   \n",
       "13357                ...                     NaN      NaN           NaN   \n",
       "18924                ...                     NaN      NaN           NaN   \n",
       "\n",
       "       MilitaryBranch  DischargeStatus         DateCreated  \\\n",
       "5321              NaN              NaN 2016-04-28 01:54:00   \n",
       "6891              NaN              NaN 2016-04-28 01:58:00   \n",
       "12996             NaN              NaN 2016-04-28 01:53:00   \n",
       "13357             NaN              NaN 2016-04-28 01:58:00   \n",
       "18924             NaN              NaN 2013-09-04 23:37:00   \n",
       "\n",
       "              DateUpdated  UserID  DateDeleted  \\\n",
       "5321  2016-04-28 01:53:00     252          NaN   \n",
       "6891  2016-06-11 11:54:00     221          NaN   \n",
       "12996 2016-04-28 01:53:00     252          NaN   \n",
       "13357 2017-11-24 01:50:00     202          NaN   \n",
       "18924 2016-09-28 18:59:00    1764          NaN   \n",
       "\n",
       "                               ExportID  \n",
       "5321   633198d622178ca80a9fc4ff141bb705  \n",
       "6891   633198d622178ca80a9fc4ff141bb705  \n",
       "12996  633198d622178ca80a9fc4ff141bb705  \n",
       "13357  633198d622178ca80a9fc4ff141bb705  \n",
       "18924  633198d622178ca80a9fc4ff141bb705  \n",
       "\n",
       "[5 rows x 30 columns]"
      ]
     },
     "execution_count": 12,
     "metadata": {},
     "output_type": "execute_result"
    }
   ],
   "source": [
    "client[client.PersonalID==335408]"
   ]
  },
  {
   "cell_type": "code",
   "execution_count": 13,
   "metadata": {},
   "outputs": [
    {
     "data": {
      "text/html": [
       "<div>\n",
       "<style scoped>\n",
       "    .dataframe tbody tr th:only-of-type {\n",
       "        vertical-align: middle;\n",
       "    }\n",
       "\n",
       "    .dataframe tbody tr th {\n",
       "        vertical-align: top;\n",
       "    }\n",
       "\n",
       "    .dataframe thead th {\n",
       "        text-align: right;\n",
       "    }\n",
       "</style>\n",
       "<table border=\"1\" class=\"dataframe\">\n",
       "  <thead>\n",
       "    <tr style=\"text-align: right;\">\n",
       "      <th></th>\n",
       "      <th>DateUpdated</th>\n",
       "    </tr>\n",
       "    <tr>\n",
       "      <th>PersonalID</th>\n",
       "      <th></th>\n",
       "    </tr>\n",
       "  </thead>\n",
       "  <tbody>\n",
       "    <tr>\n",
       "      <th>200225</th>\n",
       "      <td>2014-06-19 01:04:00</td>\n",
       "    </tr>\n",
       "    <tr>\n",
       "      <th>200230</th>\n",
       "      <td>2017-02-28 19:05:00</td>\n",
       "    </tr>\n",
       "    <tr>\n",
       "      <th>200279</th>\n",
       "      <td>2012-11-16 05:47:00</td>\n",
       "    </tr>\n",
       "    <tr>\n",
       "      <th>200301</th>\n",
       "      <td>2016-05-23 18:32:00</td>\n",
       "    </tr>\n",
       "    <tr>\n",
       "      <th>200380</th>\n",
       "      <td>2018-05-25 06:32:00</td>\n",
       "    </tr>\n",
       "  </tbody>\n",
       "</table>\n",
       "</div>"
      ],
      "text/plain": [
       "                   DateUpdated\n",
       "PersonalID                    \n",
       "200225     2014-06-19 01:04:00\n",
       "200230     2017-02-28 19:05:00\n",
       "200279     2012-11-16 05:47:00\n",
       "200301     2016-05-23 18:32:00\n",
       "200380     2018-05-25 06:32:00"
      ]
     },
     "execution_count": 13,
     "metadata": {},
     "output_type": "execute_result"
    }
   ],
   "source": [
    "clientNewUpdate = pd.DataFrame(client.groupby(['PersonalID'])['DateUpdated'].max())\n",
    "clientNewUpdate.head()"
   ]
  },
  {
   "cell_type": "code",
   "execution_count": 14,
   "metadata": {},
   "outputs": [
    {
     "data": {
      "text/html": [
       "<div>\n",
       "<style scoped>\n",
       "    .dataframe tbody tr th:only-of-type {\n",
       "        vertical-align: middle;\n",
       "    }\n",
       "\n",
       "    .dataframe tbody tr th {\n",
       "        vertical-align: top;\n",
       "    }\n",
       "\n",
       "    .dataframe thead th {\n",
       "        text-align: right;\n",
       "    }\n",
       "</style>\n",
       "<table border=\"1\" class=\"dataframe\">\n",
       "  <thead>\n",
       "    <tr style=\"text-align: right;\">\n",
       "      <th></th>\n",
       "      <th>PersonalID</th>\n",
       "      <th>DateUpdated</th>\n",
       "    </tr>\n",
       "  </thead>\n",
       "  <tbody>\n",
       "    <tr>\n",
       "      <th>0</th>\n",
       "      <td>200225</td>\n",
       "      <td>2014-06-19 01:04:00</td>\n",
       "    </tr>\n",
       "    <tr>\n",
       "      <th>1</th>\n",
       "      <td>200230</td>\n",
       "      <td>2017-02-28 19:05:00</td>\n",
       "    </tr>\n",
       "    <tr>\n",
       "      <th>2</th>\n",
       "      <td>200279</td>\n",
       "      <td>2012-11-16 05:47:00</td>\n",
       "    </tr>\n",
       "    <tr>\n",
       "      <th>3</th>\n",
       "      <td>200301</td>\n",
       "      <td>2016-05-23 18:32:00</td>\n",
       "    </tr>\n",
       "    <tr>\n",
       "      <th>4</th>\n",
       "      <td>200380</td>\n",
       "      <td>2018-05-25 06:32:00</td>\n",
       "    </tr>\n",
       "  </tbody>\n",
       "</table>\n",
       "</div>"
      ],
      "text/plain": [
       "   PersonalID         DateUpdated\n",
       "0      200225 2014-06-19 01:04:00\n",
       "1      200230 2017-02-28 19:05:00\n",
       "2      200279 2012-11-16 05:47:00\n",
       "3      200301 2016-05-23 18:32:00\n",
       "4      200380 2018-05-25 06:32:00"
      ]
     },
     "execution_count": 14,
     "metadata": {},
     "output_type": "execute_result"
    }
   ],
   "source": [
    "clientNewUpdate.reset_index(inplace = True)\n",
    "clientNewUpdate.head()"
   ]
  },
  {
   "cell_type": "code",
   "execution_count": 15,
   "metadata": {},
   "outputs": [
    {
     "data": {
      "text/plain": [
       "(28680, 2)"
      ]
     },
     "execution_count": 15,
     "metadata": {},
     "output_type": "execute_result"
    }
   ],
   "source": [
    "clientNewUpdate.shape"
   ]
  },
  {
   "cell_type": "code",
   "execution_count": 16,
   "metadata": {},
   "outputs": [
    {
     "data": {
      "text/plain": [
       "28680"
      ]
     },
     "execution_count": 16,
     "metadata": {},
     "output_type": "execute_result"
    }
   ],
   "source": [
    "clientNewUpdate.PersonalID.nunique()"
   ]
  },
  {
   "cell_type": "code",
   "execution_count": 17,
   "metadata": {},
   "outputs": [
    {
     "data": {
      "text/html": [
       "<div>\n",
       "<style scoped>\n",
       "    .dataframe tbody tr th:only-of-type {\n",
       "        vertical-align: middle;\n",
       "    }\n",
       "\n",
       "    .dataframe tbody tr th {\n",
       "        vertical-align: top;\n",
       "    }\n",
       "\n",
       "    .dataframe thead th {\n",
       "        text-align: right;\n",
       "    }\n",
       "</style>\n",
       "<table border=\"1\" class=\"dataframe\">\n",
       "  <thead>\n",
       "    <tr style=\"text-align: right;\">\n",
       "      <th></th>\n",
       "      <th>PersonalID</th>\n",
       "      <th>DateUpdated</th>\n",
       "      <th>DOB</th>\n",
       "      <th>DOBDataQuality</th>\n",
       "      <th>AmIndAKNative</th>\n",
       "      <th>Asian</th>\n",
       "      <th>BlackAfAmerican</th>\n",
       "      <th>NativeHIOtherPacific</th>\n",
       "      <th>White</th>\n",
       "      <th>RaceNone</th>\n",
       "      <th>...</th>\n",
       "      <th>AfghanistanOEF</th>\n",
       "      <th>IraqOIF</th>\n",
       "      <th>IraqOND</th>\n",
       "      <th>OtherTheater</th>\n",
       "      <th>MilitaryBranch</th>\n",
       "      <th>DischargeStatus</th>\n",
       "      <th>DateCreated</th>\n",
       "      <th>UserID</th>\n",
       "      <th>DateDeleted</th>\n",
       "      <th>ExportID</th>\n",
       "    </tr>\n",
       "  </thead>\n",
       "  <tbody>\n",
       "    <tr>\n",
       "      <th>0</th>\n",
       "      <td>200225</td>\n",
       "      <td>2014-06-19 01:04:00</td>\n",
       "      <td>1/7/1963</td>\n",
       "      <td>1</td>\n",
       "      <td>0</td>\n",
       "      <td>0</td>\n",
       "      <td>0</td>\n",
       "      <td>0</td>\n",
       "      <td>1</td>\n",
       "      <td>NaN</td>\n",
       "      <td>...</td>\n",
       "      <td>NaN</td>\n",
       "      <td>NaN</td>\n",
       "      <td>NaN</td>\n",
       "      <td>NaN</td>\n",
       "      <td>NaN</td>\n",
       "      <td>NaN</td>\n",
       "      <td>2008-03-12 00:18:00</td>\n",
       "      <td>488</td>\n",
       "      <td>NaN</td>\n",
       "      <td>633198d622178ca80a9fc4ff141bb705</td>\n",
       "    </tr>\n",
       "    <tr>\n",
       "      <th>1</th>\n",
       "      <td>200230</td>\n",
       "      <td>2017-02-28 19:05:00</td>\n",
       "      <td>11/5/1956</td>\n",
       "      <td>1</td>\n",
       "      <td>0</td>\n",
       "      <td>0</td>\n",
       "      <td>0</td>\n",
       "      <td>0</td>\n",
       "      <td>1</td>\n",
       "      <td>NaN</td>\n",
       "      <td>...</td>\n",
       "      <td>NaN</td>\n",
       "      <td>NaN</td>\n",
       "      <td>NaN</td>\n",
       "      <td>NaN</td>\n",
       "      <td>NaN</td>\n",
       "      <td>NaN</td>\n",
       "      <td>2008-03-11 23:27:00</td>\n",
       "      <td>117</td>\n",
       "      <td>NaN</td>\n",
       "      <td>633198d622178ca80a9fc4ff141bb705</td>\n",
       "    </tr>\n",
       "    <tr>\n",
       "      <th>2</th>\n",
       "      <td>200279</td>\n",
       "      <td>2012-11-16 05:47:00</td>\n",
       "      <td>8/28/1938</td>\n",
       "      <td>1</td>\n",
       "      <td>0</td>\n",
       "      <td>0</td>\n",
       "      <td>1</td>\n",
       "      <td>0</td>\n",
       "      <td>0</td>\n",
       "      <td>NaN</td>\n",
       "      <td>...</td>\n",
       "      <td>NaN</td>\n",
       "      <td>NaN</td>\n",
       "      <td>NaN</td>\n",
       "      <td>NaN</td>\n",
       "      <td>NaN</td>\n",
       "      <td>NaN</td>\n",
       "      <td>2008-03-11 23:44:00</td>\n",
       "      <td>196</td>\n",
       "      <td>NaN</td>\n",
       "      <td>633198d622178ca80a9fc4ff141bb705</td>\n",
       "    </tr>\n",
       "    <tr>\n",
       "      <th>3</th>\n",
       "      <td>200301</td>\n",
       "      <td>2016-05-23 18:32:00</td>\n",
       "      <td>7/11/1961</td>\n",
       "      <td>1</td>\n",
       "      <td>0</td>\n",
       "      <td>0</td>\n",
       "      <td>0</td>\n",
       "      <td>0</td>\n",
       "      <td>1</td>\n",
       "      <td>NaN</td>\n",
       "      <td>...</td>\n",
       "      <td>NaN</td>\n",
       "      <td>NaN</td>\n",
       "      <td>NaN</td>\n",
       "      <td>NaN</td>\n",
       "      <td>NaN</td>\n",
       "      <td>NaN</td>\n",
       "      <td>2008-03-11 23:44:00</td>\n",
       "      <td>490</td>\n",
       "      <td>NaN</td>\n",
       "      <td>633198d622178ca80a9fc4ff141bb705</td>\n",
       "    </tr>\n",
       "    <tr>\n",
       "      <th>4</th>\n",
       "      <td>200380</td>\n",
       "      <td>2018-05-25 06:32:00</td>\n",
       "      <td>12/9/1974</td>\n",
       "      <td>1</td>\n",
       "      <td>0</td>\n",
       "      <td>0</td>\n",
       "      <td>0</td>\n",
       "      <td>0</td>\n",
       "      <td>0</td>\n",
       "      <td>99.0</td>\n",
       "      <td>...</td>\n",
       "      <td>NaN</td>\n",
       "      <td>NaN</td>\n",
       "      <td>NaN</td>\n",
       "      <td>NaN</td>\n",
       "      <td>NaN</td>\n",
       "      <td>NaN</td>\n",
       "      <td>2018-05-25 06:32:00</td>\n",
       "      <td>2297</td>\n",
       "      <td>NaN</td>\n",
       "      <td>633198d622178ca80a9fc4ff141bb705</td>\n",
       "    </tr>\n",
       "  </tbody>\n",
       "</table>\n",
       "<p>5 rows × 30 columns</p>\n",
       "</div>"
      ],
      "text/plain": [
       "   PersonalID         DateUpdated        DOB  DOBDataQuality  AmIndAKNative  \\\n",
       "0      200225 2014-06-19 01:04:00   1/7/1963               1              0   \n",
       "1      200230 2017-02-28 19:05:00  11/5/1956               1              0   \n",
       "2      200279 2012-11-16 05:47:00  8/28/1938               1              0   \n",
       "3      200301 2016-05-23 18:32:00  7/11/1961               1              0   \n",
       "4      200380 2018-05-25 06:32:00  12/9/1974               1              0   \n",
       "\n",
       "   Asian  BlackAfAmerican  NativeHIOtherPacific  White  RaceNone  \\\n",
       "0      0                0                     0      1       NaN   \n",
       "1      0                0                     0      1       NaN   \n",
       "2      0                1                     0      0       NaN   \n",
       "3      0                0                     0      1       NaN   \n",
       "4      0                0                     0      0      99.0   \n",
       "\n",
       "                 ...                 AfghanistanOEF  IraqOIF  IraqOND  \\\n",
       "0                ...                            NaN      NaN      NaN   \n",
       "1                ...                            NaN      NaN      NaN   \n",
       "2                ...                            NaN      NaN      NaN   \n",
       "3                ...                            NaN      NaN      NaN   \n",
       "4                ...                            NaN      NaN      NaN   \n",
       "\n",
       "   OtherTheater  MilitaryBranch  DischargeStatus         DateCreated  UserID  \\\n",
       "0           NaN             NaN              NaN 2008-03-12 00:18:00     488   \n",
       "1           NaN             NaN              NaN 2008-03-11 23:27:00     117   \n",
       "2           NaN             NaN              NaN 2008-03-11 23:44:00     196   \n",
       "3           NaN             NaN              NaN 2008-03-11 23:44:00     490   \n",
       "4           NaN             NaN              NaN 2018-05-25 06:32:00    2297   \n",
       "\n",
       "   DateDeleted                          ExportID  \n",
       "0          NaN  633198d622178ca80a9fc4ff141bb705  \n",
       "1          NaN  633198d622178ca80a9fc4ff141bb705  \n",
       "2          NaN  633198d622178ca80a9fc4ff141bb705  \n",
       "3          NaN  633198d622178ca80a9fc4ff141bb705  \n",
       "4          NaN  633198d622178ca80a9fc4ff141bb705  \n",
       "\n",
       "[5 rows x 30 columns]"
      ]
     },
     "execution_count": 17,
     "metadata": {},
     "output_type": "execute_result"
    }
   ],
   "source": [
    "client=pd.merge(clientNewUpdate, client, how='inner', on=['PersonalID','DateUpdated'])\n",
    "client.head()"
   ]
  },
  {
   "cell_type": "code",
   "execution_count": 18,
   "metadata": {},
   "outputs": [
    {
     "data": {
      "text/plain": [
       "(28699, 30)"
      ]
     },
     "execution_count": 18,
     "metadata": {},
     "output_type": "execute_result"
    }
   ],
   "source": [
    "client.shape #still have duplicates with the same PersonalID and DateUpdated combination"
   ]
  },
  {
   "cell_type": "code",
   "execution_count": 19,
   "metadata": {},
   "outputs": [
    {
     "data": {
      "text/plain": [
       "19"
      ]
     },
     "execution_count": 19,
     "metadata": {},
     "output_type": "execute_result"
    }
   ],
   "source": [
    "28699-28680"
   ]
  },
  {
   "cell_type": "code",
   "execution_count": 20,
   "metadata": {},
   "outputs": [
    {
     "data": {
      "text/plain": [
       "38"
      ]
     },
     "execution_count": 20,
     "metadata": {},
     "output_type": "execute_result"
    }
   ],
   "source": [
    "client.duplicated(subset=['PersonalID','DateUpdated'], keep = False) # boolean\n",
    "# https://pandas.pydata.org/pandas-docs/stable/generated/pandas.DataFrame.duplicated.html\n",
    "client.duplicated(subset=['PersonalID','DateUpdated'], keep = False).sum()"
   ]
  },
  {
   "cell_type": "code",
   "execution_count": 21,
   "metadata": {},
   "outputs": [
    {
     "name": "stdout",
     "output_type": "stream",
     "text": [
      "(38, 30)\n"
     ]
    },
    {
     "data": {
      "text/plain": [
       "19"
      ]
     },
     "execution_count": 21,
     "metadata": {},
     "output_type": "execute_result"
    }
   ],
   "source": [
    "dupInClient = client[client.duplicated(subset=['PersonalID','DateUpdated'], keep = False)]\n",
    "print(dupInClient.shape)\n",
    "dupInClient.PersonalID.nunique()"
   ]
  },
  {
   "cell_type": "code",
   "execution_count": 22,
   "metadata": {},
   "outputs": [
    {
     "data": {
      "text/plain": [
       "28661"
      ]
     },
     "execution_count": 22,
     "metadata": {},
     "output_type": "execute_result"
    }
   ],
   "source": [
    "(~client.PersonalID.isin(dupInClient['PersonalID'])).sum() # not duplicate\n",
    "#http://pandas.pydata.org/pandas-docs/version/0.17/generated/pandas.DataFrame.drop_duplicates.html\n",
    "# client.drop_duplicates(subset=['PersonalID','DateUpdated'], keep = False).shape"
   ]
  },
  {
   "cell_type": "code",
   "execution_count": 23,
   "metadata": {},
   "outputs": [
    {
     "data": {
      "text/plain": [
       "(28661, 30)"
      ]
     },
     "execution_count": 23,
     "metadata": {},
     "output_type": "execute_result"
    }
   ],
   "source": [
    "notDupInClient = client[~client.PersonalID.isin(dupInClient['PersonalID'])]\n",
    "notDupInClient.shape"
   ]
  },
  {
   "cell_type": "code",
   "execution_count": 24,
   "metadata": {},
   "outputs": [
    {
     "data": {
      "text/plain": [
       "(19, 30)"
      ]
     },
     "execution_count": 24,
     "metadata": {},
     "output_type": "execute_result"
    }
   ],
   "source": [
    "needAdd = dupInClient[dupInClient.duplicated(subset=['PersonalID','DateUpdated'], keep = 'first')]\n",
    "needAdd.shape"
   ]
  },
  {
   "cell_type": "code",
   "execution_count": 25,
   "metadata": {},
   "outputs": [
    {
     "data": {
      "text/plain": [
       "(28680, 30)"
      ]
     },
     "execution_count": 25,
     "metadata": {},
     "output_type": "execute_result"
    }
   ],
   "source": [
    "# Final full client dataset with no duplicates\n",
    "client = pd.concat([notDupInClient,needAdd])\n",
    "client.shape"
   ]
  },
  {
   "cell_type": "code",
   "execution_count": 26,
   "metadata": {},
   "outputs": [
    {
     "name": "stdout",
     "output_type": "stream",
     "text": [
      "<class 'pandas.core.frame.DataFrame'>\n",
      "Int64Index: 28680 entries, 0 to 25467\n",
      "Data columns (total 30 columns):\n",
      "PersonalID              28680 non-null int64\n",
      "DateUpdated             28680 non-null datetime64[ns]\n",
      "DOB                     28021 non-null object\n",
      "DOBDataQuality          28680 non-null int64\n",
      "AmIndAKNative           28680 non-null int64\n",
      "Asian                   28680 non-null int64\n",
      "BlackAfAmerican         28680 non-null int64\n",
      "NativeHIOtherPacific    28680 non-null int64\n",
      "White                   28680 non-null int64\n",
      "RaceNone                3494 non-null float64\n",
      "Ethnicity               28680 non-null int64\n",
      "Gender                  28680 non-null int64\n",
      "OtherGender             0 non-null float64\n",
      "VeteranStatus           28680 non-null int64\n",
      "YearEnteredService      873 non-null float64\n",
      "YearSeparated           872 non-null float64\n",
      "WorldWarII              949 non-null float64\n",
      "KoreanWar               949 non-null float64\n",
      "VietnamWar              949 non-null float64\n",
      "DesertStorm             949 non-null float64\n",
      "AfghanistanOEF          949 non-null float64\n",
      "IraqOIF                 948 non-null float64\n",
      "IraqOND                 949 non-null float64\n",
      "OtherTheater            1 non-null float64\n",
      "MilitaryBranch          1411 non-null float64\n",
      "DischargeStatus         1076 non-null float64\n",
      "DateCreated             28680 non-null datetime64[ns]\n",
      "UserID                  28680 non-null object\n",
      "DateDeleted             0 non-null float64\n",
      "ExportID                28680 non-null object\n",
      "dtypes: datetime64[ns](2), float64(15), int64(10), object(3)\n",
      "memory usage: 6.8+ MB\n"
     ]
    }
   ],
   "source": [
    "client.info()"
   ]
  },
  {
   "cell_type": "code",
   "execution_count": 27,
   "metadata": {},
   "outputs": [
    {
     "data": {
      "text/plain": [
       "array(['PersonalID', 'DateUpdated', 'DOB', 'DOBDataQuality',\n",
       "       'AmIndAKNative', 'Asian', 'BlackAfAmerican',\n",
       "       'NativeHIOtherPacific', 'White', 'RaceNone', 'Ethnicity', 'Gender',\n",
       "       'OtherGender', 'VeteranStatus', 'YearEnteredService',\n",
       "       'YearSeparated', 'WorldWarII', 'KoreanWar', 'VietnamWar',\n",
       "       'DesertStorm', 'AfghanistanOEF', 'IraqOIF', 'IraqOND',\n",
       "       'OtherTheater', 'MilitaryBranch', 'DischargeStatus', 'DateCreated',\n",
       "       'UserID', 'DateDeleted', 'ExportID'], dtype=object)"
      ]
     },
     "execution_count": 27,
     "metadata": {},
     "output_type": "execute_result"
    }
   ],
   "source": [
    "client.columns.values"
   ]
  },
  {
   "cell_type": "code",
   "execution_count": 28,
   "metadata": {},
   "outputs": [
    {
     "data": {
      "text/plain": [
       "99.0    3115\n",
       "9.0      245\n",
       "8.0      134\n",
       "Name: RaceNone, dtype: int64"
      ]
     },
     "execution_count": 28,
     "metadata": {},
     "output_type": "execute_result"
    }
   ],
   "source": [
    "client['RaceNone'].value_counts() #all are missing values"
   ]
  },
  {
   "cell_type": "code",
   "execution_count": 29,
   "metadata": {},
   "outputs": [
    {
     "data": {
      "text/plain": [
       "(28680, 10)"
      ]
     },
     "execution_count": 29,
     "metadata": {},
     "output_type": "execute_result"
    }
   ],
   "source": [
    "#final client dataset\n",
    "client = client[['PersonalID', 'DOB','AmIndAKNative', 'Asian', 'BlackAfAmerican','NativeHIOtherPacific', \\\n",
    "                 'White', 'Ethnicity','Gender','VeteranStatus']]\n",
    "client.shape"
   ]
  },
  {
   "cell_type": "code",
   "execution_count": 30,
   "metadata": {},
   "outputs": [
    {
     "name": "stdout",
     "output_type": "stream",
     "text": [
      "<class 'pandas.core.frame.DataFrame'>\n",
      "Int64Index: 28680 entries, 0 to 25467\n",
      "Data columns (total 10 columns):\n",
      "PersonalID              28680 non-null int64\n",
      "DOB                     28021 non-null object\n",
      "AmIndAKNative           28680 non-null int64\n",
      "Asian                   28680 non-null int64\n",
      "BlackAfAmerican         28680 non-null int64\n",
      "NativeHIOtherPacific    28680 non-null int64\n",
      "White                   28680 non-null int64\n",
      "Ethnicity               28680 non-null int64\n",
      "Gender                  28680 non-null int64\n",
      "VeteranStatus           28680 non-null int64\n",
      "dtypes: int64(9), object(1)\n",
      "memory usage: 2.4+ MB\n"
     ]
    }
   ],
   "source": [
    "client.info() #DOB has missing values"
   ]
  },
  {
   "cell_type": "code",
   "execution_count": 31,
   "metadata": {},
   "outputs": [],
   "source": [
    "# client = client.dropna(axis=0,subset = ['DOB'])\n",
    "# client.shape"
   ]
  },
  {
   "cell_type": "code",
   "execution_count": 32,
   "metadata": {},
   "outputs": [
    {
     "name": "stdout",
     "output_type": "stream",
     "text": [
      "0    28399\n",
      "1      281\n",
      "Name: AmIndAKNative, dtype: int64 \n",
      "\n",
      "0    28265\n",
      "1      415\n",
      "Name: Asian, dtype: int64 \n",
      "\n",
      "0    18228\n",
      "1    10452\n",
      "Name: BlackAfAmerican, dtype: int64 \n",
      "\n",
      "0    28353\n",
      "1      327\n",
      "Name: NativeHIOtherPacific, dtype: int64 \n",
      "\n",
      "0    14695\n",
      "1    13985\n",
      "Name: White, dtype: int64 \n",
      "\n"
     ]
    }
   ],
   "source": [
    "# now dealing with value 8, 9 ,99\n",
    "for race in ['AmIndAKNative', 'Asian','BlackAfAmerican', 'NativeHIOtherPacific','White']:\n",
    "    check = client[race].value_counts()\n",
    "    print(check,'\\n')"
   ]
  },
  {
   "cell_type": "code",
   "execution_count": 33,
   "metadata": {},
   "outputs": [
    {
     "name": "stdout",
     "output_type": "stream",
     "text": [
      "0     20464\n",
      "1      5052\n",
      "99     2612\n",
      "9       503\n",
      "8        49\n",
      "Name: Ethnicity, dtype: int64 \n",
      "\n",
      "1     20550\n",
      "0      7286\n",
      "99      641\n",
      "2       115\n",
      "9        53\n",
      "3        25\n",
      "4         6\n",
      "8         4\n",
      "Name: Gender, dtype: int64 \n",
      "\n",
      "0     21655\n",
      "99     3655\n",
      "1      2217\n",
      "9      1087\n",
      "8        66\n",
      "Name: VeteranStatus, dtype: int64 \n",
      "\n"
     ]
    }
   ],
   "source": [
    "for var in ['Ethnicity','Gender','VeteranStatus']:\n",
    "    check = client[var].value_counts()\n",
    "    print(check,'\\n')"
   ]
  },
  {
   "cell_type": "code",
   "execution_count": 34,
   "metadata": {},
   "outputs": [
    {
     "data": {
      "text/plain": [
       "0         1.0\n",
       "1         0.0\n",
       "2         0.0\n",
       "3         1.0\n",
       "4        99.0\n",
       "5         0.0\n",
       "6         0.0\n",
       "7         1.0\n",
       "8         0.0\n",
       "9        99.0\n",
       "10        0.0\n",
       "11       99.0\n",
       "12        0.0\n",
       "13        0.0\n",
       "14        0.0\n",
       "15        0.0\n",
       "16        0.0\n",
       "17        0.0\n",
       "18        0.0\n",
       "19        0.0\n",
       "20        0.0\n",
       "21        0.0\n",
       "22        1.0\n",
       "23        1.0\n",
       "24        0.0\n",
       "25        0.0\n",
       "26        0.0\n",
       "27        0.0\n",
       "28        1.0\n",
       "29        0.0\n",
       "         ... \n",
       "28688     0.0\n",
       "28689     0.0\n",
       "28690     0.0\n",
       "28691     0.0\n",
       "28692     1.0\n",
       "28693     0.0\n",
       "28694     0.0\n",
       "28695     1.0\n",
       "28696     1.0\n",
       "28697     0.0\n",
       "28698     0.0\n",
       "13053     0.0\n",
       "13142     0.0\n",
       "13172     0.0\n",
       "13175     0.0\n",
       "13200     1.0\n",
       "13235    99.0\n",
       "13253     0.0\n",
       "13261     1.0\n",
       "13264     0.0\n",
       "13321     0.0\n",
       "13358     0.0\n",
       "13370     0.0\n",
       "13397     1.0\n",
       "13421     0.0\n",
       "13454     1.0\n",
       "13495     0.0\n",
       "21037    99.0\n",
       "21071    99.0\n",
       "25467     1.0\n",
       "Name: Ethnicity, Length: 28680, dtype: float64"
      ]
     },
     "execution_count": 34,
     "metadata": {},
     "output_type": "execute_result"
    }
   ],
   "source": [
    "#dealing with Ethnicity\n",
    "client.Ethnicity.replace(8,np.NaN)\n",
    "#client.Ethnicity.value_counts()"
   ]
  },
  {
   "cell_type": "code",
   "execution_count": 35,
   "metadata": {},
   "outputs": [
    {
     "data": {
      "text/plain": [
       "0.0    20464\n",
       "1.0     5052\n",
       "Name: Ethnicity, dtype: int64"
      ]
     },
     "execution_count": 35,
     "metadata": {},
     "output_type": "execute_result"
    }
   ],
   "source": [
    "for n in [8,9,99]:\n",
    "    client.Ethnicity.replace(n,np.NaN,inplace = True)\n",
    "client.Ethnicity.value_counts()"
   ]
  },
  {
   "cell_type": "code",
   "execution_count": 36,
   "metadata": {},
   "outputs": [
    {
     "data": {
      "text/plain": [
       "1.0    20550\n",
       "0.0     7286\n",
       "2.0      115\n",
       "3.0       25\n",
       "4.0        6\n",
       "Name: Gender, dtype: int64"
      ]
     },
     "execution_count": 36,
     "metadata": {},
     "output_type": "execute_result"
    }
   ],
   "source": [
    "for n in [8,9,99]:\n",
    "    client.Gender.replace(n,np.NaN,inplace = True)\n",
    "client.Gender.value_counts()"
   ]
  },
  {
   "cell_type": "code",
   "execution_count": 37,
   "metadata": {},
   "outputs": [
    {
     "data": {
      "text/plain": [
       "0.0    21655\n",
       "1.0     2217\n",
       "Name: VeteranStatus, dtype: int64"
      ]
     },
     "execution_count": 37,
     "metadata": {},
     "output_type": "execute_result"
    }
   ],
   "source": [
    "for n in [8,9,99]:\n",
    "    client.VeteranStatus.replace(n,np.NaN,inplace = True)\n",
    "client.VeteranStatus.value_counts()"
   ]
  },
  {
   "cell_type": "code",
   "execution_count": 38,
   "metadata": {},
   "outputs": [
    {
     "data": {
      "text/plain": [
       "PersonalID                 0\n",
       "DOB                      659\n",
       "AmIndAKNative              0\n",
       "Asian                      0\n",
       "BlackAfAmerican            0\n",
       "NativeHIOtherPacific       0\n",
       "White                      0\n",
       "Ethnicity               3164\n",
       "Gender                   698\n",
       "VeteranStatus           4808\n",
       "dtype: int64"
      ]
     },
     "execution_count": 38,
     "metadata": {},
     "output_type": "execute_result"
    }
   ],
   "source": [
    "client.isnull().sum()"
   ]
  },
  {
   "cell_type": "code",
   "execution_count": 39,
   "metadata": {},
   "outputs": [
    {
     "data": {
      "text/plain": [
       "(28680, 10)"
      ]
     },
     "execution_count": 39,
     "metadata": {},
     "output_type": "execute_result"
    }
   ],
   "source": [
    "client.shape"
   ]
  },
  {
   "cell_type": "code",
   "execution_count": 40,
   "metadata": {},
   "outputs": [
    {
     "data": {
      "text/plain": [
       "(22874, 10)"
      ]
     },
     "execution_count": 40,
     "metadata": {},
     "output_type": "execute_result"
    }
   ],
   "source": [
    "#client without missing value\n",
    "clientForModel=client.dropna(axis=0)\n",
    "clientForModel.shape"
   ]
  },
  {
   "cell_type": "markdown",
   "metadata": {},
   "source": [
    "## Dealing with Enrollment and Exit, match them with client dataset! Select all the clients that have at least one enrollment!"
   ]
  },
  {
   "cell_type": "code",
   "execution_count": 41,
   "metadata": {},
   "outputs": [
    {
     "name": "stderr",
     "output_type": "stream",
     "text": [
      "C:\\Users\\inner\\Anaconda3\\lib\\site-packages\\IPython\\core\\interactiveshell.py:3020: DtypeWarning: Columns (7,33) have mixed types. Specify dtype option on import or set low_memory=False.\n",
      "  interactivity=interactivity, compiler=compiler, result=result)\n"
     ]
    },
    {
     "data": {
      "text/html": [
       "<div>\n",
       "<style scoped>\n",
       "    .dataframe tbody tr th:only-of-type {\n",
       "        vertical-align: middle;\n",
       "    }\n",
       "\n",
       "    .dataframe tbody tr th {\n",
       "        vertical-align: top;\n",
       "    }\n",
       "\n",
       "    .dataframe thead th {\n",
       "        text-align: right;\n",
       "    }\n",
       "</style>\n",
       "<table border=\"1\" class=\"dataframe\">\n",
       "  <thead>\n",
       "    <tr style=\"text-align: right;\">\n",
       "      <th></th>\n",
       "      <th>ExitID</th>\n",
       "      <th>EnrollmentID</th>\n",
       "      <th>PersonalID</th>\n",
       "      <th>ExitDate</th>\n",
       "      <th>Destination</th>\n",
       "      <th>OtherDestination</th>\n",
       "      <th>AssessmentDisposition</th>\n",
       "      <th>OtherDisposition</th>\n",
       "      <th>HousingAssessment</th>\n",
       "      <th>SubsidyInformation</th>\n",
       "      <th>...</th>\n",
       "      <th>EmailSocialMedia</th>\n",
       "      <th>Telephone</th>\n",
       "      <th>InPersonIndividual</th>\n",
       "      <th>InPersonGroup</th>\n",
       "      <th>CMExitReason</th>\n",
       "      <th>DateCreated</th>\n",
       "      <th>DateUpdated</th>\n",
       "      <th>UserID</th>\n",
       "      <th>DateDeleted</th>\n",
       "      <th>ExportID</th>\n",
       "    </tr>\n",
       "  </thead>\n",
       "  <tbody>\n",
       "    <tr>\n",
       "      <th>0</th>\n",
       "      <td>561</td>\n",
       "      <td>605498</td>\n",
       "      <td>527866</td>\n",
       "      <td>2017-02-28</td>\n",
       "      <td>99.0</td>\n",
       "      <td>NaN</td>\n",
       "      <td>NaN</td>\n",
       "      <td>NaN</td>\n",
       "      <td>NaN</td>\n",
       "      <td>NaN</td>\n",
       "      <td>...</td>\n",
       "      <td>NaN</td>\n",
       "      <td>NaN</td>\n",
       "      <td>NaN</td>\n",
       "      <td>NaN</td>\n",
       "      <td>NaN</td>\n",
       "      <td>2017-02-28 05:00:00</td>\n",
       "      <td>2017-02-28 05:00:00</td>\n",
       "      <td>eso</td>\n",
       "      <td>NaN</td>\n",
       "      <td>633198d622178ca80a9fc4ff141bb705</td>\n",
       "    </tr>\n",
       "    <tr>\n",
       "      <th>1</th>\n",
       "      <td>562</td>\n",
       "      <td>611912</td>\n",
       "      <td>204670</td>\n",
       "      <td>2017-04-21</td>\n",
       "      <td>12.0</td>\n",
       "      <td>NaN</td>\n",
       "      <td>NaN</td>\n",
       "      <td>NaN</td>\n",
       "      <td>NaN</td>\n",
       "      <td>NaN</td>\n",
       "      <td>...</td>\n",
       "      <td>NaN</td>\n",
       "      <td>NaN</td>\n",
       "      <td>NaN</td>\n",
       "      <td>NaN</td>\n",
       "      <td>NaN</td>\n",
       "      <td>2017-04-21 04:00:00</td>\n",
       "      <td>2017-05-09 18:44:17</td>\n",
       "      <td>pcord</td>\n",
       "      <td>NaN</td>\n",
       "      <td>633198d622178ca80a9fc4ff141bb705</td>\n",
       "    </tr>\n",
       "    <tr>\n",
       "      <th>2</th>\n",
       "      <td>564</td>\n",
       "      <td>623064</td>\n",
       "      <td>323927</td>\n",
       "      <td>2017-08-08</td>\n",
       "      <td>1.0</td>\n",
       "      <td>NaN</td>\n",
       "      <td>NaN</td>\n",
       "      <td>NaN</td>\n",
       "      <td>NaN</td>\n",
       "      <td>NaN</td>\n",
       "      <td>...</td>\n",
       "      <td>NaN</td>\n",
       "      <td>NaN</td>\n",
       "      <td>NaN</td>\n",
       "      <td>NaN</td>\n",
       "      <td>NaN</td>\n",
       "      <td>2017-08-08 04:00:00</td>\n",
       "      <td>2017-09-05 14:53:22</td>\n",
       "      <td>asiel</td>\n",
       "      <td>NaN</td>\n",
       "      <td>633198d622178ca80a9fc4ff141bb705</td>\n",
       "    </tr>\n",
       "    <tr>\n",
       "      <th>3</th>\n",
       "      <td>566</td>\n",
       "      <td>786571</td>\n",
       "      <td>531711</td>\n",
       "      <td>2017-10-26</td>\n",
       "      <td>99.0</td>\n",
       "      <td>NaN</td>\n",
       "      <td>NaN</td>\n",
       "      <td>NaN</td>\n",
       "      <td>NaN</td>\n",
       "      <td>NaN</td>\n",
       "      <td>...</td>\n",
       "      <td>NaN</td>\n",
       "      <td>NaN</td>\n",
       "      <td>NaN</td>\n",
       "      <td>NaN</td>\n",
       "      <td>NaN</td>\n",
       "      <td>2017-10-26 04:00:00</td>\n",
       "      <td>2017-10-26 04:00:00</td>\n",
       "      <td>pcord</td>\n",
       "      <td>NaN</td>\n",
       "      <td>633198d622178ca80a9fc4ff141bb705</td>\n",
       "    </tr>\n",
       "    <tr>\n",
       "      <th>4</th>\n",
       "      <td>870</td>\n",
       "      <td>11082</td>\n",
       "      <td>204709</td>\n",
       "      <td>2014-03-06</td>\n",
       "      <td>6.0</td>\n",
       "      <td>NaN</td>\n",
       "      <td>NaN</td>\n",
       "      <td>NaN</td>\n",
       "      <td>NaN</td>\n",
       "      <td>NaN</td>\n",
       "      <td>...</td>\n",
       "      <td>NaN</td>\n",
       "      <td>NaN</td>\n",
       "      <td>NaN</td>\n",
       "      <td>NaN</td>\n",
       "      <td>NaN</td>\n",
       "      <td>2014-03-06 05:00:00</td>\n",
       "      <td>2014-03-06 05:00:00</td>\n",
       "      <td>ahowl</td>\n",
       "      <td>NaN</td>\n",
       "      <td>633198d622178ca80a9fc4ff141bb705</td>\n",
       "    </tr>\n",
       "  </tbody>\n",
       "</table>\n",
       "<p>5 rows × 45 columns</p>\n",
       "</div>"
      ],
      "text/plain": [
       "   ExitID  EnrollmentID  PersonalID    ExitDate  Destination OtherDestination  \\\n",
       "0     561        605498      527866  2017-02-28         99.0              NaN   \n",
       "1     562        611912      204670  2017-04-21         12.0              NaN   \n",
       "2     564        623064      323927  2017-08-08          1.0              NaN   \n",
       "3     566        786571      531711  2017-10-26         99.0              NaN   \n",
       "4     870         11082      204709  2014-03-06          6.0              NaN   \n",
       "\n",
       "   AssessmentDisposition OtherDisposition  HousingAssessment  \\\n",
       "0                    NaN              NaN                NaN   \n",
       "1                    NaN              NaN                NaN   \n",
       "2                    NaN              NaN                NaN   \n",
       "3                    NaN              NaN                NaN   \n",
       "4                    NaN              NaN                NaN   \n",
       "\n",
       "   SubsidyInformation                ...                 EmailSocialMedia  \\\n",
       "0                 NaN                ...                              NaN   \n",
       "1                 NaN                ...                              NaN   \n",
       "2                 NaN                ...                              NaN   \n",
       "3                 NaN                ...                              NaN   \n",
       "4                 NaN                ...                              NaN   \n",
       "\n",
       "   Telephone  InPersonIndividual  InPersonGroup  CMExitReason  \\\n",
       "0        NaN                 NaN            NaN           NaN   \n",
       "1        NaN                 NaN            NaN           NaN   \n",
       "2        NaN                 NaN            NaN           NaN   \n",
       "3        NaN                 NaN            NaN           NaN   \n",
       "4        NaN                 NaN            NaN           NaN   \n",
       "\n",
       "           DateCreated          DateUpdated  UserID  DateDeleted  \\\n",
       "0  2017-02-28 05:00:00  2017-02-28 05:00:00     eso          NaN   \n",
       "1  2017-04-21 04:00:00  2017-05-09 18:44:17   pcord          NaN   \n",
       "2  2017-08-08 04:00:00  2017-09-05 14:53:22   asiel          NaN   \n",
       "3  2017-10-26 04:00:00  2017-10-26 04:00:00   pcord          NaN   \n",
       "4  2014-03-06 05:00:00  2014-03-06 05:00:00   ahowl          NaN   \n",
       "\n",
       "                           ExportID  \n",
       "0  633198d622178ca80a9fc4ff141bb705  \n",
       "1  633198d622178ca80a9fc4ff141bb705  \n",
       "2  633198d622178ca80a9fc4ff141bb705  \n",
       "3  633198d622178ca80a9fc4ff141bb705  \n",
       "4  633198d622178ca80a9fc4ff141bb705  \n",
       "\n",
       "[5 rows x 45 columns]"
      ]
     },
     "execution_count": 41,
     "metadata": {},
     "output_type": "execute_result"
    }
   ],
   "source": [
    "exittb = pd.read_csv('C:\\\\Users\\\\inner\\\\Documents\\\\A_HOMELESS\\\\COC\\\\Exit.csv')\n",
    "exittb.head()"
   ]
  },
  {
   "cell_type": "code",
   "execution_count": 42,
   "metadata": {},
   "outputs": [
    {
     "data": {
      "text/plain": [
       "(60446, 45)"
      ]
     },
     "execution_count": 42,
     "metadata": {},
     "output_type": "execute_result"
    }
   ],
   "source": [
    "exittb.shape"
   ]
  },
  {
   "cell_type": "code",
   "execution_count": 43,
   "metadata": {},
   "outputs": [
    {
     "data": {
      "text/plain": [
       "array(['ExitID', 'EnrollmentID', 'PersonalID', 'ExitDate', 'Destination',\n",
       "       'OtherDestination', 'AssessmentDisposition', 'OtherDisposition',\n",
       "       'HousingAssessment', 'SubsidyInformation',\n",
       "       'ProjectCompletionStatus', 'EarlyExitReason', 'ExchangeForSex',\n",
       "       'ExchangeForSexPastThreeMonths', 'CountOfExchangeForSex',\n",
       "       'AskedOrForcedToExchangeForSex',\n",
       "       'AskedOrForcedToExchangeForSexPastThreeMonths',\n",
       "       'WorkPlaceViolenceThreats', 'WorkplacePromiseDifference',\n",
       "       'CoercedToContinueWork', 'LaborExploitPastThreeMonths',\n",
       "       'CounselingReceived', 'IndividualCounseling', 'FamilyCounseling',\n",
       "       'GroupCounseling', 'SessionCountAtExit', 'PostExitCounselingPlan',\n",
       "       'SessionsInPlan', 'DestinationSafeClient', 'DestinationSafeWorker',\n",
       "       'PosAdultConnections', 'PosPeerConnections',\n",
       "       'PosCommunityConnections', 'AftercareDate', 'AftercareProvided',\n",
       "       'EmailSocialMedia', 'Telephone', 'InPersonIndividual',\n",
       "       'InPersonGroup', 'CMExitReason', 'DateCreated', 'DateUpdated',\n",
       "       'UserID', 'DateDeleted', 'ExportID'], dtype=object)"
      ]
     },
     "execution_count": 43,
     "metadata": {},
     "output_type": "execute_result"
    }
   ],
   "source": [
    "exittb.columns.values"
   ]
  },
  {
   "cell_type": "code",
   "execution_count": 44,
   "metadata": {},
   "outputs": [
    {
     "data": {
      "text/plain": [
       "ExitID                                          60446\n",
       "EnrollmentID                                    60098\n",
       "PersonalID                                      22693\n",
       "ExitDate                                         1577\n",
       "Destination                                        31\n",
       "OtherDestination                                  431\n",
       "AssessmentDisposition                              12\n",
       "OtherDisposition                                  113\n",
       "HousingAssessment                                  11\n",
       "SubsidyInformation                                  6\n",
       "ProjectCompletionStatus                             3\n",
       "EarlyExitReason                                     5\n",
       "ExchangeForSex                                      4\n",
       "ExchangeForSexPastThreeMonths                       1\n",
       "CountOfExchangeForSex                               1\n",
       "AskedOrForcedToExchangeForSex                       1\n",
       "AskedOrForcedToExchangeForSexPastThreeMonths        0\n",
       "WorkPlaceViolenceThreats                            2\n",
       "WorkplacePromiseDifference                          2\n",
       "CoercedToContinueWork                               0\n",
       "LaborExploitPastThreeMonths                         0\n",
       "CounselingReceived                                  1\n",
       "IndividualCounseling                                1\n",
       "FamilyCounseling                                    1\n",
       "GroupCounseling                                     1\n",
       "SessionCountAtExit                                 13\n",
       "PostExitCounselingPlan                              2\n",
       "SessionsInPlan                                      9\n",
       "DestinationSafeClient                               3\n",
       "DestinationSafeWorker                               2\n",
       "PosAdultConnections                                 2\n",
       "PosPeerConnections                                  3\n",
       "PosCommunityConnections                             3\n",
       "AftercareDate                                       6\n",
       "AftercareProvided                                   1\n",
       "EmailSocialMedia                                    2\n",
       "Telephone                                           2\n",
       "InPersonIndividual                                  2\n",
       "InPersonGroup                                       1\n",
       "CMExitReason                                        0\n",
       "DateCreated                                       992\n",
       "DateUpdated                                      5675\n",
       "UserID                                             33\n",
       "DateDeleted                                         0\n",
       "ExportID                                            1\n",
       "dtype: int64"
      ]
     },
     "execution_count": 44,
     "metadata": {},
     "output_type": "execute_result"
    }
   ],
   "source": [
    "exittb.nunique()"
   ]
  },
  {
   "cell_type": "code",
   "execution_count": 45,
   "metadata": {},
   "outputs": [],
   "source": [
    "exittb.ExitDate = pd.to_datetime(exittb.ExitDate)"
   ]
  },
  {
   "cell_type": "code",
   "execution_count": 46,
   "metadata": {},
   "outputs": [
    {
     "data": {
      "text/plain": [
       "pandas._libs.tslibs.timestamps.Timestamp"
      ]
     },
     "execution_count": 46,
     "metadata": {},
     "output_type": "execute_result"
    }
   ],
   "source": [
    "# exittb.dtypes\n",
    "type(exittb.ExitDate[0])"
   ]
  },
  {
   "cell_type": "code",
   "execution_count": 47,
   "metadata": {},
   "outputs": [
    {
     "data": {
      "text/html": [
       "<div>\n",
       "<style scoped>\n",
       "    .dataframe tbody tr th:only-of-type {\n",
       "        vertical-align: middle;\n",
       "    }\n",
       "\n",
       "    .dataframe tbody tr th {\n",
       "        vertical-align: top;\n",
       "    }\n",
       "\n",
       "    .dataframe thead th {\n",
       "        text-align: right;\n",
       "    }\n",
       "</style>\n",
       "<table border=\"1\" class=\"dataframe\">\n",
       "  <thead>\n",
       "    <tr style=\"text-align: right;\">\n",
       "      <th></th>\n",
       "      <th>ExitDate</th>\n",
       "    </tr>\n",
       "    <tr>\n",
       "      <th>EnrollmentID</th>\n",
       "      <th></th>\n",
       "    </tr>\n",
       "  </thead>\n",
       "  <tbody>\n",
       "    <tr>\n",
       "      <th>10878</th>\n",
       "      <td>2014-01-24</td>\n",
       "    </tr>\n",
       "    <tr>\n",
       "      <th>10888</th>\n",
       "      <td>2014-05-13</td>\n",
       "    </tr>\n",
       "    <tr>\n",
       "      <th>10899</th>\n",
       "      <td>2014-02-17</td>\n",
       "    </tr>\n",
       "    <tr>\n",
       "      <th>11082</th>\n",
       "      <td>2014-03-06</td>\n",
       "    </tr>\n",
       "    <tr>\n",
       "      <th>11345</th>\n",
       "      <td>2014-04-14</td>\n",
       "    </tr>\n",
       "  </tbody>\n",
       "</table>\n",
       "</div>"
      ],
      "text/plain": [
       "               ExitDate\n",
       "EnrollmentID           \n",
       "10878        2014-01-24\n",
       "10888        2014-05-13\n",
       "10899        2014-02-17\n",
       "11082        2014-03-06\n",
       "11345        2014-04-14"
      ]
     },
     "execution_count": 47,
     "metadata": {},
     "output_type": "execute_result"
    }
   ],
   "source": [
    "exitLatest = pd.DataFrame(exittb.groupby(['EnrollmentID'])['ExitDate'].max())\n",
    "exitLatest.head()"
   ]
  },
  {
   "cell_type": "code",
   "execution_count": 48,
   "metadata": {},
   "outputs": [
    {
     "data": {
      "text/plain": [
       "(60098, 1)"
      ]
     },
     "execution_count": 48,
     "metadata": {},
     "output_type": "execute_result"
    }
   ],
   "source": [
    "exitLatest.shape"
   ]
  },
  {
   "cell_type": "code",
   "execution_count": 49,
   "metadata": {},
   "outputs": [
    {
     "data": {
      "text/html": [
       "<div>\n",
       "<style scoped>\n",
       "    .dataframe tbody tr th:only-of-type {\n",
       "        vertical-align: middle;\n",
       "    }\n",
       "\n",
       "    .dataframe tbody tr th {\n",
       "        vertical-align: top;\n",
       "    }\n",
       "\n",
       "    .dataframe thead th {\n",
       "        text-align: right;\n",
       "    }\n",
       "</style>\n",
       "<table border=\"1\" class=\"dataframe\">\n",
       "  <thead>\n",
       "    <tr style=\"text-align: right;\">\n",
       "      <th></th>\n",
       "      <th>EnrollmentID</th>\n",
       "      <th>ExitDate</th>\n",
       "      <th>ExitID</th>\n",
       "      <th>PersonalID</th>\n",
       "      <th>Destination</th>\n",
       "      <th>OtherDestination</th>\n",
       "      <th>AssessmentDisposition</th>\n",
       "      <th>OtherDisposition</th>\n",
       "      <th>HousingAssessment</th>\n",
       "      <th>SubsidyInformation</th>\n",
       "      <th>...</th>\n",
       "      <th>EmailSocialMedia</th>\n",
       "      <th>Telephone</th>\n",
       "      <th>InPersonIndividual</th>\n",
       "      <th>InPersonGroup</th>\n",
       "      <th>CMExitReason</th>\n",
       "      <th>DateCreated</th>\n",
       "      <th>DateUpdated</th>\n",
       "      <th>UserID</th>\n",
       "      <th>DateDeleted</th>\n",
       "      <th>ExportID</th>\n",
       "    </tr>\n",
       "  </thead>\n",
       "  <tbody>\n",
       "    <tr>\n",
       "      <th>0</th>\n",
       "      <td>10878</td>\n",
       "      <td>2014-01-24</td>\n",
       "      <td>1196</td>\n",
       "      <td>323210</td>\n",
       "      <td>1.0</td>\n",
       "      <td>NaN</td>\n",
       "      <td>NaN</td>\n",
       "      <td>NaN</td>\n",
       "      <td>NaN</td>\n",
       "      <td>NaN</td>\n",
       "      <td>...</td>\n",
       "      <td>NaN</td>\n",
       "      <td>NaN</td>\n",
       "      <td>NaN</td>\n",
       "      <td>NaN</td>\n",
       "      <td>NaN</td>\n",
       "      <td>2014-01-24 05:00:00</td>\n",
       "      <td>2014-01-24 05:00:00</td>\n",
       "      <td>slyon</td>\n",
       "      <td>NaN</td>\n",
       "      <td>633198d622178ca80a9fc4ff141bb705</td>\n",
       "    </tr>\n",
       "    <tr>\n",
       "      <th>1</th>\n",
       "      <td>10878</td>\n",
       "      <td>2014-01-24</td>\n",
       "      <td>439257</td>\n",
       "      <td>323210</td>\n",
       "      <td>1.0</td>\n",
       "      <td>NaN</td>\n",
       "      <td>NaN</td>\n",
       "      <td>NaN</td>\n",
       "      <td>NaN</td>\n",
       "      <td>NaN</td>\n",
       "      <td>...</td>\n",
       "      <td>NaN</td>\n",
       "      <td>NaN</td>\n",
       "      <td>NaN</td>\n",
       "      <td>NaN</td>\n",
       "      <td>NaN</td>\n",
       "      <td>2014-01-24 05:00:00</td>\n",
       "      <td>2014-01-24 05:00:00</td>\n",
       "      <td>slyon</td>\n",
       "      <td>NaN</td>\n",
       "      <td>633198d622178ca80a9fc4ff141bb705</td>\n",
       "    </tr>\n",
       "    <tr>\n",
       "      <th>2</th>\n",
       "      <td>10888</td>\n",
       "      <td>2014-05-13</td>\n",
       "      <td>1206</td>\n",
       "      <td>204313</td>\n",
       "      <td>84.0</td>\n",
       "      <td>NaN</td>\n",
       "      <td>NaN</td>\n",
       "      <td>NaN</td>\n",
       "      <td>NaN</td>\n",
       "      <td>NaN</td>\n",
       "      <td>...</td>\n",
       "      <td>NaN</td>\n",
       "      <td>NaN</td>\n",
       "      <td>NaN</td>\n",
       "      <td>NaN</td>\n",
       "      <td>NaN</td>\n",
       "      <td>2014-05-13 04:00:00</td>\n",
       "      <td>2014-05-13 04:00:00</td>\n",
       "      <td>ahowl</td>\n",
       "      <td>NaN</td>\n",
       "      <td>633198d622178ca80a9fc4ff141bb705</td>\n",
       "    </tr>\n",
       "    <tr>\n",
       "      <th>3</th>\n",
       "      <td>10888</td>\n",
       "      <td>2014-05-13</td>\n",
       "      <td>439276</td>\n",
       "      <td>204313</td>\n",
       "      <td>84.0</td>\n",
       "      <td>NaN</td>\n",
       "      <td>NaN</td>\n",
       "      <td>NaN</td>\n",
       "      <td>NaN</td>\n",
       "      <td>NaN</td>\n",
       "      <td>...</td>\n",
       "      <td>NaN</td>\n",
       "      <td>NaN</td>\n",
       "      <td>NaN</td>\n",
       "      <td>NaN</td>\n",
       "      <td>NaN</td>\n",
       "      <td>2014-05-13 04:00:00</td>\n",
       "      <td>2014-05-13 04:00:00</td>\n",
       "      <td>ahowl</td>\n",
       "      <td>NaN</td>\n",
       "      <td>633198d622178ca80a9fc4ff141bb705</td>\n",
       "    </tr>\n",
       "    <tr>\n",
       "      <th>4</th>\n",
       "      <td>10899</td>\n",
       "      <td>2014-02-17</td>\n",
       "      <td>1217</td>\n",
       "      <td>204659</td>\n",
       "      <td>8.0</td>\n",
       "      <td>NaN</td>\n",
       "      <td>NaN</td>\n",
       "      <td>NaN</td>\n",
       "      <td>NaN</td>\n",
       "      <td>NaN</td>\n",
       "      <td>...</td>\n",
       "      <td>NaN</td>\n",
       "      <td>NaN</td>\n",
       "      <td>NaN</td>\n",
       "      <td>NaN</td>\n",
       "      <td>NaN</td>\n",
       "      <td>2014-02-17 05:00:00</td>\n",
       "      <td>2014-02-17 05:00:00</td>\n",
       "      <td>ahowl</td>\n",
       "      <td>NaN</td>\n",
       "      <td>633198d622178ca80a9fc4ff141bb705</td>\n",
       "    </tr>\n",
       "  </tbody>\n",
       "</table>\n",
       "<p>5 rows × 45 columns</p>\n",
       "</div>"
      ],
      "text/plain": [
       "   EnrollmentID   ExitDate  ExitID  PersonalID  Destination OtherDestination  \\\n",
       "0         10878 2014-01-24    1196      323210          1.0              NaN   \n",
       "1         10878 2014-01-24  439257      323210          1.0              NaN   \n",
       "2         10888 2014-05-13    1206      204313         84.0              NaN   \n",
       "3         10888 2014-05-13  439276      204313         84.0              NaN   \n",
       "4         10899 2014-02-17    1217      204659          8.0              NaN   \n",
       "\n",
       "   AssessmentDisposition OtherDisposition  HousingAssessment  \\\n",
       "0                    NaN              NaN                NaN   \n",
       "1                    NaN              NaN                NaN   \n",
       "2                    NaN              NaN                NaN   \n",
       "3                    NaN              NaN                NaN   \n",
       "4                    NaN              NaN                NaN   \n",
       "\n",
       "   SubsidyInformation                ...                 EmailSocialMedia  \\\n",
       "0                 NaN                ...                              NaN   \n",
       "1                 NaN                ...                              NaN   \n",
       "2                 NaN                ...                              NaN   \n",
       "3                 NaN                ...                              NaN   \n",
       "4                 NaN                ...                              NaN   \n",
       "\n",
       "   Telephone  InPersonIndividual  InPersonGroup  CMExitReason  \\\n",
       "0        NaN                 NaN            NaN           NaN   \n",
       "1        NaN                 NaN            NaN           NaN   \n",
       "2        NaN                 NaN            NaN           NaN   \n",
       "3        NaN                 NaN            NaN           NaN   \n",
       "4        NaN                 NaN            NaN           NaN   \n",
       "\n",
       "           DateCreated          DateUpdated  UserID  DateDeleted  \\\n",
       "0  2014-01-24 05:00:00  2014-01-24 05:00:00   slyon          NaN   \n",
       "1  2014-01-24 05:00:00  2014-01-24 05:00:00   slyon          NaN   \n",
       "2  2014-05-13 04:00:00  2014-05-13 04:00:00   ahowl          NaN   \n",
       "3  2014-05-13 04:00:00  2014-05-13 04:00:00   ahowl          NaN   \n",
       "4  2014-02-17 05:00:00  2014-02-17 05:00:00   ahowl          NaN   \n",
       "\n",
       "                           ExportID  \n",
       "0  633198d622178ca80a9fc4ff141bb705  \n",
       "1  633198d622178ca80a9fc4ff141bb705  \n",
       "2  633198d622178ca80a9fc4ff141bb705  \n",
       "3  633198d622178ca80a9fc4ff141bb705  \n",
       "4  633198d622178ca80a9fc4ff141bb705  \n",
       "\n",
       "[5 rows x 45 columns]"
      ]
     },
     "execution_count": 49,
     "metadata": {},
     "output_type": "execute_result"
    }
   ],
   "source": [
    "exittb=pd.merge(exitLatest, exittb, how='inner', on=['EnrollmentID','ExitDate'])\n",
    "exittb.head() ## same EnrollmentID and ExitDate Combination"
   ]
  },
  {
   "cell_type": "code",
   "execution_count": 50,
   "metadata": {},
   "outputs": [
    {
     "data": {
      "text/plain": [
       "(60446, 45)"
      ]
     },
     "execution_count": 50,
     "metadata": {},
     "output_type": "execute_result"
    }
   ],
   "source": [
    "exittb.shape"
   ]
  },
  {
   "cell_type": "code",
   "execution_count": 51,
   "metadata": {},
   "outputs": [
    {
     "data": {
      "text/plain": [
       "(60098, 45)"
      ]
     },
     "execution_count": 51,
     "metadata": {},
     "output_type": "execute_result"
    }
   ],
   "source": [
    "exittb.drop_duplicates(subset=['EnrollmentID','ExitDate'], keep='last').shape"
   ]
  },
  {
   "cell_type": "code",
   "execution_count": 52,
   "metadata": {},
   "outputs": [
    {
     "data": {
      "text/plain": [
       "(60098, 45)"
      ]
     },
     "execution_count": 52,
     "metadata": {},
     "output_type": "execute_result"
    }
   ],
   "source": [
    "# exittb without duplicates\n",
    "exittb.drop_duplicates(subset=['EnrollmentID','ExitDate'], keep ='last', inplace = True)\n",
    "exittb.shape"
   ]
  },
  {
   "cell_type": "code",
   "execution_count": 53,
   "metadata": {},
   "outputs": [
    {
     "name": "stdout",
     "output_type": "stream",
     "text": [
      "<class 'pandas.core.frame.DataFrame'>\n",
      "Int64Index: 60098 entries, 1 to 60445\n",
      "Data columns (total 4 columns):\n",
      "EnrollmentID    60098 non-null int64\n",
      "PersonalID      60098 non-null int64\n",
      "ExitDate        60098 non-null datetime64[ns]\n",
      "Destination     49572 non-null float64\n",
      "dtypes: datetime64[ns](1), float64(1), int64(2)\n",
      "memory usage: 2.3 MB\n"
     ]
    }
   ],
   "source": [
    "#final exit table\n",
    "exittb = exittb[['EnrollmentID', 'PersonalID', 'ExitDate','Destination']]\n",
    "exittb.info()"
   ]
  },
  {
   "cell_type": "code",
   "execution_count": 54,
   "metadata": {},
   "outputs": [
    {
     "name": "stderr",
     "output_type": "stream",
     "text": [
      "C:\\Users\\inner\\Anaconda3\\lib\\site-packages\\IPython\\core\\interactiveshell.py:3020: DtypeWarning: Columns (10,15,21,22,23,24,67) have mixed types. Specify dtype option on import or set low_memory=False.\n",
      "  interactivity=interactivity, compiler=compiler, result=result)\n"
     ]
    },
    {
     "data": {
      "text/html": [
       "<div>\n",
       "<style scoped>\n",
       "    .dataframe tbody tr th:only-of-type {\n",
       "        vertical-align: middle;\n",
       "    }\n",
       "\n",
       "    .dataframe tbody tr th {\n",
       "        vertical-align: top;\n",
       "    }\n",
       "\n",
       "    .dataframe thead th {\n",
       "        text-align: right;\n",
       "    }\n",
       "</style>\n",
       "<table border=\"1\" class=\"dataframe\">\n",
       "  <thead>\n",
       "    <tr style=\"text-align: right;\">\n",
       "      <th></th>\n",
       "      <th>EnrollmentID</th>\n",
       "      <th>PersonalID</th>\n",
       "      <th>ProjectID</th>\n",
       "      <th>EntryDate</th>\n",
       "      <th>HouseholdID</th>\n",
       "      <th>RelationshipToHoH</th>\n",
       "      <th>LivingSituation</th>\n",
       "      <th>LengthOfStay</th>\n",
       "      <th>LOSUnderThreshold</th>\n",
       "      <th>PreviousStreetESSH</th>\n",
       "      <th>...</th>\n",
       "      <th>IraqAfghanistan</th>\n",
       "      <th>FemVet</th>\n",
       "      <th>HPScreeningScore</th>\n",
       "      <th>ThresholdScore</th>\n",
       "      <th>VAMCStation</th>\n",
       "      <th>DateCreated</th>\n",
       "      <th>DateUpdated</th>\n",
       "      <th>UserID</th>\n",
       "      <th>DateDeleted</th>\n",
       "      <th>ExportID</th>\n",
       "    </tr>\n",
       "  </thead>\n",
       "  <tbody>\n",
       "    <tr>\n",
       "      <th>0</th>\n",
       "      <td>10878</td>\n",
       "      <td>323210.0</td>\n",
       "      <td>369</td>\n",
       "      <td>2013-09-03</td>\n",
       "      <td>41758.0</td>\n",
       "      <td>1.0</td>\n",
       "      <td>5.0</td>\n",
       "      <td>2.0</td>\n",
       "      <td>NaN</td>\n",
       "      <td>NaN</td>\n",
       "      <td>...</td>\n",
       "      <td>NaN</td>\n",
       "      <td>NaN</td>\n",
       "      <td>NaN</td>\n",
       "      <td>NaN</td>\n",
       "      <td>NaN</td>\n",
       "      <td>2013-09-03 04:00:00</td>\n",
       "      <td>2010-01-01 00:00:00</td>\n",
       "      <td>Admissions Coordinator</td>\n",
       "      <td>NaN</td>\n",
       "      <td>633198d622178ca80a9fc4ff141bb705</td>\n",
       "    </tr>\n",
       "    <tr>\n",
       "      <th>1</th>\n",
       "      <td>10888</td>\n",
       "      <td>204313.0</td>\n",
       "      <td>369</td>\n",
       "      <td>2013-09-06</td>\n",
       "      <td>41778.0</td>\n",
       "      <td>1.0</td>\n",
       "      <td>13.0</td>\n",
       "      <td>5.0</td>\n",
       "      <td>NaN</td>\n",
       "      <td>NaN</td>\n",
       "      <td>...</td>\n",
       "      <td>NaN</td>\n",
       "      <td>NaN</td>\n",
       "      <td>NaN</td>\n",
       "      <td>NaN</td>\n",
       "      <td>NaN</td>\n",
       "      <td>2013-09-06 04:00:00</td>\n",
       "      <td>2010-01-01 00:00:00</td>\n",
       "      <td>Admissions Coordinator</td>\n",
       "      <td>NaN</td>\n",
       "      <td>633198d622178ca80a9fc4ff141bb705</td>\n",
       "    </tr>\n",
       "    <tr>\n",
       "      <th>2</th>\n",
       "      <td>10899</td>\n",
       "      <td>204659.0</td>\n",
       "      <td>369</td>\n",
       "      <td>2013-09-10</td>\n",
       "      <td>41801.0</td>\n",
       "      <td>1.0</td>\n",
       "      <td>1.0</td>\n",
       "      <td>3.0</td>\n",
       "      <td>NaN</td>\n",
       "      <td>NaN</td>\n",
       "      <td>...</td>\n",
       "      <td>NaN</td>\n",
       "      <td>NaN</td>\n",
       "      <td>NaN</td>\n",
       "      <td>NaN</td>\n",
       "      <td>NaN</td>\n",
       "      <td>2013-09-10 04:00:00</td>\n",
       "      <td>2010-01-01 00:00:00</td>\n",
       "      <td>Admissions Coordinator</td>\n",
       "      <td>NaN</td>\n",
       "      <td>633198d622178ca80a9fc4ff141bb705</td>\n",
       "    </tr>\n",
       "    <tr>\n",
       "      <th>3</th>\n",
       "      <td>11082</td>\n",
       "      <td>204709.0</td>\n",
       "      <td>369</td>\n",
       "      <td>2013-07-17</td>\n",
       "      <td>41469.0</td>\n",
       "      <td>1.0</td>\n",
       "      <td>12.0</td>\n",
       "      <td>4.0</td>\n",
       "      <td>NaN</td>\n",
       "      <td>NaN</td>\n",
       "      <td>...</td>\n",
       "      <td>NaN</td>\n",
       "      <td>NaN</td>\n",
       "      <td>NaN</td>\n",
       "      <td>NaN</td>\n",
       "      <td>NaN</td>\n",
       "      <td>2013-07-17 04:00:00</td>\n",
       "      <td>2010-01-01 00:00:00</td>\n",
       "      <td>Admissions Coordinator</td>\n",
       "      <td>NaN</td>\n",
       "      <td>633198d622178ca80a9fc4ff141bb705</td>\n",
       "    </tr>\n",
       "    <tr>\n",
       "      <th>4</th>\n",
       "      <td>11345</td>\n",
       "      <td>204635.0</td>\n",
       "      <td>369</td>\n",
       "      <td>2013-10-30</td>\n",
       "      <td>42115.0</td>\n",
       "      <td>1.0</td>\n",
       "      <td>16.0</td>\n",
       "      <td>11.0</td>\n",
       "      <td>NaN</td>\n",
       "      <td>NaN</td>\n",
       "      <td>...</td>\n",
       "      <td>NaN</td>\n",
       "      <td>NaN</td>\n",
       "      <td>NaN</td>\n",
       "      <td>NaN</td>\n",
       "      <td>NaN</td>\n",
       "      <td>2013-10-30 04:00:00</td>\n",
       "      <td>2010-01-01 00:00:00</td>\n",
       "      <td>Admissions Coordinator</td>\n",
       "      <td>NaN</td>\n",
       "      <td>633198d622178ca80a9fc4ff141bb705</td>\n",
       "    </tr>\n",
       "  </tbody>\n",
       "</table>\n",
       "<p>5 rows × 70 columns</p>\n",
       "</div>"
      ],
      "text/plain": [
       "   EnrollmentID  PersonalID  ProjectID   EntryDate  HouseholdID  \\\n",
       "0         10878    323210.0        369  2013-09-03      41758.0   \n",
       "1         10888    204313.0        369  2013-09-06      41778.0   \n",
       "2         10899    204659.0        369  2013-09-10      41801.0   \n",
       "3         11082    204709.0        369  2013-07-17      41469.0   \n",
       "4         11345    204635.0        369  2013-10-30      42115.0   \n",
       "\n",
       "   RelationshipToHoH  LivingSituation  LengthOfStay  LOSUnderThreshold  \\\n",
       "0                1.0              5.0           2.0                NaN   \n",
       "1                1.0             13.0           5.0                NaN   \n",
       "2                1.0              1.0           3.0                NaN   \n",
       "3                1.0             12.0           4.0                NaN   \n",
       "4                1.0             16.0          11.0                NaN   \n",
       "\n",
       "   PreviousStreetESSH                ...                IraqAfghanistan  \\\n",
       "0                 NaN                ...                            NaN   \n",
       "1                 NaN                ...                            NaN   \n",
       "2                 NaN                ...                            NaN   \n",
       "3                 NaN                ...                            NaN   \n",
       "4                 NaN                ...                            NaN   \n",
       "\n",
       "   FemVet  HPScreeningScore  ThresholdScore VAMCStation          DateCreated  \\\n",
       "0     NaN               NaN             NaN         NaN  2013-09-03 04:00:00   \n",
       "1     NaN               NaN             NaN         NaN  2013-09-06 04:00:00   \n",
       "2     NaN               NaN             NaN         NaN  2013-09-10 04:00:00   \n",
       "3     NaN               NaN             NaN         NaN  2013-07-17 04:00:00   \n",
       "4     NaN               NaN             NaN         NaN  2013-10-30 04:00:00   \n",
       "\n",
       "           DateUpdated                  UserID  DateDeleted  \\\n",
       "0  2010-01-01 00:00:00  Admissions Coordinator          NaN   \n",
       "1  2010-01-01 00:00:00  Admissions Coordinator          NaN   \n",
       "2  2010-01-01 00:00:00  Admissions Coordinator          NaN   \n",
       "3  2010-01-01 00:00:00  Admissions Coordinator          NaN   \n",
       "4  2010-01-01 00:00:00  Admissions Coordinator          NaN   \n",
       "\n",
       "                           ExportID  \n",
       "0  633198d622178ca80a9fc4ff141bb705  \n",
       "1  633198d622178ca80a9fc4ff141bb705  \n",
       "2  633198d622178ca80a9fc4ff141bb705  \n",
       "3  633198d622178ca80a9fc4ff141bb705  \n",
       "4  633198d622178ca80a9fc4ff141bb705  \n",
       "\n",
       "[5 rows x 70 columns]"
      ]
     },
     "execution_count": 54,
     "metadata": {},
     "output_type": "execute_result"
    }
   ],
   "source": [
    "enrollment = pd.read_csv('C:\\\\Users\\\\inner\\\\Documents\\\\A_HOMELESS\\\\COC\\\\Enrollment.csv')\n",
    "enrollment.head()"
   ]
  },
  {
   "cell_type": "code",
   "execution_count": 55,
   "metadata": {},
   "outputs": [
    {
     "data": {
      "text/plain": [
       "(74564, 70)"
      ]
     },
     "execution_count": 55,
     "metadata": {},
     "output_type": "execute_result"
    }
   ],
   "source": [
    "enrollment.shape"
   ]
  },
  {
   "cell_type": "code",
   "execution_count": 56,
   "metadata": {},
   "outputs": [
    {
     "data": {
      "text/plain": [
       "EnrollmentID                       74564\n",
       "PersonalID                         28680\n",
       "ProjectID                             22\n",
       "EntryDate                           2235\n",
       "HouseholdID                        29606\n",
       "RelationshipToHoH                      5\n",
       "LivingSituation                       25\n",
       "LengthOfStay                           9\n",
       "LOSUnderThreshold                      2\n",
       "PreviousStreetESSH                     2\n",
       "DateToStreetESSH                    3629\n",
       "TimesHomelessPastThreeYears            7\n",
       "MonthsHomelessPastThreeYears          16\n",
       "DisablingCondition                     5\n",
       "DateOfEngagement                     639\n",
       "MoveInDate                           110\n",
       "DateOfPATHStatus                       0\n",
       "ClientEnrolledInPATH                   1\n",
       "ReasonNotEnrolled                      0\n",
       "WorstHousingSituation                  1\n",
       "PercentAMI                             0\n",
       "LastPermanentStreet                  324\n",
       "LastPermanentCity                    210\n",
       "LastPermanentState                    42\n",
       "LastPermanentZIP                    2908\n",
       "AddressDataQuality                     5\n",
       "DateOfBCPStatus                        0\n",
       "EligibleForRHY                         2\n",
       "ReasonNoServices                       0\n",
       "RunawayYouth                           0\n",
       "                                   ...  \n",
       "AlcoholDrugAbuseFam                    3\n",
       "InsufficientIncome                     3\n",
       "IncarceratedParent                     2\n",
       "ReferralSource                        12\n",
       "CountOutreachReferralApproaches        0\n",
       "UrgentReferral                         0\n",
       "TimeToHousingLoss                      0\n",
       "ZeroIncome                             0\n",
       "AnnualPercentAMI                       0\n",
       "FinancialChange                        0\n",
       "HouseholdChange                        0\n",
       "EvictionHistory                        0\n",
       "SubsidyAtRisk                          0\n",
       "LiteralHomelessHistory                 0\n",
       "DisabledHoH                            0\n",
       "CriminalRecord                         0\n",
       "SexOffender                            0\n",
       "DependentUnder6                        0\n",
       "SingleParent                           0\n",
       "HH5Plus                                0\n",
       "IraqAfghanistan                        0\n",
       "FemVet                                 0\n",
       "HPScreeningScore                       0\n",
       "ThresholdScore                         0\n",
       "VAMCStation                            0\n",
       "DateCreated                        72259\n",
       "DateUpdated                        51641\n",
       "UserID                               447\n",
       "DateDeleted                            0\n",
       "ExportID                               1\n",
       "Length: 70, dtype: int64"
      ]
     },
     "execution_count": 56,
     "metadata": {},
     "output_type": "execute_result"
    }
   ],
   "source": [
    "enrollment.nunique() #no duplicate enrollments"
   ]
  },
  {
   "cell_type": "code",
   "execution_count": 57,
   "metadata": {},
   "outputs": [
    {
     "name": "stdout",
     "output_type": "stream",
     "text": [
      "<class 'pandas.core.frame.DataFrame'>\n",
      "RangeIndex: 74564 entries, 0 to 74563\n",
      "Data columns (total 70 columns):\n",
      "EnrollmentID                       74564 non-null int64\n",
      "PersonalID                         74547 non-null float64\n",
      "ProjectID                          74564 non-null int64\n",
      "EntryDate                          74564 non-null object\n",
      "HouseholdID                        62345 non-null float64\n",
      "RelationshipToHoH                  60728 non-null float64\n",
      "LivingSituation                    58842 non-null float64\n",
      "LengthOfStay                       58592 non-null float64\n",
      "LOSUnderThreshold                  63 non-null float64\n",
      "PreviousStreetESSH                 167 non-null float64\n",
      "DateToStreetESSH                   27131 non-null object\n",
      "TimesHomelessPastThreeYears        41086 non-null float64\n",
      "MonthsHomelessPastThreeYears       31649 non-null float64\n",
      "DisablingCondition                 73199 non-null float64\n",
      "DateOfEngagement                   3671 non-null object\n",
      "MoveInDate                         185 non-null object\n",
      "DateOfPATHStatus                   0 non-null float64\n",
      "ClientEnrolledInPATH               2222 non-null float64\n",
      "ReasonNotEnrolled                  0 non-null float64\n",
      "WorstHousingSituation              2222 non-null float64\n",
      "PercentAMI                         0 non-null float64\n",
      "LastPermanentStreet                369 non-null object\n",
      "LastPermanentCity                  565 non-null object\n",
      "LastPermanentState                 565 non-null object\n",
      "LastPermanentZIP                   42708 non-null object\n",
      "AddressDataQuality                 22105 non-null float64\n",
      "DateOfBCPStatus                    0 non-null float64\n",
      "EligibleForRHY                     2224 non-null float64\n",
      "ReasonNoServices                   0 non-null float64\n",
      "RunawayYouth                       0 non-null float64\n",
      "SexualOrientation                  374 non-null float64\n",
      "FormerWardChildWelfare             2444 non-null float64\n",
      "ChildWelfareYears                  16 non-null float64\n",
      "ChildWelfareMonths                 16 non-null float64\n",
      "FormerWardJuvenileJustice          2451 non-null float64\n",
      "JuvenileJusticeYears               1 non-null float64\n",
      "JuvenileJusticeMonths              2223 non-null float64\n",
      "UnemploymentFam                    2442 non-null float64\n",
      "MentalHealthIssuesFam              2441 non-null float64\n",
      "PhysicalDisabilityFam              2442 non-null float64\n",
      "AlcoholDrugAbuseFam                2442 non-null float64\n",
      "InsufficientIncome                 2442 non-null float64\n",
      "IncarceratedParent                 2441 non-null float64\n",
      "ReferralSource                     2449 non-null float64\n",
      "CountOutreachReferralApproaches    0 non-null float64\n",
      "UrgentReferral                     0 non-null float64\n",
      "TimeToHousingLoss                  0 non-null float64\n",
      "ZeroIncome                         0 non-null float64\n",
      "AnnualPercentAMI                   0 non-null float64\n",
      "FinancialChange                    0 non-null float64\n",
      "HouseholdChange                    0 non-null float64\n",
      "EvictionHistory                    0 non-null float64\n",
      "SubsidyAtRisk                      0 non-null float64\n",
      "LiteralHomelessHistory             0 non-null float64\n",
      "DisabledHoH                        0 non-null float64\n",
      "CriminalRecord                     0 non-null float64\n",
      "SexOffender                        0 non-null float64\n",
      "DependentUnder6                    0 non-null float64\n",
      "SingleParent                       0 non-null float64\n",
      "HH5Plus                            0 non-null float64\n",
      "IraqAfghanistan                    0 non-null float64\n",
      "FemVet                             0 non-null float64\n",
      "HPScreeningScore                   0 non-null float64\n",
      "ThresholdScore                     0 non-null float64\n",
      "VAMCStation                        0 non-null float64\n",
      "DateCreated                        74564 non-null object\n",
      "DateUpdated                        74564 non-null object\n",
      "UserID                             74564 non-null object\n",
      "DateDeleted                        0 non-null float64\n",
      "ExportID                           74564 non-null object\n",
      "dtypes: float64(56), int64(2), object(12)\n",
      "memory usage: 39.8+ MB\n"
     ]
    }
   ],
   "source": [
    "enrollment.info() # personalID have missing values"
   ]
  },
  {
   "cell_type": "code",
   "execution_count": 58,
   "metadata": {},
   "outputs": [
    {
     "data": {
      "text/plain": [
       "28678"
      ]
     },
     "execution_count": 58,
     "metadata": {},
     "output_type": "execute_result"
    }
   ],
   "source": [
    "client.PersonalID.isin(enrollment.PersonalID).sum()"
   ]
  },
  {
   "cell_type": "code",
   "execution_count": 59,
   "metadata": {},
   "outputs": [
    {
     "data": {
      "text/plain": [
       "array(['EnrollmentID', 'PersonalID', 'ProjectID', 'EntryDate',\n",
       "       'HouseholdID', 'RelationshipToHoH', 'LivingSituation',\n",
       "       'LengthOfStay', 'LOSUnderThreshold', 'PreviousStreetESSH',\n",
       "       'DateToStreetESSH', 'TimesHomelessPastThreeYears',\n",
       "       'MonthsHomelessPastThreeYears', 'DisablingCondition',\n",
       "       'DateOfEngagement', 'MoveInDate', 'DateOfPATHStatus',\n",
       "       'ClientEnrolledInPATH', 'ReasonNotEnrolled',\n",
       "       'WorstHousingSituation', 'PercentAMI', 'LastPermanentStreet',\n",
       "       'LastPermanentCity', 'LastPermanentState', 'LastPermanentZIP',\n",
       "       'AddressDataQuality', 'DateOfBCPStatus', 'EligibleForRHY',\n",
       "       'ReasonNoServices', 'RunawayYouth', 'SexualOrientation',\n",
       "       'FormerWardChildWelfare', 'ChildWelfareYears',\n",
       "       'ChildWelfareMonths', 'FormerWardJuvenileJustice',\n",
       "       'JuvenileJusticeYears', 'JuvenileJusticeMonths', 'UnemploymentFam',\n",
       "       'MentalHealthIssuesFam', 'PhysicalDisabilityFam',\n",
       "       'AlcoholDrugAbuseFam', 'InsufficientIncome', 'IncarceratedParent',\n",
       "       'ReferralSource', 'CountOutreachReferralApproaches',\n",
       "       'UrgentReferral', 'TimeToHousingLoss', 'ZeroIncome',\n",
       "       'AnnualPercentAMI', 'FinancialChange', 'HouseholdChange',\n",
       "       'EvictionHistory', 'SubsidyAtRisk', 'LiteralHomelessHistory',\n",
       "       'DisabledHoH', 'CriminalRecord', 'SexOffender', 'DependentUnder6',\n",
       "       'SingleParent', 'HH5Plus', 'IraqAfghanistan', 'FemVet',\n",
       "       'HPScreeningScore', 'ThresholdScore', 'VAMCStation', 'DateCreated',\n",
       "       'DateUpdated', 'UserID', 'DateDeleted', 'ExportID'], dtype=object)"
      ]
     },
     "execution_count": 59,
     "metadata": {},
     "output_type": "execute_result"
    }
   ],
   "source": [
    "enrollment.columns.values"
   ]
  },
  {
   "cell_type": "code",
   "execution_count": 60,
   "metadata": {},
   "outputs": [
    {
     "data": {
      "text/plain": [
       "02118    6147\n",
       "02119    3378\n",
       "02124    2296\n",
       "99999    1331\n",
       "02125    1254\n",
       "02121    1139\n",
       "02122     906\n",
       "02126     863\n",
       "02127     827\n",
       "02130     820\n",
       "02169     801\n",
       "02116     663\n",
       "02150     619\n",
       "02128     619\n",
       "02148     540\n",
       "02136     491\n",
       "02151     445\n",
       "02149     415\n",
       "02301     410\n",
       "02115     373\n",
       "02131     362\n",
       "02139     343\n",
       "02120     312\n",
       "02111     308\n",
       "01902     293\n",
       "02129     265\n",
       "02135     259\n",
       "02134     243\n",
       "02114     230\n",
       "02155     207\n",
       "         ... \n",
       "10801       1\n",
       "511 w       1\n",
       "02873       1\n",
       "18603       1\n",
       "23509       1\n",
       "38305       1\n",
       "11784       1\n",
       "60120       1\n",
       "03854       1\n",
       "0124        1\n",
       "27012       1\n",
       "37138       1\n",
       "70117       1\n",
       "02058       1\n",
       "10021       1\n",
       "33909       1\n",
       "92501       1\n",
       "06160       1\n",
       "27576       1\n",
       "64507       1\n",
       "01823       1\n",
       "70615       1\n",
       "02381       1\n",
       "10609       1\n",
       "2474        1\n",
       "96707       1\n",
       "11550       1\n",
       "30045       1\n",
       "34202       1\n",
       "96791       1\n",
       "Name: LastPermanentZIP, Length: 2908, dtype: int64"
      ]
     },
     "execution_count": 60,
     "metadata": {},
     "output_type": "execute_result"
    }
   ],
   "source": [
    "enrollment.LastPermanentZIP.value_counts()"
   ]
  },
  {
   "cell_type": "code",
   "execution_count": 61,
   "metadata": {},
   "outputs": [
    {
     "data": {
      "text/html": [
       "<div>\n",
       "<style scoped>\n",
       "    .dataframe tbody tr th:only-of-type {\n",
       "        vertical-align: middle;\n",
       "    }\n",
       "\n",
       "    .dataframe tbody tr th {\n",
       "        vertical-align: top;\n",
       "    }\n",
       "\n",
       "    .dataframe thead th {\n",
       "        text-align: right;\n",
       "    }\n",
       "</style>\n",
       "<table border=\"1\" class=\"dataframe\">\n",
       "  <thead>\n",
       "    <tr style=\"text-align: right;\">\n",
       "      <th></th>\n",
       "      <th>EnrollmentID</th>\n",
       "      <th>PersonalID</th>\n",
       "      <th>ProjectID</th>\n",
       "      <th>EntryDate</th>\n",
       "      <th>DisablingCondition</th>\n",
       "      <th>LastPermanentZIP</th>\n",
       "    </tr>\n",
       "  </thead>\n",
       "  <tbody>\n",
       "    <tr>\n",
       "      <th>0</th>\n",
       "      <td>10878</td>\n",
       "      <td>323210.0</td>\n",
       "      <td>369</td>\n",
       "      <td>2013-09-03</td>\n",
       "      <td>1.0</td>\n",
       "      <td>NaN</td>\n",
       "    </tr>\n",
       "    <tr>\n",
       "      <th>1</th>\n",
       "      <td>10888</td>\n",
       "      <td>204313.0</td>\n",
       "      <td>369</td>\n",
       "      <td>2013-09-06</td>\n",
       "      <td>0.0</td>\n",
       "      <td>NaN</td>\n",
       "    </tr>\n",
       "    <tr>\n",
       "      <th>2</th>\n",
       "      <td>10899</td>\n",
       "      <td>204659.0</td>\n",
       "      <td>369</td>\n",
       "      <td>2013-09-10</td>\n",
       "      <td>1.0</td>\n",
       "      <td>NaN</td>\n",
       "    </tr>\n",
       "    <tr>\n",
       "      <th>3</th>\n",
       "      <td>11082</td>\n",
       "      <td>204709.0</td>\n",
       "      <td>369</td>\n",
       "      <td>2013-07-17</td>\n",
       "      <td>1.0</td>\n",
       "      <td>NaN</td>\n",
       "    </tr>\n",
       "    <tr>\n",
       "      <th>4</th>\n",
       "      <td>11345</td>\n",
       "      <td>204635.0</td>\n",
       "      <td>369</td>\n",
       "      <td>2013-10-30</td>\n",
       "      <td>1.0</td>\n",
       "      <td>NaN</td>\n",
       "    </tr>\n",
       "  </tbody>\n",
       "</table>\n",
       "</div>"
      ],
      "text/plain": [
       "   EnrollmentID  PersonalID  ProjectID   EntryDate  DisablingCondition  \\\n",
       "0         10878    323210.0        369  2013-09-03                 1.0   \n",
       "1         10888    204313.0        369  2013-09-06                 0.0   \n",
       "2         10899    204659.0        369  2013-09-10                 1.0   \n",
       "3         11082    204709.0        369  2013-07-17                 1.0   \n",
       "4         11345    204635.0        369  2013-10-30                 1.0   \n",
       "\n",
       "  LastPermanentZIP  \n",
       "0              NaN  \n",
       "1              NaN  \n",
       "2              NaN  \n",
       "3              NaN  \n",
       "4              NaN  "
      ]
     },
     "execution_count": 61,
     "metadata": {},
     "output_type": "execute_result"
    }
   ],
   "source": [
    "#final enrollment table\n",
    "enrollment = enrollment[['EnrollmentID', 'PersonalID', 'ProjectID', 'EntryDate','DisablingCondition','LastPermanentZIP']]\n",
    "enrollment.head()"
   ]
  },
  {
   "cell_type": "code",
   "execution_count": 62,
   "metadata": {},
   "outputs": [
    {
     "data": {
      "text/plain": [
       "(74564, 6)"
      ]
     },
     "execution_count": 62,
     "metadata": {},
     "output_type": "execute_result"
    }
   ],
   "source": [
    "enrollment.shape"
   ]
  },
  {
   "cell_type": "code",
   "execution_count": 63,
   "metadata": {},
   "outputs": [
    {
     "data": {
      "text/plain": [
       "380     19318\n",
       "567     17803\n",
       "394     12414\n",
       "569      8158\n",
       "537      4522\n",
       "504      3580\n",
       "751      3498\n",
       "368      2055\n",
       "755      1122\n",
       "1272      615\n",
       "1269      456\n",
       "705       236\n",
       "369       167\n",
       "463       157\n",
       "704       138\n",
       "831        80\n",
       "698        67\n",
       "752        66\n",
       "756        48\n",
       "758        42\n",
       "1270       17\n",
       "882         5\n",
       "Name: ProjectID, dtype: int64"
      ]
     },
     "execution_count": 63,
     "metadata": {},
     "output_type": "execute_result"
    }
   ],
   "source": [
    "enrollment.ProjectID.value_counts()"
   ]
  },
  {
   "cell_type": "markdown",
   "metadata": {},
   "source": [
    "## PSI ENROLLMENT"
   ]
  },
  {
   "cell_type": "code",
   "execution_count": 64,
   "metadata": {},
   "outputs": [
    {
     "data": {
      "text/html": [
       "<div>\n",
       "<style scoped>\n",
       "    .dataframe tbody tr th:only-of-type {\n",
       "        vertical-align: middle;\n",
       "    }\n",
       "\n",
       "    .dataframe tbody tr th {\n",
       "        vertical-align: top;\n",
       "    }\n",
       "\n",
       "    .dataframe thead th {\n",
       "        text-align: right;\n",
       "    }\n",
       "</style>\n",
       "<table border=\"1\" class=\"dataframe\">\n",
       "  <thead>\n",
       "    <tr style=\"text-align: right;\">\n",
       "      <th></th>\n",
       "      <th>EnrollmentID</th>\n",
       "      <th>PersonalID</th>\n",
       "      <th>ProjectID</th>\n",
       "      <th>EntryDate</th>\n",
       "      <th>DisablingCondition</th>\n",
       "      <th>LastPermanentZIP</th>\n",
       "    </tr>\n",
       "  </thead>\n",
       "  <tbody>\n",
       "    <tr>\n",
       "      <th>17630</th>\n",
       "      <td>478058</td>\n",
       "      <td>203838.0</td>\n",
       "      <td>567</td>\n",
       "      <td>2015-01-12</td>\n",
       "      <td>1.0</td>\n",
       "      <td>02118</td>\n",
       "    </tr>\n",
       "    <tr>\n",
       "      <th>17632</th>\n",
       "      <td>478069</td>\n",
       "      <td>328686.0</td>\n",
       "      <td>567</td>\n",
       "      <td>2014-09-03</td>\n",
       "      <td>1.0</td>\n",
       "      <td>NaN</td>\n",
       "    </tr>\n",
       "    <tr>\n",
       "      <th>17636</th>\n",
       "      <td>478083</td>\n",
       "      <td>354616.0</td>\n",
       "      <td>567</td>\n",
       "      <td>2014-12-09</td>\n",
       "      <td>0.0</td>\n",
       "      <td>02118</td>\n",
       "    </tr>\n",
       "    <tr>\n",
       "      <th>17637</th>\n",
       "      <td>478093</td>\n",
       "      <td>293882.0</td>\n",
       "      <td>567</td>\n",
       "      <td>2015-06-09</td>\n",
       "      <td>1.0</td>\n",
       "      <td>02301</td>\n",
       "    </tr>\n",
       "    <tr>\n",
       "      <th>17638</th>\n",
       "      <td>478094</td>\n",
       "      <td>324117.0</td>\n",
       "      <td>567</td>\n",
       "      <td>2015-06-23</td>\n",
       "      <td>1.0</td>\n",
       "      <td>02124</td>\n",
       "    </tr>\n",
       "  </tbody>\n",
       "</table>\n",
       "</div>"
      ],
      "text/plain": [
       "       EnrollmentID  PersonalID  ProjectID   EntryDate  DisablingCondition  \\\n",
       "17630        478058    203838.0        567  2015-01-12                 1.0   \n",
       "17632        478069    328686.0        567  2014-09-03                 1.0   \n",
       "17636        478083    354616.0        567  2014-12-09                 0.0   \n",
       "17637        478093    293882.0        567  2015-06-09                 1.0   \n",
       "17638        478094    324117.0        567  2015-06-23                 1.0   \n",
       "\n",
       "      LastPermanentZIP  \n",
       "17630            02118  \n",
       "17632              NaN  \n",
       "17636            02118  \n",
       "17637            02301  \n",
       "17638            02124  "
      ]
     },
     "execution_count": 64,
     "metadata": {},
     "output_type": "execute_result"
    }
   ],
   "source": [
    "psiEnrollment = enrollment.loc[enrollment.ProjectID == 567]\n",
    "# https://stackoverflow.com/questions/17071871/select-rows-from-a-dataframe-based-on-values-in-a-column-in-pandas\n",
    "psiEnrollment.head()"
   ]
  },
  {
   "cell_type": "code",
   "execution_count": 65,
   "metadata": {},
   "outputs": [
    {
     "data": {
      "text/plain": [
       "(17803, 6)"
      ]
     },
     "execution_count": 65,
     "metadata": {},
     "output_type": "execute_result"
    }
   ],
   "source": [
    "psiEnrollment.shape"
   ]
  },
  {
   "cell_type": "code",
   "execution_count": 66,
   "metadata": {},
   "outputs": [
    {
     "data": {
      "text/html": [
       "<div>\n",
       "<style scoped>\n",
       "    .dataframe tbody tr th:only-of-type {\n",
       "        vertical-align: middle;\n",
       "    }\n",
       "\n",
       "    .dataframe tbody tr th {\n",
       "        vertical-align: top;\n",
       "    }\n",
       "\n",
       "    .dataframe thead th {\n",
       "        text-align: right;\n",
       "    }\n",
       "</style>\n",
       "<table border=\"1\" class=\"dataframe\">\n",
       "  <thead>\n",
       "    <tr style=\"text-align: right;\">\n",
       "      <th></th>\n",
       "      <th>EnrollmentID</th>\n",
       "      <th>PersonalID</th>\n",
       "      <th>ProjectID</th>\n",
       "      <th>EntryDate</th>\n",
       "      <th>DisablingCondition</th>\n",
       "      <th>LastPermanentZIP</th>\n",
       "    </tr>\n",
       "  </thead>\n",
       "  <tbody>\n",
       "    <tr>\n",
       "      <th>17630</th>\n",
       "      <td>478058</td>\n",
       "      <td>203838.0</td>\n",
       "      <td>567</td>\n",
       "      <td>2015-01-12</td>\n",
       "      <td>1.0</td>\n",
       "      <td>02118</td>\n",
       "    </tr>\n",
       "    <tr>\n",
       "      <th>17632</th>\n",
       "      <td>478069</td>\n",
       "      <td>328686.0</td>\n",
       "      <td>567</td>\n",
       "      <td>2014-09-03</td>\n",
       "      <td>1.0</td>\n",
       "      <td>NaN</td>\n",
       "    </tr>\n",
       "    <tr>\n",
       "      <th>17636</th>\n",
       "      <td>478083</td>\n",
       "      <td>354616.0</td>\n",
       "      <td>567</td>\n",
       "      <td>2014-12-09</td>\n",
       "      <td>0.0</td>\n",
       "      <td>02118</td>\n",
       "    </tr>\n",
       "    <tr>\n",
       "      <th>17637</th>\n",
       "      <td>478093</td>\n",
       "      <td>293882.0</td>\n",
       "      <td>567</td>\n",
       "      <td>2015-06-09</td>\n",
       "      <td>1.0</td>\n",
       "      <td>02301</td>\n",
       "    </tr>\n",
       "    <tr>\n",
       "      <th>17638</th>\n",
       "      <td>478094</td>\n",
       "      <td>324117.0</td>\n",
       "      <td>567</td>\n",
       "      <td>2015-06-23</td>\n",
       "      <td>1.0</td>\n",
       "      <td>02124</td>\n",
       "    </tr>\n",
       "  </tbody>\n",
       "</table>\n",
       "</div>"
      ],
      "text/plain": [
       "       EnrollmentID  PersonalID  ProjectID   EntryDate  DisablingCondition  \\\n",
       "17630        478058    203838.0        567  2015-01-12                 1.0   \n",
       "17632        478069    328686.0        567  2014-09-03                 1.0   \n",
       "17636        478083    354616.0        567  2014-12-09                 0.0   \n",
       "17637        478093    293882.0        567  2015-06-09                 1.0   \n",
       "17638        478094    324117.0        567  2015-06-23                 1.0   \n",
       "\n",
       "      LastPermanentZIP  \n",
       "17630            02118  \n",
       "17632              NaN  \n",
       "17636            02118  \n",
       "17637            02301  \n",
       "17638            02124  "
      ]
     },
     "execution_count": 66,
     "metadata": {},
     "output_type": "execute_result"
    }
   ],
   "source": [
    "for p in [569,537,504]:\n",
    "    additional = enrollment.loc[enrollment.ProjectID == p]\n",
    "    psiEnrollment = pd.concat([psiEnrollment,additional])\n",
    "psiEnrollment.head()"
   ]
  },
  {
   "cell_type": "code",
   "execution_count": 67,
   "metadata": {},
   "outputs": [
    {
     "data": {
      "text/plain": [
       "(34063, 6)"
      ]
     },
     "execution_count": 67,
     "metadata": {},
     "output_type": "execute_result"
    }
   ],
   "source": [
    "psiEnrollment.shape"
   ]
  },
  {
   "cell_type": "code",
   "execution_count": 68,
   "metadata": {},
   "outputs": [
    {
     "data": {
      "text/plain": [
       "567    17803\n",
       "569     8158\n",
       "537     4522\n",
       "504     3580\n",
       "Name: ProjectID, dtype: int64"
      ]
     },
     "execution_count": 68,
     "metadata": {},
     "output_type": "execute_result"
    }
   ],
   "source": [
    "psiEnrollment.ProjectID.value_counts()"
   ]
  },
  {
   "cell_type": "code",
   "execution_count": 69,
   "metadata": {},
   "outputs": [
    {
     "data": {
      "text/plain": [
       "15627"
      ]
     },
     "execution_count": 69,
     "metadata": {},
     "output_type": "execute_result"
    }
   ],
   "source": [
    "psiEnrollment.PersonalID.nunique()"
   ]
  },
  {
   "cell_type": "code",
   "execution_count": 70,
   "metadata": {},
   "outputs": [
    {
     "data": {
      "text/plain": [
       "ProjectID\n",
       "504    2376\n",
       "537    2960\n",
       "567    9665\n",
       "569    4379\n",
       "Name: PersonalID, dtype: int64"
      ]
     },
     "execution_count": 70,
     "metadata": {},
     "output_type": "execute_result"
    }
   ],
   "source": [
    "psiEnrollment.groupby(['ProjectID'])['PersonalID'].nunique()"
   ]
  },
  {
   "cell_type": "markdown",
   "metadata": {},
   "source": [
    "## Demographic"
   ]
  },
  {
   "cell_type": "code",
   "execution_count": 71,
   "metadata": {},
   "outputs": [
    {
     "data": {
      "text/html": [
       "<div>\n",
       "<style scoped>\n",
       "    .dataframe tbody tr th:only-of-type {\n",
       "        vertical-align: middle;\n",
       "    }\n",
       "\n",
       "    .dataframe tbody tr th {\n",
       "        vertical-align: top;\n",
       "    }\n",
       "\n",
       "    .dataframe thead th {\n",
       "        text-align: right;\n",
       "    }\n",
       "</style>\n",
       "<table border=\"1\" class=\"dataframe\">\n",
       "  <thead>\n",
       "    <tr style=\"text-align: right;\">\n",
       "      <th></th>\n",
       "      <th>PersonalID</th>\n",
       "      <th>DOB</th>\n",
       "      <th>AmIndAKNative</th>\n",
       "      <th>Asian</th>\n",
       "      <th>BlackAfAmerican</th>\n",
       "      <th>NativeHIOtherPacific</th>\n",
       "      <th>White</th>\n",
       "      <th>Ethnicity</th>\n",
       "      <th>Gender</th>\n",
       "      <th>VeteranStatus</th>\n",
       "    </tr>\n",
       "  </thead>\n",
       "  <tbody>\n",
       "    <tr>\n",
       "      <th>0</th>\n",
       "      <td>200225</td>\n",
       "      <td>1/7/1963</td>\n",
       "      <td>0</td>\n",
       "      <td>0</td>\n",
       "      <td>0</td>\n",
       "      <td>0</td>\n",
       "      <td>1</td>\n",
       "      <td>1.0</td>\n",
       "      <td>1.0</td>\n",
       "      <td>NaN</td>\n",
       "    </tr>\n",
       "    <tr>\n",
       "      <th>1</th>\n",
       "      <td>200230</td>\n",
       "      <td>11/5/1956</td>\n",
       "      <td>0</td>\n",
       "      <td>0</td>\n",
       "      <td>0</td>\n",
       "      <td>0</td>\n",
       "      <td>1</td>\n",
       "      <td>0.0</td>\n",
       "      <td>1.0</td>\n",
       "      <td>0.0</td>\n",
       "    </tr>\n",
       "    <tr>\n",
       "      <th>2</th>\n",
       "      <td>200279</td>\n",
       "      <td>8/28/1938</td>\n",
       "      <td>0</td>\n",
       "      <td>0</td>\n",
       "      <td>1</td>\n",
       "      <td>0</td>\n",
       "      <td>0</td>\n",
       "      <td>0.0</td>\n",
       "      <td>1.0</td>\n",
       "      <td>0.0</td>\n",
       "    </tr>\n",
       "    <tr>\n",
       "      <th>3</th>\n",
       "      <td>200301</td>\n",
       "      <td>7/11/1961</td>\n",
       "      <td>0</td>\n",
       "      <td>0</td>\n",
       "      <td>0</td>\n",
       "      <td>0</td>\n",
       "      <td>1</td>\n",
       "      <td>1.0</td>\n",
       "      <td>0.0</td>\n",
       "      <td>0.0</td>\n",
       "    </tr>\n",
       "    <tr>\n",
       "      <th>4</th>\n",
       "      <td>200380</td>\n",
       "      <td>12/9/1974</td>\n",
       "      <td>0</td>\n",
       "      <td>0</td>\n",
       "      <td>0</td>\n",
       "      <td>0</td>\n",
       "      <td>0</td>\n",
       "      <td>NaN</td>\n",
       "      <td>0.0</td>\n",
       "      <td>NaN</td>\n",
       "    </tr>\n",
       "  </tbody>\n",
       "</table>\n",
       "</div>"
      ],
      "text/plain": [
       "   PersonalID        DOB  AmIndAKNative  Asian  BlackAfAmerican  \\\n",
       "0      200225   1/7/1963              0      0                0   \n",
       "1      200230  11/5/1956              0      0                0   \n",
       "2      200279  8/28/1938              0      0                1   \n",
       "3      200301  7/11/1961              0      0                0   \n",
       "4      200380  12/9/1974              0      0                0   \n",
       "\n",
       "   NativeHIOtherPacific  White  Ethnicity  Gender  VeteranStatus  \n",
       "0                     0      1        1.0     1.0            NaN  \n",
       "1                     0      1        0.0     1.0            0.0  \n",
       "2                     0      0        0.0     1.0            0.0  \n",
       "3                     0      1        1.0     0.0            0.0  \n",
       "4                     0      0        NaN     0.0            NaN  "
      ]
     },
     "execution_count": 71,
     "metadata": {},
     "output_type": "execute_result"
    }
   ],
   "source": [
    "demo = client.loc[client.PersonalID.isin(psiEnrollment.PersonalID)]\n",
    "demo.head()"
   ]
  },
  {
   "cell_type": "code",
   "execution_count": 72,
   "metadata": {},
   "outputs": [
    {
     "data": {
      "text/plain": [
       "(15627, 10)"
      ]
     },
     "execution_count": 72,
     "metadata": {},
     "output_type": "execute_result"
    }
   ],
   "source": [
    "demo.shape"
   ]
  },
  {
   "cell_type": "code",
   "execution_count": 73,
   "metadata": {},
   "outputs": [
    {
     "data": {
      "text/html": [
       "<div>\n",
       "<style scoped>\n",
       "    .dataframe tbody tr th:only-of-type {\n",
       "        vertical-align: middle;\n",
       "    }\n",
       "\n",
       "    .dataframe tbody tr th {\n",
       "        vertical-align: top;\n",
       "    }\n",
       "\n",
       "    .dataframe thead th {\n",
       "        text-align: right;\n",
       "    }\n",
       "</style>\n",
       "<table border=\"1\" class=\"dataframe\">\n",
       "  <thead>\n",
       "    <tr style=\"text-align: right;\">\n",
       "      <th></th>\n",
       "      <th>EntryDate</th>\n",
       "    </tr>\n",
       "    <tr>\n",
       "      <th>PersonalID</th>\n",
       "      <th></th>\n",
       "    </tr>\n",
       "  </thead>\n",
       "  <tbody>\n",
       "    <tr>\n",
       "      <th>200225.0</th>\n",
       "      <td>2014-05-25</td>\n",
       "    </tr>\n",
       "    <tr>\n",
       "      <th>200230.0</th>\n",
       "      <td>2017-02-12</td>\n",
       "    </tr>\n",
       "    <tr>\n",
       "      <th>200279.0</th>\n",
       "      <td>2016-06-26</td>\n",
       "    </tr>\n",
       "    <tr>\n",
       "      <th>200301.0</th>\n",
       "      <td>2015-10-03</td>\n",
       "    </tr>\n",
       "    <tr>\n",
       "      <th>200380.0</th>\n",
       "      <td>2018-05-21</td>\n",
       "    </tr>\n",
       "  </tbody>\n",
       "</table>\n",
       "</div>"
      ],
      "text/plain": [
       "             EntryDate\n",
       "PersonalID            \n",
       "200225.0    2014-05-25\n",
       "200230.0    2017-02-12\n",
       "200279.0    2016-06-26\n",
       "200301.0    2015-10-03\n",
       "200380.0    2018-05-21"
      ]
     },
     "execution_count": 73,
     "metadata": {},
     "output_type": "execute_result"
    }
   ],
   "source": [
    "psiEnrollmentRecent = pd.DataFrame(psiEnrollment.groupby(['PersonalID'])[\"EntryDate\"].max())\n",
    "psiEnrollmentRecent.head()"
   ]
  },
  {
   "cell_type": "code",
   "execution_count": 74,
   "metadata": {},
   "outputs": [
    {
     "data": {
      "text/html": [
       "<div>\n",
       "<style scoped>\n",
       "    .dataframe tbody tr th:only-of-type {\n",
       "        vertical-align: middle;\n",
       "    }\n",
       "\n",
       "    .dataframe tbody tr th {\n",
       "        vertical-align: top;\n",
       "    }\n",
       "\n",
       "    .dataframe thead th {\n",
       "        text-align: right;\n",
       "    }\n",
       "</style>\n",
       "<table border=\"1\" class=\"dataframe\">\n",
       "  <thead>\n",
       "    <tr style=\"text-align: right;\">\n",
       "      <th></th>\n",
       "      <th>PersonalID</th>\n",
       "      <th>EntryDate</th>\n",
       "    </tr>\n",
       "  </thead>\n",
       "  <tbody>\n",
       "    <tr>\n",
       "      <th>0</th>\n",
       "      <td>200225.0</td>\n",
       "      <td>2014-05-25</td>\n",
       "    </tr>\n",
       "    <tr>\n",
       "      <th>1</th>\n",
       "      <td>200230.0</td>\n",
       "      <td>2017-02-12</td>\n",
       "    </tr>\n",
       "    <tr>\n",
       "      <th>2</th>\n",
       "      <td>200279.0</td>\n",
       "      <td>2016-06-26</td>\n",
       "    </tr>\n",
       "    <tr>\n",
       "      <th>3</th>\n",
       "      <td>200301.0</td>\n",
       "      <td>2015-10-03</td>\n",
       "    </tr>\n",
       "    <tr>\n",
       "      <th>4</th>\n",
       "      <td>200380.0</td>\n",
       "      <td>2018-05-21</td>\n",
       "    </tr>\n",
       "  </tbody>\n",
       "</table>\n",
       "</div>"
      ],
      "text/plain": [
       "   PersonalID   EntryDate\n",
       "0    200225.0  2014-05-25\n",
       "1    200230.0  2017-02-12\n",
       "2    200279.0  2016-06-26\n",
       "3    200301.0  2015-10-03\n",
       "4    200380.0  2018-05-21"
      ]
     },
     "execution_count": 74,
     "metadata": {},
     "output_type": "execute_result"
    }
   ],
   "source": [
    "psiEnrollmentRecent.reset_index(inplace = True)\n",
    "psiEnrollmentRecent.head()"
   ]
  },
  {
   "cell_type": "code",
   "execution_count": 75,
   "metadata": {},
   "outputs": [
    {
     "data": {
      "text/html": [
       "<div>\n",
       "<style scoped>\n",
       "    .dataframe tbody tr th:only-of-type {\n",
       "        vertical-align: middle;\n",
       "    }\n",
       "\n",
       "    .dataframe tbody tr th {\n",
       "        vertical-align: top;\n",
       "    }\n",
       "\n",
       "    .dataframe thead th {\n",
       "        text-align: right;\n",
       "    }\n",
       "</style>\n",
       "<table border=\"1\" class=\"dataframe\">\n",
       "  <thead>\n",
       "    <tr style=\"text-align: right;\">\n",
       "      <th></th>\n",
       "      <th>PersonalID</th>\n",
       "      <th>EntryDate</th>\n",
       "      <th>EnrollmentID</th>\n",
       "      <th>ProjectID</th>\n",
       "      <th>DisablingCondition</th>\n",
       "      <th>LastPermanentZIP</th>\n",
       "    </tr>\n",
       "  </thead>\n",
       "  <tbody>\n",
       "    <tr>\n",
       "      <th>0</th>\n",
       "      <td>200225.0</td>\n",
       "      <td>2014-05-25</td>\n",
       "      <td>510658</td>\n",
       "      <td>569</td>\n",
       "      <td>1.0</td>\n",
       "      <td>02118</td>\n",
       "    </tr>\n",
       "    <tr>\n",
       "      <th>1</th>\n",
       "      <td>200230.0</td>\n",
       "      <td>2017-02-12</td>\n",
       "      <td>604085</td>\n",
       "      <td>567</td>\n",
       "      <td>1.0</td>\n",
       "      <td>02113</td>\n",
       "    </tr>\n",
       "    <tr>\n",
       "      <th>2</th>\n",
       "      <td>200279.0</td>\n",
       "      <td>2016-06-26</td>\n",
       "      <td>524920</td>\n",
       "      <td>567</td>\n",
       "      <td>1.0</td>\n",
       "      <td>NaN</td>\n",
       "    </tr>\n",
       "    <tr>\n",
       "      <th>3</th>\n",
       "      <td>200301.0</td>\n",
       "      <td>2015-10-03</td>\n",
       "      <td>534020</td>\n",
       "      <td>537</td>\n",
       "      <td>99.0</td>\n",
       "      <td>NaN</td>\n",
       "    </tr>\n",
       "    <tr>\n",
       "      <th>4</th>\n",
       "      <td>200380.0</td>\n",
       "      <td>2018-05-21</td>\n",
       "      <td>837367</td>\n",
       "      <td>569</td>\n",
       "      <td>1.0</td>\n",
       "      <td>NaN</td>\n",
       "    </tr>\n",
       "  </tbody>\n",
       "</table>\n",
       "</div>"
      ],
      "text/plain": [
       "   PersonalID   EntryDate  EnrollmentID  ProjectID  DisablingCondition  \\\n",
       "0    200225.0  2014-05-25        510658        569                 1.0   \n",
       "1    200230.0  2017-02-12        604085        567                 1.0   \n",
       "2    200279.0  2016-06-26        524920        567                 1.0   \n",
       "3    200301.0  2015-10-03        534020        537                99.0   \n",
       "4    200380.0  2018-05-21        837367        569                 1.0   \n",
       "\n",
       "  LastPermanentZIP  \n",
       "0            02118  \n",
       "1            02113  \n",
       "2              NaN  \n",
       "3              NaN  \n",
       "4              NaN  "
      ]
     },
     "execution_count": 75,
     "metadata": {},
     "output_type": "execute_result"
    }
   ],
   "source": [
    "psiEnrollmentRecent = pd.merge(psiEnrollmentRecent,psiEnrollment, how='inner',on = ['PersonalID','EntryDate'])\n",
    "psiEnrollmentRecent.head()"
   ]
  },
  {
   "cell_type": "code",
   "execution_count": 76,
   "metadata": {},
   "outputs": [
    {
     "data": {
      "text/plain": [
       "(15783, 6)"
      ]
     },
     "execution_count": 76,
     "metadata": {},
     "output_type": "execute_result"
    }
   ],
   "source": [
    "psiEnrollmentRecent.shape"
   ]
  },
  {
   "cell_type": "code",
   "execution_count": 77,
   "metadata": {},
   "outputs": [
    {
     "data": {
      "text/plain": [
       "15627"
      ]
     },
     "execution_count": 77,
     "metadata": {},
     "output_type": "execute_result"
    }
   ],
   "source": [
    "psiEnrollmentRecent.PersonalID.nunique()"
   ]
  },
  {
   "cell_type": "code",
   "execution_count": 78,
   "metadata": {},
   "outputs": [],
   "source": [
    "psiEnrollmentRecent.drop_duplicates(subset = ['PersonalID','EntryDate'], keep = 'first', inplace = True )"
   ]
  },
  {
   "cell_type": "code",
   "execution_count": 79,
   "metadata": {},
   "outputs": [
    {
     "data": {
      "text/plain": [
       "(15627, 6)"
      ]
     },
     "execution_count": 79,
     "metadata": {},
     "output_type": "execute_result"
    }
   ],
   "source": [
    "psiEnrollmentRecent.shape"
   ]
  },
  {
   "cell_type": "code",
   "execution_count": 80,
   "metadata": {},
   "outputs": [
    {
     "data": {
      "text/html": [
       "<div>\n",
       "<style scoped>\n",
       "    .dataframe tbody tr th:only-of-type {\n",
       "        vertical-align: middle;\n",
       "    }\n",
       "\n",
       "    .dataframe tbody tr th {\n",
       "        vertical-align: top;\n",
       "    }\n",
       "\n",
       "    .dataframe thead th {\n",
       "        text-align: right;\n",
       "    }\n",
       "</style>\n",
       "<table border=\"1\" class=\"dataframe\">\n",
       "  <thead>\n",
       "    <tr style=\"text-align: right;\">\n",
       "      <th></th>\n",
       "      <th>PersonalID</th>\n",
       "      <th>EntryDate</th>\n",
       "      <th>EnrollmentID</th>\n",
       "      <th>ProjectID</th>\n",
       "      <th>DisablingCondition</th>\n",
       "      <th>LastPermanentZIP</th>\n",
       "      <th>DOB</th>\n",
       "      <th>AmIndAKNative</th>\n",
       "      <th>Asian</th>\n",
       "      <th>BlackAfAmerican</th>\n",
       "      <th>NativeHIOtherPacific</th>\n",
       "      <th>White</th>\n",
       "      <th>Ethnicity</th>\n",
       "      <th>Gender</th>\n",
       "      <th>VeteranStatus</th>\n",
       "    </tr>\n",
       "  </thead>\n",
       "  <tbody>\n",
       "    <tr>\n",
       "      <th>0</th>\n",
       "      <td>200225.0</td>\n",
       "      <td>2014-05-25</td>\n",
       "      <td>510658</td>\n",
       "      <td>569</td>\n",
       "      <td>1.0</td>\n",
       "      <td>02118</td>\n",
       "      <td>1/7/1963</td>\n",
       "      <td>0</td>\n",
       "      <td>0</td>\n",
       "      <td>0</td>\n",
       "      <td>0</td>\n",
       "      <td>1</td>\n",
       "      <td>1.0</td>\n",
       "      <td>1.0</td>\n",
       "      <td>NaN</td>\n",
       "    </tr>\n",
       "    <tr>\n",
       "      <th>1</th>\n",
       "      <td>200230.0</td>\n",
       "      <td>2017-02-12</td>\n",
       "      <td>604085</td>\n",
       "      <td>567</td>\n",
       "      <td>1.0</td>\n",
       "      <td>02113</td>\n",
       "      <td>11/5/1956</td>\n",
       "      <td>0</td>\n",
       "      <td>0</td>\n",
       "      <td>0</td>\n",
       "      <td>0</td>\n",
       "      <td>1</td>\n",
       "      <td>0.0</td>\n",
       "      <td>1.0</td>\n",
       "      <td>0.0</td>\n",
       "    </tr>\n",
       "    <tr>\n",
       "      <th>2</th>\n",
       "      <td>200279.0</td>\n",
       "      <td>2016-06-26</td>\n",
       "      <td>524920</td>\n",
       "      <td>567</td>\n",
       "      <td>1.0</td>\n",
       "      <td>NaN</td>\n",
       "      <td>8/28/1938</td>\n",
       "      <td>0</td>\n",
       "      <td>0</td>\n",
       "      <td>1</td>\n",
       "      <td>0</td>\n",
       "      <td>0</td>\n",
       "      <td>0.0</td>\n",
       "      <td>1.0</td>\n",
       "      <td>0.0</td>\n",
       "    </tr>\n",
       "    <tr>\n",
       "      <th>3</th>\n",
       "      <td>200301.0</td>\n",
       "      <td>2015-10-03</td>\n",
       "      <td>534020</td>\n",
       "      <td>537</td>\n",
       "      <td>99.0</td>\n",
       "      <td>NaN</td>\n",
       "      <td>7/11/1961</td>\n",
       "      <td>0</td>\n",
       "      <td>0</td>\n",
       "      <td>0</td>\n",
       "      <td>0</td>\n",
       "      <td>1</td>\n",
       "      <td>1.0</td>\n",
       "      <td>0.0</td>\n",
       "      <td>0.0</td>\n",
       "    </tr>\n",
       "    <tr>\n",
       "      <th>4</th>\n",
       "      <td>200380.0</td>\n",
       "      <td>2018-05-21</td>\n",
       "      <td>837367</td>\n",
       "      <td>569</td>\n",
       "      <td>1.0</td>\n",
       "      <td>NaN</td>\n",
       "      <td>12/9/1974</td>\n",
       "      <td>0</td>\n",
       "      <td>0</td>\n",
       "      <td>0</td>\n",
       "      <td>0</td>\n",
       "      <td>0</td>\n",
       "      <td>NaN</td>\n",
       "      <td>0.0</td>\n",
       "      <td>NaN</td>\n",
       "    </tr>\n",
       "  </tbody>\n",
       "</table>\n",
       "</div>"
      ],
      "text/plain": [
       "   PersonalID   EntryDate  EnrollmentID  ProjectID  DisablingCondition  \\\n",
       "0    200225.0  2014-05-25        510658        569                 1.0   \n",
       "1    200230.0  2017-02-12        604085        567                 1.0   \n",
       "2    200279.0  2016-06-26        524920        567                 1.0   \n",
       "3    200301.0  2015-10-03        534020        537                99.0   \n",
       "4    200380.0  2018-05-21        837367        569                 1.0   \n",
       "\n",
       "  LastPermanentZIP        DOB  AmIndAKNative  Asian  BlackAfAmerican  \\\n",
       "0            02118   1/7/1963              0      0                0   \n",
       "1            02113  11/5/1956              0      0                0   \n",
       "2              NaN  8/28/1938              0      0                1   \n",
       "3              NaN  7/11/1961              0      0                0   \n",
       "4              NaN  12/9/1974              0      0                0   \n",
       "\n",
       "   NativeHIOtherPacific  White  Ethnicity  Gender  VeteranStatus  \n",
       "0                     0      1        1.0     1.0            NaN  \n",
       "1                     0      1        0.0     1.0            0.0  \n",
       "2                     0      0        0.0     1.0            0.0  \n",
       "3                     0      1        1.0     0.0            0.0  \n",
       "4                     0      0        NaN     0.0            NaN  "
      ]
     },
     "execution_count": 80,
     "metadata": {},
     "output_type": "execute_result"
    }
   ],
   "source": [
    "demoForAnalysis = pd.merge(psiEnrollmentRecent,demo, how='inner',on = ['PersonalID'])\n",
    "demoForAnalysis.head()"
   ]
  },
  {
   "cell_type": "code",
   "execution_count": 81,
   "metadata": {},
   "outputs": [
    {
     "data": {
      "text/plain": [
       "(15627, 15)"
      ]
     },
     "execution_count": 81,
     "metadata": {},
     "output_type": "execute_result"
    }
   ],
   "source": [
    "demoForAnalysis.shape"
   ]
  },
  {
   "cell_type": "code",
   "execution_count": 82,
   "metadata": {},
   "outputs": [
    {
     "data": {
      "text/plain": [
       "PersonalID                 0\n",
       "EntryDate                  0\n",
       "EnrollmentID               0\n",
       "ProjectID                  0\n",
       "DisablingCondition         0\n",
       "LastPermanentZIP        5348\n",
       "DOB                       91\n",
       "AmIndAKNative              0\n",
       "Asian                      0\n",
       "BlackAfAmerican            0\n",
       "NativeHIOtherPacific       0\n",
       "White                      0\n",
       "Ethnicity                297\n",
       "Gender                    50\n",
       "VeteranStatus           1663\n",
       "dtype: int64"
      ]
     },
     "execution_count": 82,
     "metadata": {},
     "output_type": "execute_result"
    }
   ],
   "source": [
    "# missing value\n",
    "demoForAnalysis.isnull().sum()"
   ]
  },
  {
   "cell_type": "code",
   "execution_count": 83,
   "metadata": {},
   "outputs": [
    {
     "name": "stdout",
     "output_type": "stream",
     "text": [
      "1.0    11983\n",
      "0.0     3519\n",
      "2.0       59\n",
      "3.0       14\n",
      "4.0        2\n",
      "Name: Gender, dtype: int64\n",
      "1.0    76.68\n",
      "0.0    22.52\n",
      "2.0     0.38\n",
      "3.0     0.09\n",
      "4.0     0.01\n",
      "Name: Gender, dtype: float64\n"
     ]
    }
   ],
   "source": [
    "# gender\n",
    "print(demoForAnalysis.Gender.value_counts())\n",
    "print(round(demoForAnalysis.Gender.value_counts()/demoForAnalysis.shape[0] *100 ,2))"
   ]
  },
  {
   "cell_type": "code",
   "execution_count": 84,
   "metadata": {},
   "outputs": [
    {
     "data": {
      "text/html": [
       "<div>\n",
       "<style scoped>\n",
       "    .dataframe tbody tr th:only-of-type {\n",
       "        vertical-align: middle;\n",
       "    }\n",
       "\n",
       "    .dataframe tbody tr th {\n",
       "        vertical-align: top;\n",
       "    }\n",
       "\n",
       "    .dataframe thead th {\n",
       "        text-align: right;\n",
       "    }\n",
       "</style>\n",
       "<table border=\"1\" class=\"dataframe\">\n",
       "  <thead>\n",
       "    <tr style=\"text-align: right;\">\n",
       "      <th></th>\n",
       "      <th>Gender</th>\n",
       "    </tr>\n",
       "  </thead>\n",
       "  <tbody>\n",
       "    <tr>\n",
       "      <th>1.0</th>\n",
       "      <td>11983</td>\n",
       "    </tr>\n",
       "    <tr>\n",
       "      <th>0.0</th>\n",
       "      <td>3519</td>\n",
       "    </tr>\n",
       "    <tr>\n",
       "      <th>2.0</th>\n",
       "      <td>59</td>\n",
       "    </tr>\n",
       "    <tr>\n",
       "      <th>3.0</th>\n",
       "      <td>14</td>\n",
       "    </tr>\n",
       "    <tr>\n",
       "      <th>4.0</th>\n",
       "      <td>2</td>\n",
       "    </tr>\n",
       "  </tbody>\n",
       "</table>\n",
       "</div>"
      ],
      "text/plain": [
       "     Gender\n",
       "1.0   11983\n",
       "0.0    3519\n",
       "2.0      59\n",
       "3.0      14\n",
       "4.0       2"
      ]
     },
     "execution_count": 84,
     "metadata": {},
     "output_type": "execute_result"
    }
   ],
   "source": [
    "gender = pd.DataFrame(demoForAnalysis.Gender.value_counts())\n",
    "gender"
   ]
  },
  {
   "cell_type": "code",
   "execution_count": 85,
   "metadata": {},
   "outputs": [
    {
     "data": {
      "text/plain": [
       "[Text(0, 0, 'Male'),\n",
       " Text(0, 0, 'Female'),\n",
       " Text(0, 0, 'TF'),\n",
       " Text(0, 0, 'TM'),\n",
       " Text(0, 0, 'NC')]"
      ]
     },
     "execution_count": 85,
     "metadata": {},
     "output_type": "execute_result"
    }
   ],
   "source": [
    "ax = gender.plot(kind='bar')\n",
    "ax.set_xticks(gender.index)\n",
    "ax.set_xticklabels(['Male','Female','TF','TM','NC'], rotation=90)"
   ]
  },
  {
   "cell_type": "code",
   "execution_count": 86,
   "metadata": {},
   "outputs": [
    {
     "data": {
      "text/plain": [
       "array(['PersonalID', 'EntryDate', 'EnrollmentID', 'ProjectID',\n",
       "       'DisablingCondition', 'LastPermanentZIP', 'DOB', 'AmIndAKNative',\n",
       "       'Asian', 'BlackAfAmerican', 'NativeHIOtherPacific', 'White',\n",
       "       'Ethnicity', 'Gender', 'VeteranStatus'], dtype=object)"
      ]
     },
     "execution_count": 86,
     "metadata": {},
     "output_type": "execute_result"
    }
   ],
   "source": [
    "# Race\n",
    "demoForAnalysis.columns.values"
   ]
  },
  {
   "cell_type": "code",
   "execution_count": 87,
   "metadata": {},
   "outputs": [
    {
     "name": "stdout",
     "output_type": "stream",
     "text": [
      "15627\n",
      "AmIndAKNative            153\n",
      "Asian                    241\n",
      "BlackAfAmerican         6252\n",
      "NativeHIOtherPacific     156\n",
      "White                   8445\n",
      "dtype: int64\n",
      "AmIndAKNative            0.98\n",
      "Asian                    1.54\n",
      "BlackAfAmerican         40.01\n",
      "NativeHIOtherPacific     1.00\n",
      "White                   54.04\n",
      "dtype: float64\n",
      "15247\n"
     ]
    }
   ],
   "source": [
    "race = demoForAnalysis[['AmIndAKNative','Asian', 'BlackAfAmerican', 'NativeHIOtherPacific', 'White']]\n",
    "race.head()\n",
    "print(race.shape[0])\n",
    "print(race.sum())\n",
    "print(round(race.sum()/race.shape[0]*100,2))\n",
    "print(race.sum().sum())"
   ]
  },
  {
   "cell_type": "code",
   "execution_count": 88,
   "metadata": {},
   "outputs": [
    {
     "data": {
      "text/plain": [
       "<matplotlib.axes._subplots.AxesSubplot at 0x19c3c3e2ba8>"
      ]
     },
     "execution_count": 88,
     "metadata": {},
     "output_type": "execute_result"
    },
    {
     "data": {
      "image/png": "[encoded data removed]",
      "text/plain": [
       "<Figure size 432x288 with 1 Axes>"
      ]
     },
     "metadata": {
      "needs_background": "light"
     },
     "output_type": "display_data"
    }
   ],
   "source": [
    "race.sum().plot(kind='bar', title = \"race\")"
   ]
  },
  {
   "cell_type": "code",
   "execution_count": 89,
   "metadata": {},
   "outputs": [
    {
     "name": "stderr",
     "output_type": "stream",
     "text": [
      "C:\\Users\\inner\\Anaconda3\\lib\\site-packages\\ipykernel_launcher.py:1: SettingWithCopyWarning: \n",
      "A value is trying to be set on a copy of a slice from a DataFrame.\n",
      "Try using .loc[row_indexer,col_indexer] = value instead\n",
      "\n",
      "See the caveats in the documentation: http://pandas.pydata.org/pandas-docs/stable/indexing.html#indexing-view-versus-copy\n",
      "  \"\"\"Entry point for launching an IPython kernel.\n"
     ]
    },
    {
     "data": {
      "text/html": [
       "<div>\n",
       "<style scoped>\n",
       "    .dataframe tbody tr th:only-of-type {\n",
       "        vertical-align: middle;\n",
       "    }\n",
       "\n",
       "    .dataframe tbody tr th {\n",
       "        vertical-align: top;\n",
       "    }\n",
       "\n",
       "    .dataframe thead th {\n",
       "        text-align: right;\n",
       "    }\n",
       "</style>\n",
       "<table border=\"1\" class=\"dataframe\">\n",
       "  <thead>\n",
       "    <tr style=\"text-align: right;\">\n",
       "      <th></th>\n",
       "      <th>AmIndAKNative</th>\n",
       "      <th>Asian</th>\n",
       "      <th>BlackAfAmerican</th>\n",
       "      <th>NativeHIOtherPacific</th>\n",
       "      <th>White</th>\n",
       "      <th>sum</th>\n",
       "    </tr>\n",
       "  </thead>\n",
       "  <tbody>\n",
       "    <tr>\n",
       "      <th>0</th>\n",
       "      <td>0</td>\n",
       "      <td>0</td>\n",
       "      <td>0</td>\n",
       "      <td>0</td>\n",
       "      <td>1</td>\n",
       "      <td>1</td>\n",
       "    </tr>\n",
       "    <tr>\n",
       "      <th>1</th>\n",
       "      <td>0</td>\n",
       "      <td>0</td>\n",
       "      <td>0</td>\n",
       "      <td>0</td>\n",
       "      <td>1</td>\n",
       "      <td>1</td>\n",
       "    </tr>\n",
       "    <tr>\n",
       "      <th>2</th>\n",
       "      <td>0</td>\n",
       "      <td>0</td>\n",
       "      <td>1</td>\n",
       "      <td>0</td>\n",
       "      <td>0</td>\n",
       "      <td>1</td>\n",
       "    </tr>\n",
       "    <tr>\n",
       "      <th>3</th>\n",
       "      <td>0</td>\n",
       "      <td>0</td>\n",
       "      <td>0</td>\n",
       "      <td>0</td>\n",
       "      <td>1</td>\n",
       "      <td>1</td>\n",
       "    </tr>\n",
       "    <tr>\n",
       "      <th>4</th>\n",
       "      <td>0</td>\n",
       "      <td>0</td>\n",
       "      <td>0</td>\n",
       "      <td>0</td>\n",
       "      <td>0</td>\n",
       "      <td>0</td>\n",
       "    </tr>\n",
       "  </tbody>\n",
       "</table>\n",
       "</div>"
      ],
      "text/plain": [
       "   AmIndAKNative  Asian  BlackAfAmerican  NativeHIOtherPacific  White  sum\n",
       "0              0      0                0                     0      1    1\n",
       "1              0      0                0                     0      1    1\n",
       "2              0      0                1                     0      0    1\n",
       "3              0      0                0                     0      1    1\n",
       "4              0      0                0                     0      0    0"
      ]
     },
     "execution_count": 89,
     "metadata": {},
     "output_type": "execute_result"
    }
   ],
   "source": [
    "race['sum']= race.sum(axis = 1)\n",
    "race.head()"
   ]
  },
  {
   "cell_type": "code",
   "execution_count": 90,
   "metadata": {},
   "outputs": [
    {
     "data": {
      "text/plain": [
       "1    14999\n",
       "0      505\n",
       "2      121\n",
       "3        2\n",
       "Name: sum, dtype: int64"
      ]
     },
     "execution_count": 90,
     "metadata": {},
     "output_type": "execute_result"
    }
   ],
   "source": [
    "race['sum'].value_counts() #how many individuals respond to multimple races"
   ]
  },
  {
   "cell_type": "code",
   "execution_count": 132,
   "metadata": {},
   "outputs": [
    {
     "name": "stdout",
     "output_type": "stream",
     "text": [
      "0.0    12385\n",
      "1.0     2945\n",
      "Name: Ethnicity, dtype: int64\n",
      "0.0    79.25\n",
      "1.0    18.85\n",
      "Name: Ethnicity, dtype: float64\n"
     ]
    },
    {
     "data": {
      "text/plain": [
       "1.9005567287387215"
      ]
     },
     "execution_count": 132,
     "metadata": {},
     "output_type": "execute_result"
    }
   ],
   "source": [
    "# Ethnicity\n",
    "print(demoForAnalysis.Ethnicity.value_counts())\n",
    "12385+2945+297\n",
    "print(round(demoForAnalysis.Ethnicity.value_counts()/(12385+2945+297)*100,2))\n",
    "297/(12385+2945+297)*100"
   ]
  },
  {
   "cell_type": "code",
   "execution_count": 133,
   "metadata": {},
   "outputs": [
    {
     "data": {
      "text/html": [
       "<div>\n",
       "<style scoped>\n",
       "    .dataframe tbody tr th:only-of-type {\n",
       "        vertical-align: middle;\n",
       "    }\n",
       "\n",
       "    .dataframe tbody tr th {\n",
       "        vertical-align: top;\n",
       "    }\n",
       "\n",
       "    .dataframe thead th {\n",
       "        text-align: right;\n",
       "    }\n",
       "</style>\n",
       "<table border=\"1\" class=\"dataframe\">\n",
       "  <thead>\n",
       "    <tr style=\"text-align: right;\">\n",
       "      <th></th>\n",
       "      <th>Ethnicity</th>\n",
       "    </tr>\n",
       "  </thead>\n",
       "  <tbody>\n",
       "    <tr>\n",
       "      <th>0.0</th>\n",
       "      <td>12385</td>\n",
       "    </tr>\n",
       "    <tr>\n",
       "      <th>1.0</th>\n",
       "      <td>2945</td>\n",
       "    </tr>\n",
       "  </tbody>\n",
       "</table>\n",
       "</div>"
      ],
      "text/plain": [
       "     Ethnicity\n",
       "0.0      12385\n",
       "1.0       2945"
      ]
     },
     "execution_count": 133,
     "metadata": {},
     "output_type": "execute_result"
    }
   ],
   "source": [
    "Ethnicity = pd.DataFrame(demoForAnalysis.Ethnicity.value_counts())\n",
    "Ethnicity.head()"
   ]
  },
  {
   "cell_type": "code",
   "execution_count": 134,
   "metadata": {},
   "outputs": [
    {
     "data": {
      "text/plain": [
       "[Text(0, 0, 'Non-Hispanic'), Text(0, 0, 'Hispanic')]"
      ]
     },
     "execution_count": 134,
     "metadata": {},
     "output_type": "execute_result"
    },
    {
     "data": {
      "image/png": "[encoded data removed]",
      "text/plain": [
       "<Figure size 432x288 with 1 Axes>"
      ]
     },
     "metadata": {
      "needs_background": "light"
     },
     "output_type": "display_data"
    }
   ],
   "source": [
    "ax = Ethnicity.plot(kind='bar')\n",
    "ax.set_xticks(Ethnicity.index)\n",
    "ax.set_xticklabels(['Non-Hispanic','Hispanic'], rotation=90)"
   ]
  },
  {
   "cell_type": "code",
   "execution_count": 145,
   "metadata": {},
   "outputs": [
    {
     "name": "stdout",
     "output_type": "stream",
     "text": [
      "1.0     9039\n",
      "0.0     4433\n",
      "99.0    1782\n",
      "9.0      280\n",
      "8.0       93\n",
      "Name: DisablingCondition, dtype: int64\n",
      "1.0    9039\n",
      "0.0    4433\n",
      "Name: DisablingCondition, dtype: int64\n"
     ]
    }
   ],
   "source": [
    "#DisablingCondition\n",
    "print(demoForAnalysis.DisablingCondition.value_counts())##have 8,9,99\n",
    "for n in [8,9,99]:\n",
    "    demoForAnalysis.DisablingCondition.replace(n,np.nan,inplace = True)\n",
    "print(demoForAnalysis.DisablingCondition.value_counts())# 0,1"
   ]
  },
  {
   "cell_type": "code",
   "execution_count": 146,
   "metadata": {},
   "outputs": [
    {
     "data": {
      "text/plain": [
       "PersonalID                 0\n",
       "EntryDate                  0\n",
       "EnrollmentID               0\n",
       "ProjectID                  0\n",
       "DisablingCondition      2155\n",
       "LastPermanentZIP        5348\n",
       "DOB                       91\n",
       "AmIndAKNative              0\n",
       "Asian                      0\n",
       "BlackAfAmerican            0\n",
       "NativeHIOtherPacific       0\n",
       "White                      0\n",
       "Ethnicity                297\n",
       "Gender                    50\n",
       "VeteranStatus           1663\n",
       "dtype: int64"
      ]
     },
     "execution_count": 146,
     "metadata": {},
     "output_type": "execute_result"
    }
   ],
   "source": [
    "demoForAnalysis.isnull().sum()"
   ]
  },
  {
   "cell_type": "code",
   "execution_count": 147,
   "metadata": {},
   "outputs": [
    {
     "name": "stdout",
     "output_type": "stream",
     "text": [
      "1.0    9039\n",
      "0.0    4433\n",
      "Name: DisablingCondition, dtype: int64\n",
      "15627\n",
      "1.0    57.84\n",
      "0.0    28.37\n",
      "Name: DisablingCondition, dtype: float64\n"
     ]
    },
    {
     "data": {
      "text/plain": [
       "13.790234849939209"
      ]
     },
     "execution_count": 147,
     "metadata": {},
     "output_type": "execute_result"
    }
   ],
   "source": [
    "print(demoForAnalysis.DisablingCondition.value_counts())\n",
    "# missing 2155\n",
    "print(9039+4433+2155)\n",
    "print(round(demoForAnalysis.DisablingCondition.value_counts()/(9039+4433+2155)*100,2))\n",
    "2155/(9039+4433+2155)*100"
   ]
  },
  {
   "cell_type": "code",
   "execution_count": 148,
   "metadata": {},
   "outputs": [
    {
     "data": {
      "text/html": [
       "<div>\n",
       "<style scoped>\n",
       "    .dataframe tbody tr th:only-of-type {\n",
       "        vertical-align: middle;\n",
       "    }\n",
       "\n",
       "    .dataframe tbody tr th {\n",
       "        vertical-align: top;\n",
       "    }\n",
       "\n",
       "    .dataframe thead th {\n",
       "        text-align: right;\n",
       "    }\n",
       "</style>\n",
       "<table border=\"1\" class=\"dataframe\">\n",
       "  <thead>\n",
       "    <tr style=\"text-align: right;\">\n",
       "      <th></th>\n",
       "      <th>DisablingCondition</th>\n",
       "    </tr>\n",
       "  </thead>\n",
       "  <tbody>\n",
       "    <tr>\n",
       "      <th>1.0</th>\n",
       "      <td>9039</td>\n",
       "    </tr>\n",
       "    <tr>\n",
       "      <th>0.0</th>\n",
       "      <td>4433</td>\n",
       "    </tr>\n",
       "  </tbody>\n",
       "</table>\n",
       "</div>"
      ],
      "text/plain": [
       "     DisablingCondition\n",
       "1.0                9039\n",
       "0.0                4433"
      ]
     },
     "execution_count": 148,
     "metadata": {},
     "output_type": "execute_result"
    }
   ],
   "source": [
    "Disabling = pd.DataFrame(demoForAnalysis.DisablingCondition.value_counts())\n",
    "Disabling.head()"
   ]
  },
  {
   "cell_type": "code",
   "execution_count": 149,
   "metadata": {},
   "outputs": [
    {
     "data": {
      "text/plain": [
       "[Text(0, 0, 'Yes'), Text(0, 0, 'No')]"
      ]
     },
     "execution_count": 149,
     "metadata": {},
     "output_type": "execute_result"
    },
    {
     "data": {
      "image/png": "[encoded data removed]",
      "text/plain": [
       "<Figure size 432x288 with 1 Axes>"
      ]
     },
     "metadata": {
      "needs_background": "light"
     },
     "output_type": "display_data"
    }
   ],
   "source": [
    "ax = Disabling.plot(kind='bar')\n",
    "ax.set_xticks(Disabling.index)\n",
    "ax.set_xticklabels(['Yes','No'])"
   ]
  },
  {
   "cell_type": "code",
   "execution_count": 153,
   "metadata": {},
   "outputs": [
    {
     "name": "stdout",
     "output_type": "stream",
     "text": [
      "02118    1132\n",
      "02119     762\n",
      "02124     554\n",
      "99999     356\n",
      "02121     299\n",
      "02125     275\n",
      "Name: LastPermanentZIP, dtype: int64\n"
     ]
    }
   ],
   "source": [
    "# LastPermanentZIP\n",
    "# missing 5348\n",
    "print(demoForAnalysis.LastPermanentZIP.value_counts().sort_values(ascending = False).head(6))"
   ]
  },
  {
   "cell_type": "code",
   "execution_count": null,
   "metadata": {},
   "outputs": [],
   "source": [
    "# age\n",
    "# 91"
   ]
  },
  {
   "cell_type": "code",
   "execution_count": 139,
   "metadata": {},
   "outputs": [
    {
     "name": "stdout",
     "output_type": "stream",
     "text": [
      "0.0    13033\n",
      "1.0      931\n",
      "Name: VeteranStatus, dtype: int64\n",
      "15627\n",
      "0.0    83.40\n",
      "1.0     5.96\n",
      "Name: VeteranStatus, dtype: float64\n"
     ]
    },
    {
     "data": {
      "text/plain": [
       "10.641837844755871"
      ]
     },
     "execution_count": 139,
     "metadata": {},
     "output_type": "execute_result"
    }
   ],
   "source": [
    "# veteran status\n",
    "# missing 1663\n",
    "print(demoForAnalysis.VeteranStatus.value_counts())\n",
    "print(13033+931+1663)\n",
    "print(round(demoForAnalysis.VeteranStatus.value_counts()/(13033+931+1663)*100,2))\n",
    "1663/(13033+931+1663)*100"
   ]
  },
  {
   "cell_type": "code",
   "execution_count": 140,
   "metadata": {},
   "outputs": [
    {
     "data": {
      "text/html": [
       "<div>\n",
       "<style scoped>\n",
       "    .dataframe tbody tr th:only-of-type {\n",
       "        vertical-align: middle;\n",
       "    }\n",
       "\n",
       "    .dataframe tbody tr th {\n",
       "        vertical-align: top;\n",
       "    }\n",
       "\n",
       "    .dataframe thead th {\n",
       "        text-align: right;\n",
       "    }\n",
       "</style>\n",
       "<table border=\"1\" class=\"dataframe\">\n",
       "  <thead>\n",
       "    <tr style=\"text-align: right;\">\n",
       "      <th></th>\n",
       "      <th>VeteranStatus</th>\n",
       "    </tr>\n",
       "  </thead>\n",
       "  <tbody>\n",
       "    <tr>\n",
       "      <th>0.0</th>\n",
       "      <td>13033</td>\n",
       "    </tr>\n",
       "    <tr>\n",
       "      <th>1.0</th>\n",
       "      <td>931</td>\n",
       "    </tr>\n",
       "  </tbody>\n",
       "</table>\n",
       "</div>"
      ],
      "text/plain": [
       "     VeteranStatus\n",
       "0.0          13033\n",
       "1.0            931"
      ]
     },
     "execution_count": 140,
     "metadata": {},
     "output_type": "execute_result"
    }
   ],
   "source": [
    "veteran = pd.DataFrame(demoForAnalysis.VeteranStatus.value_counts())\n",
    "veteran.head()"
   ]
  },
  {
   "cell_type": "code",
   "execution_count": 141,
   "metadata": {},
   "outputs": [
    {
     "data": {
      "text/plain": [
       "[Text(0, 0, 'No'), Text(0, 0, 'Yes')]"
      ]
     },
     "execution_count": 141,
     "metadata": {},
     "output_type": "execute_result"
    },
    {
     "data": {
      "image/png": "[encoded data removed]",
      "text/plain": [
       "<Figure size 432x288 with 1 Axes>"
      ]
     },
     "metadata": {
      "needs_background": "light"
     },
     "output_type": "display_data"
    }
   ],
   "source": [
    "ax = veteran.plot(kind='bar')\n",
    "ax.set_xticks(veteran.index)\n",
    "ax.set_xticklabels(['No','Yes'])"
   ]
  },
  {
   "cell_type": "markdown",
   "metadata": {},
   "source": [
    "## Income"
   ]
  },
  {
   "cell_type": "code",
   "execution_count": 91,
   "metadata": {},
   "outputs": [
    {
     "name": "stderr",
     "output_type": "stream",
     "text": [
      "C:\\Users\\inner\\Anaconda3\\lib\\site-packages\\IPython\\core\\interactiveshell.py:3020: DtypeWarning: Columns (65,74) have mixed types. Specify dtype option on import or set low_memory=False.\n",
      "  interactivity=interactivity, compiler=compiler, result=result)\n"
     ]
    },
    {
     "data": {
      "text/html": [
       "<div>\n",
       "<style scoped>\n",
       "    .dataframe tbody tr th:only-of-type {\n",
       "        vertical-align: middle;\n",
       "    }\n",
       "\n",
       "    .dataframe tbody tr th {\n",
       "        vertical-align: top;\n",
       "    }\n",
       "\n",
       "    .dataframe thead th {\n",
       "        text-align: right;\n",
       "    }\n",
       "</style>\n",
       "<table border=\"1\" class=\"dataframe\">\n",
       "  <thead>\n",
       "    <tr style=\"text-align: right;\">\n",
       "      <th></th>\n",
       "      <th>IncomeBenefitsID</th>\n",
       "      <th>EnrollmentID</th>\n",
       "      <th>PersonalID</th>\n",
       "      <th>InformationDate</th>\n",
       "      <th>IncomeFromAnySource</th>\n",
       "      <th>TotalMonthlyIncome</th>\n",
       "      <th>Earned</th>\n",
       "      <th>EarnedAmount</th>\n",
       "      <th>Unemployment</th>\n",
       "      <th>UnemploymentAmount</th>\n",
       "      <th>...</th>\n",
       "      <th>NoHIVAIDSAssistanceReason</th>\n",
       "      <th>ADAP</th>\n",
       "      <th>NoADAPReason</th>\n",
       "      <th>ConnectionWithSOAR</th>\n",
       "      <th>DataCollectionStage</th>\n",
       "      <th>DateCreated</th>\n",
       "      <th>DateUpdated</th>\n",
       "      <th>UserID</th>\n",
       "      <th>DateDeleted</th>\n",
       "      <th>ExportID</th>\n",
       "    </tr>\n",
       "  </thead>\n",
       "  <tbody>\n",
       "    <tr>\n",
       "      <th>0</th>\n",
       "      <td>12443</td>\n",
       "      <td>491661</td>\n",
       "      <td>683560</td>\n",
       "      <td>2002-01-11</td>\n",
       "      <td>0</td>\n",
       "      <td>0.0</td>\n",
       "      <td>99</td>\n",
       "      <td>NaN</td>\n",
       "      <td>99</td>\n",
       "      <td>NaN</td>\n",
       "      <td>...</td>\n",
       "      <td>NaN</td>\n",
       "      <td>NaN</td>\n",
       "      <td>NaN</td>\n",
       "      <td>NaN</td>\n",
       "      <td>1.0</td>\n",
       "      <td>2002-01-11 05:00:00</td>\n",
       "      <td>2015-02-25 23:34:02</td>\n",
       "      <td>197</td>\n",
       "      <td>NaN</td>\n",
       "      <td>633198d622178ca80a9fc4ff141bb705</td>\n",
       "    </tr>\n",
       "    <tr>\n",
       "      <th>1</th>\n",
       "      <td>53585</td>\n",
       "      <td>569055</td>\n",
       "      <td>690852</td>\n",
       "      <td>2007-12-18</td>\n",
       "      <td>1</td>\n",
       "      <td>800.0</td>\n",
       "      <td>1</td>\n",
       "      <td>800.0</td>\n",
       "      <td>0</td>\n",
       "      <td>NaN</td>\n",
       "      <td>...</td>\n",
       "      <td>NaN</td>\n",
       "      <td>NaN</td>\n",
       "      <td>NaN</td>\n",
       "      <td>NaN</td>\n",
       "      <td>1.0</td>\n",
       "      <td>2007-12-18 05:00:00</td>\n",
       "      <td>2016-07-07 19:29:36</td>\n",
       "      <td>866</td>\n",
       "      <td>NaN</td>\n",
       "      <td>633198d622178ca80a9fc4ff141bb705</td>\n",
       "    </tr>\n",
       "    <tr>\n",
       "      <th>2</th>\n",
       "      <td>53587</td>\n",
       "      <td>578268</td>\n",
       "      <td>324467</td>\n",
       "      <td>2012-08-28</td>\n",
       "      <td>0</td>\n",
       "      <td>0.0</td>\n",
       "      <td>99</td>\n",
       "      <td>NaN</td>\n",
       "      <td>99</td>\n",
       "      <td>NaN</td>\n",
       "      <td>...</td>\n",
       "      <td>NaN</td>\n",
       "      <td>NaN</td>\n",
       "      <td>NaN</td>\n",
       "      <td>NaN</td>\n",
       "      <td>1.0</td>\n",
       "      <td>2012-08-28 04:00:00</td>\n",
       "      <td>2016-07-07 21:02:00</td>\n",
       "      <td>866</td>\n",
       "      <td>NaN</td>\n",
       "      <td>633198d622178ca80a9fc4ff141bb705</td>\n",
       "    </tr>\n",
       "    <tr>\n",
       "      <th>3</th>\n",
       "      <td>53598</td>\n",
       "      <td>588741</td>\n",
       "      <td>607132</td>\n",
       "      <td>2016-02-02</td>\n",
       "      <td>0</td>\n",
       "      <td>0.0</td>\n",
       "      <td>99</td>\n",
       "      <td>NaN</td>\n",
       "      <td>99</td>\n",
       "      <td>NaN</td>\n",
       "      <td>...</td>\n",
       "      <td>NaN</td>\n",
       "      <td>NaN</td>\n",
       "      <td>NaN</td>\n",
       "      <td>NaN</td>\n",
       "      <td>1.0</td>\n",
       "      <td>2016-02-02 05:00:00</td>\n",
       "      <td>2016-02-03 04:14:22</td>\n",
       "      <td>409</td>\n",
       "      <td>NaN</td>\n",
       "      <td>633198d622178ca80a9fc4ff141bb705</td>\n",
       "    </tr>\n",
       "    <tr>\n",
       "      <th>4</th>\n",
       "      <td>53599</td>\n",
       "      <td>588742</td>\n",
       "      <td>329416</td>\n",
       "      <td>2016-02-02</td>\n",
       "      <td>0</td>\n",
       "      <td>0.0</td>\n",
       "      <td>0</td>\n",
       "      <td>NaN</td>\n",
       "      <td>0</td>\n",
       "      <td>NaN</td>\n",
       "      <td>...</td>\n",
       "      <td>NaN</td>\n",
       "      <td>NaN</td>\n",
       "      <td>NaN</td>\n",
       "      <td>NaN</td>\n",
       "      <td>1.0</td>\n",
       "      <td>2016-02-02 05:00:00</td>\n",
       "      <td>2016-10-08 02:37:36</td>\n",
       "      <td>866</td>\n",
       "      <td>NaN</td>\n",
       "      <td>633198d622178ca80a9fc4ff141bb705</td>\n",
       "    </tr>\n",
       "  </tbody>\n",
       "</table>\n",
       "<p>5 rows × 77 columns</p>\n",
       "</div>"
      ],
      "text/plain": [
       "   IncomeBenefitsID  EnrollmentID  PersonalID InformationDate  \\\n",
       "0             12443        491661      683560      2002-01-11   \n",
       "1             53585        569055      690852      2007-12-18   \n",
       "2             53587        578268      324467      2012-08-28   \n",
       "3             53598        588741      607132      2016-02-02   \n",
       "4             53599        588742      329416      2016-02-02   \n",
       "\n",
       "   IncomeFromAnySource  TotalMonthlyIncome  Earned  EarnedAmount  \\\n",
       "0                    0                 0.0      99           NaN   \n",
       "1                    1               800.0       1         800.0   \n",
       "2                    0                 0.0      99           NaN   \n",
       "3                    0                 0.0      99           NaN   \n",
       "4                    0                 0.0       0           NaN   \n",
       "\n",
       "   Unemployment  UnemploymentAmount                ...                 \\\n",
       "0            99                 NaN                ...                  \n",
       "1             0                 NaN                ...                  \n",
       "2            99                 NaN                ...                  \n",
       "3            99                 NaN                ...                  \n",
       "4             0                 NaN                ...                  \n",
       "\n",
       "   NoHIVAIDSAssistanceReason  ADAP  NoADAPReason  ConnectionWithSOAR  \\\n",
       "0                        NaN   NaN           NaN                 NaN   \n",
       "1                        NaN   NaN           NaN                 NaN   \n",
       "2                        NaN   NaN           NaN                 NaN   \n",
       "3                        NaN   NaN           NaN                 NaN   \n",
       "4                        NaN   NaN           NaN                 NaN   \n",
       "\n",
       "   DataCollectionStage          DateCreated          DateUpdated  UserID  \\\n",
       "0                  1.0  2002-01-11 05:00:00  2015-02-25 23:34:02     197   \n",
       "1                  1.0  2007-12-18 05:00:00  2016-07-07 19:29:36     866   \n",
       "2                  1.0  2012-08-28 04:00:00  2016-07-07 21:02:00     866   \n",
       "3                  1.0  2016-02-02 05:00:00  2016-02-03 04:14:22     409   \n",
       "4                  1.0  2016-02-02 05:00:00  2016-10-08 02:37:36     866   \n",
       "\n",
       "   DateDeleted                          ExportID  \n",
       "0          NaN  633198d622178ca80a9fc4ff141bb705  \n",
       "1          NaN  633198d622178ca80a9fc4ff141bb705  \n",
       "2          NaN  633198d622178ca80a9fc4ff141bb705  \n",
       "3          NaN  633198d622178ca80a9fc4ff141bb705  \n",
       "4          NaN  633198d622178ca80a9fc4ff141bb705  \n",
       "\n",
       "[5 rows x 77 columns]"
      ]
     },
     "execution_count": 91,
     "metadata": {},
     "output_type": "execute_result"
    }
   ],
   "source": [
    "income = pd.read_csv('C:\\\\Users\\\\inner\\\\Documents\\\\A_HOMELESS\\\\COC\\\\IncomeBenefits.csv')\n",
    "income.head()"
   ]
  },
  {
   "cell_type": "code",
   "execution_count": 92,
   "metadata": {},
   "outputs": [
    {
     "data": {
      "text/plain": [
       "array(['IncomeBenefitsID', 'EnrollmentID', 'PersonalID',\n",
       "       'InformationDate', 'IncomeFromAnySource', 'TotalMonthlyIncome',\n",
       "       'Earned', 'EarnedAmount', 'Unemployment', 'UnemploymentAmount',\n",
       "       'SSI', 'SSIAmount', 'SSDI', 'SSDIAmount', 'VADisabilityService',\n",
       "       'VADisabilityServiceAmount', 'VADisabilityNonService',\n",
       "       'VADisabilityNonServiceAmount', 'PrivateDisability',\n",
       "       'PrivateDisabilityAmount', 'WorkersComp', 'WorkersCompAmount',\n",
       "       'TANF', 'TANFAmount', 'GA', 'GAAmount', 'SocSecRetirement',\n",
       "       'SocSecRetirementAmount', 'Pension', 'PensionAmount',\n",
       "       'ChildSupport', 'ChildSupportAmount', 'Alimony', 'AlimonyAmount',\n",
       "       'OtherIncomeSource', 'OtherIncomeAmount',\n",
       "       'OtherIncomeSourceIdentify', 'BenefitsFromAnySource', 'SNAP',\n",
       "       'WIC', 'TANFChildCare', 'TANFTransportation', 'OtherTANF',\n",
       "       'OtherBenefitsSource', 'OtherBenefitsSourceIdentify',\n",
       "       'InsuranceFromAnySource', 'Medicaid', 'NoMedicaidReason',\n",
       "       'Medicare', 'NoMedicareReason', 'SCHIP', 'NoSCHIPReason',\n",
       "       'VAMedicalServices', 'NoVAMedReason', 'EmployerProvided',\n",
       "       'NoEmployerProvidedReason', 'COBRA', 'NoCOBRAReason', 'PrivatePay',\n",
       "       'NoPrivatePayReason', 'StateHealthIns', 'NoStateHealthInsReason',\n",
       "       'IndianHealthServices', 'NoIndianHealthServicesReason',\n",
       "       'OtherInsurance', 'OtherInsuranceIdentify', 'HIVAIDSAssistance',\n",
       "       'NoHIVAIDSAssistanceReason', 'ADAP', 'NoADAPReason',\n",
       "       'ConnectionWithSOAR', 'DataCollectionStage', 'DateCreated',\n",
       "       'DateUpdated', 'UserID', 'DateDeleted', 'ExportID'], dtype=object)"
      ]
     },
     "execution_count": 92,
     "metadata": {},
     "output_type": "execute_result"
    }
   ],
   "source": [
    "income.columns.values"
   ]
  },
  {
   "cell_type": "code",
   "execution_count": 93,
   "metadata": {},
   "outputs": [
    {
     "data": {
      "text/html": [
       "<div>\n",
       "<style scoped>\n",
       "    .dataframe tbody tr th:only-of-type {\n",
       "        vertical-align: middle;\n",
       "    }\n",
       "\n",
       "    .dataframe tbody tr th {\n",
       "        vertical-align: top;\n",
       "    }\n",
       "\n",
       "    .dataframe thead th {\n",
       "        text-align: right;\n",
       "    }\n",
       "</style>\n",
       "<table border=\"1\" class=\"dataframe\">\n",
       "  <thead>\n",
       "    <tr style=\"text-align: right;\">\n",
       "      <th></th>\n",
       "      <th>EnrollmentID</th>\n",
       "      <th>PersonalID</th>\n",
       "      <th>InformationDate</th>\n",
       "      <th>IncomeFromAnySource</th>\n",
       "      <th>TotalMonthlyIncome</th>\n",
       "    </tr>\n",
       "  </thead>\n",
       "  <tbody>\n",
       "    <tr>\n",
       "      <th>0</th>\n",
       "      <td>491661</td>\n",
       "      <td>683560</td>\n",
       "      <td>2002-01-11</td>\n",
       "      <td>0</td>\n",
       "      <td>0.0</td>\n",
       "    </tr>\n",
       "    <tr>\n",
       "      <th>1</th>\n",
       "      <td>569055</td>\n",
       "      <td>690852</td>\n",
       "      <td>2007-12-18</td>\n",
       "      <td>1</td>\n",
       "      <td>800.0</td>\n",
       "    </tr>\n",
       "    <tr>\n",
       "      <th>2</th>\n",
       "      <td>578268</td>\n",
       "      <td>324467</td>\n",
       "      <td>2012-08-28</td>\n",
       "      <td>0</td>\n",
       "      <td>0.0</td>\n",
       "    </tr>\n",
       "    <tr>\n",
       "      <th>3</th>\n",
       "      <td>588741</td>\n",
       "      <td>607132</td>\n",
       "      <td>2016-02-02</td>\n",
       "      <td>0</td>\n",
       "      <td>0.0</td>\n",
       "    </tr>\n",
       "    <tr>\n",
       "      <th>4</th>\n",
       "      <td>588742</td>\n",
       "      <td>329416</td>\n",
       "      <td>2016-02-02</td>\n",
       "      <td>0</td>\n",
       "      <td>0.0</td>\n",
       "    </tr>\n",
       "  </tbody>\n",
       "</table>\n",
       "</div>"
      ],
      "text/plain": [
       "   EnrollmentID  PersonalID InformationDate  IncomeFromAnySource  \\\n",
       "0        491661      683560      2002-01-11                    0   \n",
       "1        569055      690852      2007-12-18                    1   \n",
       "2        578268      324467      2012-08-28                    0   \n",
       "3        588741      607132      2016-02-02                    0   \n",
       "4        588742      329416      2016-02-02                    0   \n",
       "\n",
       "   TotalMonthlyIncome  \n",
       "0                 0.0  \n",
       "1               800.0  \n",
       "2                 0.0  \n",
       "3                 0.0  \n",
       "4                 0.0  "
      ]
     },
     "execution_count": 93,
     "metadata": {},
     "output_type": "execute_result"
    }
   ],
   "source": [
    "income = income[['EnrollmentID', 'PersonalID','InformationDate', 'IncomeFromAnySource', 'TotalMonthlyIncome']]\n",
    "income.head()"
   ]
  },
  {
   "cell_type": "code",
   "execution_count": 94,
   "metadata": {},
   "outputs": [
    {
     "data": {
      "text/plain": [
       "(118991, 5)"
      ]
     },
     "execution_count": 94,
     "metadata": {},
     "output_type": "execute_result"
    }
   ],
   "source": [
    "income.shape"
   ]
  },
  {
   "cell_type": "code",
   "execution_count": 95,
   "metadata": {},
   "outputs": [
    {
     "data": {
      "text/plain": [
       "0     52178\n",
       "1     36897\n",
       "99    24102\n",
       "9      5356\n",
       "8       458\n",
       "Name: IncomeFromAnySource, dtype: int64"
      ]
     },
     "execution_count": 95,
     "metadata": {},
     "output_type": "execute_result"
    }
   ],
   "source": [
    "#dealing with missing value\n",
    "income['IncomeFromAnySource'].value_counts()"
   ]
  },
  {
   "cell_type": "code",
   "execution_count": 96,
   "metadata": {},
   "outputs": [
    {
     "data": {
      "text/plain": [
       "0.0    52178\n",
       "1.0    36897\n",
       "Name: IncomeFromAnySource, dtype: int64"
      ]
     },
     "execution_count": 96,
     "metadata": {},
     "output_type": "execute_result"
    }
   ],
   "source": [
    "for m in [8, 9, 99]:\n",
    "    income['IncomeFromAnySource'].replace(m, np.nan, inplace = True)\n",
    "income['IncomeFromAnySource'].value_counts()"
   ]
  },
  {
   "cell_type": "code",
   "execution_count": 97,
   "metadata": {},
   "outputs": [
    {
     "data": {
      "text/plain": [
       "29916"
      ]
     },
     "execution_count": 97,
     "metadata": {},
     "output_type": "execute_result"
    }
   ],
   "source": [
    "np.isnan(income.IncomeFromAnySource).sum()"
   ]
  },
  {
   "cell_type": "code",
   "execution_count": 98,
   "metadata": {},
   "outputs": [
    {
     "data": {
      "text/plain": [
       "29916"
      ]
     },
     "execution_count": 98,
     "metadata": {},
     "output_type": "execute_result"
    }
   ],
   "source": [
    "income[income.IncomeFromAnySource.isnull()]\n",
    "income.IncomeFromAnySource.isnull().sum()"
   ]
  },
  {
   "cell_type": "code",
   "execution_count": 99,
   "metadata": {},
   "outputs": [
    {
     "data": {
      "text/plain": [
       "290683.0"
      ]
     },
     "execution_count": 99,
     "metadata": {},
     "output_type": "execute_result"
    }
   ],
   "source": [
    "income['TotalMonthlyIncome'].min()\n",
    "income['TotalMonthlyIncome'].max()"
   ]
  },
  {
   "cell_type": "code",
   "execution_count": 100,
   "metadata": {},
   "outputs": [
    {
     "data": {
      "text/plain": [
       "118991"
      ]
     },
     "execution_count": 100,
     "metadata": {},
     "output_type": "execute_result"
    }
   ],
   "source": [
    "income.shape[0]"
   ]
  },
  {
   "cell_type": "code",
   "execution_count": 101,
   "metadata": {},
   "outputs": [
    {
     "data": {
      "text/plain": [
       "(114, 5)"
      ]
     },
     "execution_count": 101,
     "metadata": {},
     "output_type": "execute_result"
    }
   ],
   "source": [
    "# discrepancy 1\n",
    "income.loc[(income['TotalMonthlyIncome'] > 0) & (income['IncomeFromAnySource'] == 0)]\n",
    "income.loc[(income['TotalMonthlyIncome'] > 0) & (income['IncomeFromAnySource'] == 0)].shape"
   ]
  },
  {
   "cell_type": "code",
   "execution_count": 102,
   "metadata": {},
   "outputs": [
    {
     "data": {
      "text/plain": [
       "(1085, 5)"
      ]
     },
     "execution_count": 102,
     "metadata": {},
     "output_type": "execute_result"
    }
   ],
   "source": [
    "# discrepancy 2\n",
    "income.loc[(income['TotalMonthlyIncome'] == 0) & (income['IncomeFromAnySource'] == 1)]\n",
    "income.loc[(income['TotalMonthlyIncome'] == 0) & (income['IncomeFromAnySource'] == 1)].shape"
   ]
  },
  {
   "cell_type": "code",
   "execution_count": 103,
   "metadata": {},
   "outputs": [
    {
     "data": {
      "text/html": [
       "<div>\n",
       "<style scoped>\n",
       "    .dataframe tbody tr th:only-of-type {\n",
       "        vertical-align: middle;\n",
       "    }\n",
       "\n",
       "    .dataframe tbody tr th {\n",
       "        vertical-align: top;\n",
       "    }\n",
       "\n",
       "    .dataframe thead th {\n",
       "        text-align: right;\n",
       "    }\n",
       "</style>\n",
       "<table border=\"1\" class=\"dataframe\">\n",
       "  <thead>\n",
       "    <tr style=\"text-align: right;\">\n",
       "      <th></th>\n",
       "      <th>EnrollmentID</th>\n",
       "      <th>PersonalID</th>\n",
       "      <th>InformationDate</th>\n",
       "      <th>IncomeFromAnySource</th>\n",
       "      <th>TotalMonthlyIncome</th>\n",
       "    </tr>\n",
       "  </thead>\n",
       "  <tbody>\n",
       "    <tr>\n",
       "      <th>46</th>\n",
       "      <td>569986</td>\n",
       "      <td>327366</td>\n",
       "      <td>2011-05-20</td>\n",
       "      <td>NaN</td>\n",
       "      <td>0.0</td>\n",
       "    </tr>\n",
       "    <tr>\n",
       "      <th>59</th>\n",
       "      <td>588607</td>\n",
       "      <td>326263</td>\n",
       "      <td>2016-01-26</td>\n",
       "      <td>NaN</td>\n",
       "      <td>0.0</td>\n",
       "    </tr>\n",
       "    <tr>\n",
       "      <th>65</th>\n",
       "      <td>588626</td>\n",
       "      <td>324007</td>\n",
       "      <td>2016-01-27</td>\n",
       "      <td>NaN</td>\n",
       "      <td>0.0</td>\n",
       "    </tr>\n",
       "    <tr>\n",
       "      <th>83</th>\n",
       "      <td>580756</td>\n",
       "      <td>325025</td>\n",
       "      <td>2015-05-04</td>\n",
       "      <td>NaN</td>\n",
       "      <td>0.0</td>\n",
       "    </tr>\n",
       "    <tr>\n",
       "      <th>84</th>\n",
       "      <td>575686</td>\n",
       "      <td>328431</td>\n",
       "      <td>2015-05-03</td>\n",
       "      <td>NaN</td>\n",
       "      <td>0.0</td>\n",
       "    </tr>\n",
       "  </tbody>\n",
       "</table>\n",
       "</div>"
      ],
      "text/plain": [
       "    EnrollmentID  PersonalID InformationDate  IncomeFromAnySource  \\\n",
       "46        569986      327366      2011-05-20                  NaN   \n",
       "59        588607      326263      2016-01-26                  NaN   \n",
       "65        588626      324007      2016-01-27                  NaN   \n",
       "83        580756      325025      2015-05-04                  NaN   \n",
       "84        575686      328431      2015-05-03                  NaN   \n",
       "\n",
       "    TotalMonthlyIncome  \n",
       "46                 0.0  \n",
       "59                 0.0  \n",
       "65                 0.0  \n",
       "83                 0.0  \n",
       "84                 0.0  "
      ]
     },
     "execution_count": 103,
     "metadata": {},
     "output_type": "execute_result"
    }
   ],
   "source": [
    "incomenan = income.loc[income.IncomeFromAnySource.isnull()]\n",
    "incomenan.head()"
   ]
  },
  {
   "cell_type": "code",
   "execution_count": 104,
   "metadata": {},
   "outputs": [
    {
     "data": {
      "text/html": [
       "<div>\n",
       "<style scoped>\n",
       "    .dataframe tbody tr th:only-of-type {\n",
       "        vertical-align: middle;\n",
       "    }\n",
       "\n",
       "    .dataframe tbody tr th {\n",
       "        vertical-align: top;\n",
       "    }\n",
       "\n",
       "    .dataframe thead th {\n",
       "        text-align: right;\n",
       "    }\n",
       "</style>\n",
       "<table border=\"1\" class=\"dataframe\">\n",
       "  <thead>\n",
       "    <tr style=\"text-align: right;\">\n",
       "      <th></th>\n",
       "      <th>EnrollmentID</th>\n",
       "      <th>PersonalID</th>\n",
       "      <th>InformationDate</th>\n",
       "      <th>IncomeFromAnySource</th>\n",
       "      <th>TotalMonthlyIncome</th>\n",
       "    </tr>\n",
       "  </thead>\n",
       "  <tbody>\n",
       "    <tr>\n",
       "      <th>0</th>\n",
       "      <td>491661</td>\n",
       "      <td>683560</td>\n",
       "      <td>2002-01-11</td>\n",
       "      <td>0.0</td>\n",
       "      <td>0.0</td>\n",
       "    </tr>\n",
       "    <tr>\n",
       "      <th>1</th>\n",
       "      <td>569055</td>\n",
       "      <td>690852</td>\n",
       "      <td>2007-12-18</td>\n",
       "      <td>1.0</td>\n",
       "      <td>800.0</td>\n",
       "    </tr>\n",
       "    <tr>\n",
       "      <th>2</th>\n",
       "      <td>578268</td>\n",
       "      <td>324467</td>\n",
       "      <td>2012-08-28</td>\n",
       "      <td>0.0</td>\n",
       "      <td>0.0</td>\n",
       "    </tr>\n",
       "    <tr>\n",
       "      <th>3</th>\n",
       "      <td>588741</td>\n",
       "      <td>607132</td>\n",
       "      <td>2016-02-02</td>\n",
       "      <td>0.0</td>\n",
       "      <td>0.0</td>\n",
       "    </tr>\n",
       "    <tr>\n",
       "      <th>4</th>\n",
       "      <td>588742</td>\n",
       "      <td>329416</td>\n",
       "      <td>2016-02-02</td>\n",
       "      <td>0.0</td>\n",
       "      <td>0.0</td>\n",
       "    </tr>\n",
       "  </tbody>\n",
       "</table>\n",
       "</div>"
      ],
      "text/plain": [
       "   EnrollmentID  PersonalID InformationDate  IncomeFromAnySource  \\\n",
       "0        491661      683560      2002-01-11                  0.0   \n",
       "1        569055      690852      2007-12-18                  1.0   \n",
       "2        578268      324467      2012-08-28                  0.0   \n",
       "3        588741      607132      2016-02-02                  0.0   \n",
       "4        588742      329416      2016-02-02                  0.0   \n",
       "\n",
       "   TotalMonthlyIncome  \n",
       "0                 0.0  \n",
       "1               800.0  \n",
       "2                 0.0  \n",
       "3                 0.0  \n",
       "4                 0.0  "
      ]
     },
     "execution_count": 104,
     "metadata": {},
     "output_type": "execute_result"
    }
   ],
   "source": [
    "incomeNotnan = income.loc[~income.IncomeFromAnySource.isnull()]\n",
    "incomeNotnan.head()"
   ]
  },
  {
   "cell_type": "code",
   "execution_count": 105,
   "metadata": {},
   "outputs": [
    {
     "name": "stderr",
     "output_type": "stream",
     "text": [
      "C:\\Users\\inner\\Anaconda3\\lib\\site-packages\\ipykernel_launcher.py:5: SettingWithCopyWarning: \n",
      "A value is trying to be set on a copy of a slice from a DataFrame.\n",
      "Try using .loc[row_indexer,col_indexer] = value instead\n",
      "\n",
      "See the caveats in the documentation: http://pandas.pydata.org/pandas-docs/stable/indexing.html#indexing-view-versus-copy\n",
      "  \"\"\"\n"
     ]
    }
   ],
   "source": [
    "# for r in range(0, income.shape[0]):\n",
    "#     if income['TotalMonthlyIncome'][r] > 0:\n",
    "#         income['IncomeFromAnySource'][r]=1\n",
    "\n",
    "incomeNotnan['IncomeFromAnySource'] = np.where(incomeNotnan['TotalMonthlyIncome']>0, 1, 0)"
   ]
  },
  {
   "cell_type": "code",
   "execution_count": 106,
   "metadata": {},
   "outputs": [
    {
     "data": {
      "text/html": [
       "<div>\n",
       "<style scoped>\n",
       "    .dataframe tbody tr th:only-of-type {\n",
       "        vertical-align: middle;\n",
       "    }\n",
       "\n",
       "    .dataframe tbody tr th {\n",
       "        vertical-align: top;\n",
       "    }\n",
       "\n",
       "    .dataframe thead th {\n",
       "        text-align: right;\n",
       "    }\n",
       "</style>\n",
       "<table border=\"1\" class=\"dataframe\">\n",
       "  <thead>\n",
       "    <tr style=\"text-align: right;\">\n",
       "      <th></th>\n",
       "      <th>EnrollmentID</th>\n",
       "      <th>PersonalID</th>\n",
       "      <th>InformationDate</th>\n",
       "      <th>IncomeFromAnySource</th>\n",
       "      <th>TotalMonthlyIncome</th>\n",
       "    </tr>\n",
       "  </thead>\n",
       "  <tbody>\n",
       "    <tr>\n",
       "      <th>82737</th>\n",
       "      <td>10878</td>\n",
       "      <td>323210</td>\n",
       "      <td>2013-09-03</td>\n",
       "      <td>0.0</td>\n",
       "      <td>NaN</td>\n",
       "    </tr>\n",
       "    <tr>\n",
       "      <th>83224</th>\n",
       "      <td>10878</td>\n",
       "      <td>323210</td>\n",
       "      <td>2014-01-24</td>\n",
       "      <td>0.0</td>\n",
       "      <td>NaN</td>\n",
       "    </tr>\n",
       "    <tr>\n",
       "      <th>83003</th>\n",
       "      <td>10878</td>\n",
       "      <td>323210</td>\n",
       "      <td>2013-09-03</td>\n",
       "      <td>0.0</td>\n",
       "      <td>NaN</td>\n",
       "    </tr>\n",
       "    <tr>\n",
       "      <th>83004</th>\n",
       "      <td>10888</td>\n",
       "      <td>204313</td>\n",
       "      <td>2013-09-06</td>\n",
       "      <td>0.0</td>\n",
       "      <td>NaN</td>\n",
       "    </tr>\n",
       "    <tr>\n",
       "      <th>83225</th>\n",
       "      <td>10888</td>\n",
       "      <td>204313</td>\n",
       "      <td>2014-05-13</td>\n",
       "      <td>0.0</td>\n",
       "      <td>NaN</td>\n",
       "    </tr>\n",
       "  </tbody>\n",
       "</table>\n",
       "</div>"
      ],
      "text/plain": [
       "       EnrollmentID  PersonalID InformationDate  IncomeFromAnySource  \\\n",
       "82737         10878      323210      2013-09-03                  0.0   \n",
       "83224         10878      323210      2014-01-24                  0.0   \n",
       "83003         10878      323210      2013-09-03                  0.0   \n",
       "83004         10888      204313      2013-09-06                  0.0   \n",
       "83225         10888      204313      2014-05-13                  0.0   \n",
       "\n",
       "       TotalMonthlyIncome  \n",
       "82737                 NaN  \n",
       "83224                 NaN  \n",
       "83003                 NaN  \n",
       "83004                 NaN  \n",
       "83225                 NaN  "
      ]
     },
     "execution_count": 106,
     "metadata": {},
     "output_type": "execute_result"
    }
   ],
   "source": [
    "income = pd.concat([incomenan,incomeNotnan])\n",
    "income = income.sort_values(['EnrollmentID'])\n",
    "income.head()"
   ]
  },
  {
   "cell_type": "code",
   "execution_count": 107,
   "metadata": {},
   "outputs": [
    {
     "data": {
      "text/plain": [
       "(0, 5)"
      ]
     },
     "execution_count": 107,
     "metadata": {},
     "output_type": "execute_result"
    }
   ],
   "source": [
    "income.loc[(income['TotalMonthlyIncome'] > 0) & (income['IncomeFromAnySource'] == 0)].shape"
   ]
  },
  {
   "cell_type": "code",
   "execution_count": 108,
   "metadata": {},
   "outputs": [
    {
     "data": {
      "text/plain": [
       "(0, 5)"
      ]
     },
     "execution_count": 108,
     "metadata": {},
     "output_type": "execute_result"
    }
   ],
   "source": [
    "income.loc[(income['TotalMonthlyIncome'] == 0) & (income['IncomeFromAnySource'] == 1)].shape"
   ]
  },
  {
   "cell_type": "code",
   "execution_count": 109,
   "metadata": {},
   "outputs": [
    {
     "data": {
      "text/plain": [
       "29916"
      ]
     },
     "execution_count": 109,
     "metadata": {},
     "output_type": "execute_result"
    }
   ],
   "source": [
    "np.isnan(income.IncomeFromAnySource).sum()"
   ]
  },
  {
   "cell_type": "code",
   "execution_count": 110,
   "metadata": {},
   "outputs": [
    {
     "data": {
      "text/html": [
       "<div>\n",
       "<style scoped>\n",
       "    .dataframe tbody tr th:only-of-type {\n",
       "        vertical-align: middle;\n",
       "    }\n",
       "\n",
       "    .dataframe tbody tr th {\n",
       "        vertical-align: top;\n",
       "    }\n",
       "\n",
       "    .dataframe thead th {\n",
       "        text-align: right;\n",
       "    }\n",
       "</style>\n",
       "<table border=\"1\" class=\"dataframe\">\n",
       "  <thead>\n",
       "    <tr style=\"text-align: right;\">\n",
       "      <th></th>\n",
       "      <th>EnrollmentID</th>\n",
       "      <th>PersonalID</th>\n",
       "      <th>InformationDate</th>\n",
       "      <th>IncomeFromAnySource</th>\n",
       "    </tr>\n",
       "  </thead>\n",
       "  <tbody>\n",
       "    <tr>\n",
       "      <th>82737</th>\n",
       "      <td>10878</td>\n",
       "      <td>323210</td>\n",
       "      <td>2013-09-03</td>\n",
       "      <td>0.0</td>\n",
       "    </tr>\n",
       "    <tr>\n",
       "      <th>83224</th>\n",
       "      <td>10878</td>\n",
       "      <td>323210</td>\n",
       "      <td>2014-01-24</td>\n",
       "      <td>0.0</td>\n",
       "    </tr>\n",
       "    <tr>\n",
       "      <th>83003</th>\n",
       "      <td>10878</td>\n",
       "      <td>323210</td>\n",
       "      <td>2013-09-03</td>\n",
       "      <td>0.0</td>\n",
       "    </tr>\n",
       "    <tr>\n",
       "      <th>83004</th>\n",
       "      <td>10888</td>\n",
       "      <td>204313</td>\n",
       "      <td>2013-09-06</td>\n",
       "      <td>0.0</td>\n",
       "    </tr>\n",
       "    <tr>\n",
       "      <th>83225</th>\n",
       "      <td>10888</td>\n",
       "      <td>204313</td>\n",
       "      <td>2014-05-13</td>\n",
       "      <td>0.0</td>\n",
       "    </tr>\n",
       "  </tbody>\n",
       "</table>\n",
       "</div>"
      ],
      "text/plain": [
       "       EnrollmentID  PersonalID InformationDate  IncomeFromAnySource\n",
       "82737         10878      323210      2013-09-03                  0.0\n",
       "83224         10878      323210      2014-01-24                  0.0\n",
       "83003         10878      323210      2013-09-03                  0.0\n",
       "83004         10888      204313      2013-09-06                  0.0\n",
       "83225         10888      204313      2014-05-13                  0.0"
      ]
     },
     "execution_count": 110,
     "metadata": {},
     "output_type": "execute_result"
    }
   ],
   "source": [
    "# final income\n",
    "income = income [['EnrollmentID', 'PersonalID','InformationDate', 'IncomeFromAnySource']]\n",
    "income.head()"
   ]
  },
  {
   "cell_type": "code",
   "execution_count": 111,
   "metadata": {},
   "outputs": [
    {
     "data": {
      "text/html": [
       "<div>\n",
       "<style scoped>\n",
       "    .dataframe tbody tr th:only-of-type {\n",
       "        vertical-align: middle;\n",
       "    }\n",
       "\n",
       "    .dataframe tbody tr th {\n",
       "        vertical-align: top;\n",
       "    }\n",
       "\n",
       "    .dataframe thead th {\n",
       "        text-align: right;\n",
       "    }\n",
       "</style>\n",
       "<table border=\"1\" class=\"dataframe\">\n",
       "  <thead>\n",
       "    <tr style=\"text-align: right;\">\n",
       "      <th></th>\n",
       "      <th>EnrollmentID</th>\n",
       "      <th>PersonalID</th>\n",
       "      <th>InformationDate</th>\n",
       "      <th>IncomeFromAnySource</th>\n",
       "    </tr>\n",
       "  </thead>\n",
       "  <tbody>\n",
       "    <tr>\n",
       "      <th>94559</th>\n",
       "      <td>478058</td>\n",
       "      <td>203838</td>\n",
       "      <td>2018-01-12</td>\n",
       "      <td>1.0</td>\n",
       "    </tr>\n",
       "    <tr>\n",
       "      <th>47819</th>\n",
       "      <td>478058</td>\n",
       "      <td>203838</td>\n",
       "      <td>2017-01-12</td>\n",
       "      <td>1.0</td>\n",
       "    </tr>\n",
       "    <tr>\n",
       "      <th>34354</th>\n",
       "      <td>478058</td>\n",
       "      <td>203838</td>\n",
       "      <td>2016-01-11</td>\n",
       "      <td>1.0</td>\n",
       "    </tr>\n",
       "    <tr>\n",
       "      <th>21283</th>\n",
       "      <td>478058</td>\n",
       "      <td>203838</td>\n",
       "      <td>2015-01-12</td>\n",
       "      <td>1.0</td>\n",
       "    </tr>\n",
       "    <tr>\n",
       "      <th>101889</th>\n",
       "      <td>478068</td>\n",
       "      <td>299000</td>\n",
       "      <td>2013-08-09</td>\n",
       "      <td>0.0</td>\n",
       "    </tr>\n",
       "  </tbody>\n",
       "</table>\n",
       "</div>"
      ],
      "text/plain": [
       "        EnrollmentID  PersonalID InformationDate  IncomeFromAnySource\n",
       "94559         478058      203838      2018-01-12                  1.0\n",
       "47819         478058      203838      2017-01-12                  1.0\n",
       "34354         478058      203838      2016-01-11                  1.0\n",
       "21283         478058      203838      2015-01-12                  1.0\n",
       "101889        478068      299000      2013-08-09                  0.0"
      ]
     },
     "execution_count": 111,
     "metadata": {},
     "output_type": "execute_result"
    }
   ],
   "source": [
    "## select those in PSI enrollment\n",
    "incomePsi = income.loc[income.EnrollmentID.isin(psiEnrollment.EnrollmentID)]\n",
    "# incomePsi = income[income.EnrollmentID.isin(psiEnrollment.EnrollmentID)]\n",
    "incomePsi.head()"
   ]
  },
  {
   "cell_type": "code",
   "execution_count": 112,
   "metadata": {},
   "outputs": [
    {
     "data": {
      "text/plain": [
       "(65624, 4)"
      ]
     },
     "execution_count": 112,
     "metadata": {},
     "output_type": "execute_result"
    }
   ],
   "source": [
    "incomePsi.shape"
   ]
  },
  {
   "cell_type": "code",
   "execution_count": 113,
   "metadata": {},
   "outputs": [
    {
     "data": {
      "text/plain": [
       "10746"
      ]
     },
     "execution_count": 113,
     "metadata": {},
     "output_type": "execute_result"
    }
   ],
   "source": [
    "incomePsi.IncomeFromAnySource.isnull().sum()"
   ]
  },
  {
   "cell_type": "code",
   "execution_count": 114,
   "metadata": {},
   "outputs": [
    {
     "data": {
      "text/plain": [
       "EnrollmentID\n",
       "478058    2018-01-12\n",
       "478068    2016-12-13\n",
       "478069    2017-03-21\n",
       "478073    2016-10-12\n",
       "478076    2016-11-30\n",
       "Name: InformationDate, dtype: object"
      ]
     },
     "execution_count": 114,
     "metadata": {},
     "output_type": "execute_result"
    }
   ],
   "source": [
    "incomePsi.groupby(['EnrollmentID'])['InformationDate'].max().head()"
   ]
  },
  {
   "cell_type": "code",
   "execution_count": 115,
   "metadata": {},
   "outputs": [
    {
     "data": {
      "text/html": [
       "<div>\n",
       "<style scoped>\n",
       "    .dataframe tbody tr th:only-of-type {\n",
       "        vertical-align: middle;\n",
       "    }\n",
       "\n",
       "    .dataframe tbody tr th {\n",
       "        vertical-align: top;\n",
       "    }\n",
       "\n",
       "    .dataframe thead th {\n",
       "        text-align: right;\n",
       "    }\n",
       "</style>\n",
       "<table border=\"1\" class=\"dataframe\">\n",
       "  <thead>\n",
       "    <tr style=\"text-align: right;\">\n",
       "      <th></th>\n",
       "      <th>InformationDate</th>\n",
       "    </tr>\n",
       "    <tr>\n",
       "      <th>EnrollmentID</th>\n",
       "      <th></th>\n",
       "    </tr>\n",
       "  </thead>\n",
       "  <tbody>\n",
       "    <tr>\n",
       "      <th>478058</th>\n",
       "      <td>2018-01-12</td>\n",
       "    </tr>\n",
       "    <tr>\n",
       "      <th>478068</th>\n",
       "      <td>2016-12-13</td>\n",
       "    </tr>\n",
       "    <tr>\n",
       "      <th>478069</th>\n",
       "      <td>2017-03-21</td>\n",
       "    </tr>\n",
       "    <tr>\n",
       "      <th>478073</th>\n",
       "      <td>2016-10-12</td>\n",
       "    </tr>\n",
       "    <tr>\n",
       "      <th>478076</th>\n",
       "      <td>2016-11-30</td>\n",
       "    </tr>\n",
       "  </tbody>\n",
       "</table>\n",
       "</div>"
      ],
      "text/plain": [
       "             InformationDate\n",
       "EnrollmentID                \n",
       "478058            2018-01-12\n",
       "478068            2016-12-13\n",
       "478069            2017-03-21\n",
       "478073            2016-10-12\n",
       "478076            2016-11-30"
      ]
     },
     "execution_count": 115,
     "metadata": {},
     "output_type": "execute_result"
    }
   ],
   "source": [
    "incomerecent = pd.DataFrame(incomePsi.groupby(['EnrollmentID'])['InformationDate'].max())\n",
    "incomerecent.head()"
   ]
  },
  {
   "cell_type": "code",
   "execution_count": 116,
   "metadata": {},
   "outputs": [
    {
     "data": {
      "text/html": [
       "<div>\n",
       "<style scoped>\n",
       "    .dataframe tbody tr th:only-of-type {\n",
       "        vertical-align: middle;\n",
       "    }\n",
       "\n",
       "    .dataframe tbody tr th {\n",
       "        vertical-align: top;\n",
       "    }\n",
       "\n",
       "    .dataframe thead th {\n",
       "        text-align: right;\n",
       "    }\n",
       "</style>\n",
       "<table border=\"1\" class=\"dataframe\">\n",
       "  <thead>\n",
       "    <tr style=\"text-align: right;\">\n",
       "      <th></th>\n",
       "      <th>EnrollmentID</th>\n",
       "      <th>InformationDate</th>\n",
       "    </tr>\n",
       "  </thead>\n",
       "  <tbody>\n",
       "    <tr>\n",
       "      <th>0</th>\n",
       "      <td>478058</td>\n",
       "      <td>2018-01-12</td>\n",
       "    </tr>\n",
       "    <tr>\n",
       "      <th>1</th>\n",
       "      <td>478068</td>\n",
       "      <td>2016-12-13</td>\n",
       "    </tr>\n",
       "    <tr>\n",
       "      <th>2</th>\n",
       "      <td>478069</td>\n",
       "      <td>2017-03-21</td>\n",
       "    </tr>\n",
       "    <tr>\n",
       "      <th>3</th>\n",
       "      <td>478073</td>\n",
       "      <td>2016-10-12</td>\n",
       "    </tr>\n",
       "    <tr>\n",
       "      <th>4</th>\n",
       "      <td>478076</td>\n",
       "      <td>2016-11-30</td>\n",
       "    </tr>\n",
       "  </tbody>\n",
       "</table>\n",
       "</div>"
      ],
      "text/plain": [
       "   EnrollmentID InformationDate\n",
       "0        478058      2018-01-12\n",
       "1        478068      2016-12-13\n",
       "2        478069      2017-03-21\n",
       "3        478073      2016-10-12\n",
       "4        478076      2016-11-30"
      ]
     },
     "execution_count": 116,
     "metadata": {},
     "output_type": "execute_result"
    }
   ],
   "source": [
    "incomerecent.reset_index(inplace = True)\n",
    "incomerecent.head()"
   ]
  },
  {
   "cell_type": "code",
   "execution_count": 117,
   "metadata": {},
   "outputs": [
    {
     "data": {
      "text/html": [
       "<div>\n",
       "<style scoped>\n",
       "    .dataframe tbody tr th:only-of-type {\n",
       "        vertical-align: middle;\n",
       "    }\n",
       "\n",
       "    .dataframe tbody tr th {\n",
       "        vertical-align: top;\n",
       "    }\n",
       "\n",
       "    .dataframe thead th {\n",
       "        text-align: right;\n",
       "    }\n",
       "</style>\n",
       "<table border=\"1\" class=\"dataframe\">\n",
       "  <thead>\n",
       "    <tr style=\"text-align: right;\">\n",
       "      <th></th>\n",
       "      <th>EnrollmentID</th>\n",
       "      <th>InformationDate</th>\n",
       "      <th>PersonalID</th>\n",
       "      <th>IncomeFromAnySource</th>\n",
       "    </tr>\n",
       "  </thead>\n",
       "  <tbody>\n",
       "    <tr>\n",
       "      <th>0</th>\n",
       "      <td>478058</td>\n",
       "      <td>2018-01-12</td>\n",
       "      <td>203838</td>\n",
       "      <td>1.0</td>\n",
       "    </tr>\n",
       "    <tr>\n",
       "      <th>1</th>\n",
       "      <td>478068</td>\n",
       "      <td>2016-12-13</td>\n",
       "      <td>299000</td>\n",
       "      <td>0.0</td>\n",
       "    </tr>\n",
       "    <tr>\n",
       "      <th>2</th>\n",
       "      <td>478069</td>\n",
       "      <td>2017-03-21</td>\n",
       "      <td>328686</td>\n",
       "      <td>0.0</td>\n",
       "    </tr>\n",
       "    <tr>\n",
       "      <th>3</th>\n",
       "      <td>478073</td>\n",
       "      <td>2016-10-12</td>\n",
       "      <td>333039</td>\n",
       "      <td>0.0</td>\n",
       "    </tr>\n",
       "    <tr>\n",
       "      <th>4</th>\n",
       "      <td>478076</td>\n",
       "      <td>2016-11-30</td>\n",
       "      <td>386949</td>\n",
       "      <td>NaN</td>\n",
       "    </tr>\n",
       "  </tbody>\n",
       "</table>\n",
       "</div>"
      ],
      "text/plain": [
       "   EnrollmentID InformationDate  PersonalID  IncomeFromAnySource\n",
       "0        478058      2018-01-12      203838                  1.0\n",
       "1        478068      2016-12-13      299000                  0.0\n",
       "2        478069      2017-03-21      328686                  0.0\n",
       "3        478073      2016-10-12      333039                  0.0\n",
       "4        478076      2016-11-30      386949                  NaN"
      ]
     },
     "execution_count": 117,
     "metadata": {},
     "output_type": "execute_result"
    }
   ],
   "source": [
    "incomePsi = pd.merge(incomerecent,incomePsi, how = 'inner', on = ['EnrollmentID','InformationDate'])\n",
    "incomePsi.head()"
   ]
  },
  {
   "cell_type": "code",
   "execution_count": 118,
   "metadata": {},
   "outputs": [
    {
     "data": {
      "text/plain": [
       "(34373, 4)"
      ]
     },
     "execution_count": 118,
     "metadata": {},
     "output_type": "execute_result"
    }
   ],
   "source": [
    "incomePsi.shape"
   ]
  },
  {
   "cell_type": "code",
   "execution_count": 119,
   "metadata": {},
   "outputs": [
    {
     "data": {
      "text/plain": [
       "15581"
      ]
     },
     "execution_count": 119,
     "metadata": {},
     "output_type": "execute_result"
    }
   ],
   "source": [
    "incomePsi.PersonalID.nunique()"
   ]
  },
  {
   "cell_type": "code",
   "execution_count": 120,
   "metadata": {},
   "outputs": [
    {
     "data": {
      "text/html": [
       "<div>\n",
       "<style scoped>\n",
       "    .dataframe tbody tr th:only-of-type {\n",
       "        vertical-align: middle;\n",
       "    }\n",
       "\n",
       "    .dataframe tbody tr th {\n",
       "        vertical-align: top;\n",
       "    }\n",
       "\n",
       "    .dataframe thead th {\n",
       "        text-align: right;\n",
       "    }\n",
       "</style>\n",
       "<table border=\"1\" class=\"dataframe\">\n",
       "  <thead>\n",
       "    <tr style=\"text-align: right;\">\n",
       "      <th></th>\n",
       "      <th>PersonalID</th>\n",
       "      <th>InformationDate</th>\n",
       "      <th>EnrollmentID</th>\n",
       "      <th>IncomeFromAnySource</th>\n",
       "    </tr>\n",
       "  </thead>\n",
       "  <tbody>\n",
       "    <tr>\n",
       "      <th>0</th>\n",
       "      <td>200225</td>\n",
       "      <td>2014-07-22</td>\n",
       "      <td>510658</td>\n",
       "      <td>NaN</td>\n",
       "    </tr>\n",
       "    <tr>\n",
       "      <th>1</th>\n",
       "      <td>200230</td>\n",
       "      <td>2017-02-12</td>\n",
       "      <td>604085</td>\n",
       "      <td>1.0</td>\n",
       "    </tr>\n",
       "    <tr>\n",
       "      <th>2</th>\n",
       "      <td>200279</td>\n",
       "      <td>2016-09-30</td>\n",
       "      <td>524920</td>\n",
       "      <td>1.0</td>\n",
       "    </tr>\n",
       "    <tr>\n",
       "      <th>3</th>\n",
       "      <td>200301</td>\n",
       "      <td>2015-10-11</td>\n",
       "      <td>534020</td>\n",
       "      <td>NaN</td>\n",
       "    </tr>\n",
       "    <tr>\n",
       "      <th>4</th>\n",
       "      <td>200380</td>\n",
       "      <td>2018-05-21</td>\n",
       "      <td>837367</td>\n",
       "      <td>NaN</td>\n",
       "    </tr>\n",
       "  </tbody>\n",
       "</table>\n",
       "</div>"
      ],
      "text/plain": [
       "   PersonalID InformationDate  EnrollmentID  IncomeFromAnySource\n",
       "0      200225      2014-07-22        510658                  NaN\n",
       "1      200230      2017-02-12        604085                  1.0\n",
       "2      200279      2016-09-30        524920                  1.0\n",
       "3      200301      2015-10-11        534020                  NaN\n",
       "4      200380      2018-05-21        837367                  NaN"
      ]
     },
     "execution_count": 120,
     "metadata": {},
     "output_type": "execute_result"
    }
   ],
   "source": [
    "incomePsiforAnalysis = pd.DataFrame(incomePsi.groupby(['PersonalID'])['InformationDate'].max())\n",
    "incomePsiforAnalysis.head()\n",
    "\n",
    "incomePsiforAnalysis.reset_index(inplace = True)\n",
    "incomePsiforAnalysis.head()\n",
    "\n",
    "incomePsiforAnalysis = pd.merge(incomePsiforAnalysis,incomePsi, how = 'inner', on = ['PersonalID','InformationDate'])\n",
    "incomePsiforAnalysis.head()"
   ]
  },
  {
   "cell_type": "code",
   "execution_count": 121,
   "metadata": {},
   "outputs": [
    {
     "data": {
      "text/plain": [
       "(15898, 4)"
      ]
     },
     "execution_count": 121,
     "metadata": {},
     "output_type": "execute_result"
    }
   ],
   "source": [
    "incomePsiforAnalysis.shape"
   ]
  },
  {
   "cell_type": "code",
   "execution_count": 122,
   "metadata": {},
   "outputs": [
    {
     "data": {
      "text/plain": [
       "15581"
      ]
     },
     "execution_count": 122,
     "metadata": {},
     "output_type": "execute_result"
    }
   ],
   "source": [
    "incomePsiforAnalysis.PersonalID.nunique()"
   ]
  },
  {
   "cell_type": "code",
   "execution_count": 123,
   "metadata": {},
   "outputs": [],
   "source": [
    "incomePsiforAnalysis.drop_duplicates(subset = ['PersonalID','InformationDate'], keep = 'first', inplace = True)"
   ]
  },
  {
   "cell_type": "code",
   "execution_count": 124,
   "metadata": {},
   "outputs": [
    {
     "data": {
      "text/plain": [
       "(15581, 4)"
      ]
     },
     "execution_count": 124,
     "metadata": {},
     "output_type": "execute_result"
    }
   ],
   "source": [
    "## Domestic Violence Victim\n",
    "\n",
    "incomePsiforAnalysis.shape  # Income PSI For Analysis"
   ]
  },
  {
   "cell_type": "code",
   "execution_count": 125,
   "metadata": {},
   "outputs": [
    {
     "data": {
      "text/plain": [
       "2868"
      ]
     },
     "execution_count": 125,
     "metadata": {},
     "output_type": "execute_result"
    }
   ],
   "source": [
    "incomePsiforAnalysis.IncomeFromAnySource.isnull().sum()"
   ]
  },
  {
   "cell_type": "markdown",
   "metadata": {},
   "source": [
    "## Disability type"
   ]
  },
  {
   "cell_type": "markdown",
   "metadata": {},
   "source": [
    "## General Health Status"
   ]
  },
  {
   "cell_type": "markdown",
   "metadata": {},
   "source": [
    "## Education"
   ]
  },
  {
   "cell_type": "markdown",
   "metadata": {},
   "source": [
    "## Employment"
   ]
  },
  {
   "cell_type": "code",
   "execution_count": null,
   "metadata": {},
   "outputs": [],
   "source": []
  }
 ],
 "metadata": {
  "kernelspec": {
   "display_name": "Python 3",
   "language": "python",
   "name": "python3"
  },
  "language_info": {
   "codemirror_mode": {
    "name": "ipython",
    "version": 3
   },
   "file_extension": ".py",
   "mimetype": "text/x-python",
   "name": "python",
   "nbconvert_exporter": "python",
   "pygments_lexer": "ipython3",
   "version": "3.7.2"
  }
 },
 "nbformat": 4,
 "nbformat_minor": 2
}
